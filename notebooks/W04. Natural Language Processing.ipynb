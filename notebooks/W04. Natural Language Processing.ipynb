{
  "cells": [
    {
      "cell_type": "markdown",
      "metadata": {
        "id": "cxouC6cfjAYL"
      },
      "source": [
        "# Natural Language Processing\n",
        "\n",
        "## *Workshop 4*  [![Open In Colab](https://github.com/oballinger/QM2/blob/main/colab-badge.png?raw=1)](https://colab.research.google.com/github/oballinger/QM2/blob/main/notebooks/W04.%20Natural%20Language%20Processing.ipynb)\n"
      ]
    },
    {
      "cell_type": "markdown",
      "metadata": {
        "id": "3sLO5n6tnemE"
      },
      "source": [
        "## Background\n",
        "\n",
        "Exxon Mobil is the 4th largest oil company in the world. In 1978, an Exxon scientist named James Black wrote an [internal briefing](https://insideclimatenews.org/documents/james-black-1977-presentation/) called \"The Greenhouse Effect\" in which he warned: “Present thinking holds that man has a time window of five to ten years before the need for hard decisions regarding changes in energy strategies might become critical.”\n",
        "\n",
        "Rather than acting on this information, Exxon spent the next [forty years aggressively funding climate denial](https://news.harvard.edu/gazette/story/2021/09/oil-companies-discourage-climate-action-study-says/). Recently, [a U.S. court ruled](https://www.theguardian.com/environment/2022/may/24/exxon-trial-climate-crimes-fossil-fuels-global-heating) that ExxonMobil must face trial over accusations that it lied about the climate crisis and covered up the fossil fuel industry’s role in worsening environmental devastation.\n",
        "\n",
        "### Earnings Calls\n",
        "Every three months, Exxon conducts an [\"earnings call\"](https://www.investopedia.com/terms/e/earnings-call.asp); a conference call between the management of a public company, analysts, investors, and the media to discuss the company’s financial results during a given reporting period, such as a quarter or a fiscal year.\n",
        "\n",
        "You can [register](https://globalmeet.webcasts.com/starthere.jsp?ei=1488251&tp_key=440e363aaf) to attend their next one if you want! No worries if you miss it, they provide [transcripts](https://corporate.exxonmobil.com/Investors/Investor-relations/Investor-materials-archive#Quarterlyearningsmaterials) on their website.\n",
        "\n",
        "These transcripts provide an intimate window into the company's dealings. We can see how much pressure investors are putting on the company to tackle climate change, and how the company responds.\n",
        "\n",
        "We'll be working with transcripts spanning nealry 20 years and over 10 million words; that's like reading the Harry Potter series 10 times. Then, we'll look at a sample of 100,000 tweets that use the #ExxonKnew hashtag, and analyze public pressure on the company."
      ]
    },
    {
      "cell_type": "markdown",
      "metadata": {
        "id": "zIhVuwMlbvQC"
      },
      "source": [
        "![](https://haha.business/business.jpg)\n"
      ]
    },
    {
      "cell_type": "markdown",
      "metadata": {
        "id": "RZwtwz53jAYM"
      },
      "source": [
        "## Downloading the Data\n",
        "Let's grab the data we will need this week from our course website and save it into our data folder. If you've not already created a data folder then do so using the following command.\n",
        "\n",
        "Don't worry if it generates an error, that means you've already got a data folder."
      ]
    },
    {
      "cell_type": "code",
      "execution_count": 1,
      "metadata": {
        "id": "c8OXlIf2jAYN"
      },
      "outputs": [],
      "source": [
        "%%capture\n",
        "!pip install spacy\n",
        "!pip install scattertext\n",
        "!pip install tika\n",
        "!pip install spacytextblob"
      ]
    },
    {
      "cell_type": "code",
      "execution_count": 2,
      "metadata": {
        "id": "AeYFCcv4jAYT"
      },
      "outputs": [],
      "source": [
        "#Make a ./data/wk4 directory\n",
        "!mkdir data\n",
        "!mkdir data/wk4"
      ]
    },
    {
      "cell_type": "code",
      "execution_count": 3,
      "metadata": {
        "colab": {
          "base_uri": "https://localhost:8080/"
        },
        "id": "FbImGRYTq3D9",
        "outputId": "1d53c5a2-b259-477e-b4c2-ac2d2e2d37a7"
      },
      "outputs": [
        {
          "output_type": "stream",
          "name": "stdout",
          "text": [
            "  % Total    % Received % Xferd  Average Speed   Time    Time     Time  Current\n",
            "                                 Dload  Upload   Total   Spent    Left  Speed\n",
            "100 10.5M  100 10.5M    0     0  34.3M      0 --:--:-- --:--:-- --:--:-- 34.3M\n"
          ]
        }
      ],
      "source": [
        "!curl https://storage.googleapis.com/qm2/wk4/Exxon.json -o data/wk4/Exxon.json"
      ]
    },
    {
      "cell_type": "code",
      "execution_count": 27,
      "metadata": {
        "colab": {
          "base_uri": "https://localhost:8080/",
          "height": 393
        },
        "id": "MXB0zCQEjAYY",
        "outputId": "77392dc6-a1b2-4190-9f6d-9f1b3c81ab39"
      },
      "outputs": [
        {
          "output_type": "error",
          "ename": "ModuleNotFoundError",
          "evalue": "ignored",
          "traceback": [
            "\u001b[0;31m---------------------------------------------------------------------------\u001b[0m",
            "\u001b[0;31mModuleNotFoundError\u001b[0m                       Traceback (most recent call last)",
            "\u001b[0;32m<ipython-input-27-96fe34b65f97>\u001b[0m in \u001b[0;36m<cell line: 10>\u001b[0;34m()\u001b[0m\n\u001b[1;32m      8\u001b[0m \u001b[0;32mimport\u001b[0m \u001b[0mpandas\u001b[0m \u001b[0;32mas\u001b[0m \u001b[0mpd\u001b[0m\u001b[0;34m\u001b[0m\u001b[0;34m\u001b[0m\u001b[0m\n\u001b[1;32m      9\u001b[0m \u001b[0;32mimport\u001b[0m \u001b[0mmatplotlib\u001b[0m\u001b[0;34m.\u001b[0m\u001b[0mpyplot\u001b[0m \u001b[0;32mas\u001b[0m \u001b[0mplt\u001b[0m\u001b[0;34m\u001b[0m\u001b[0;34m\u001b[0m\u001b[0m\n\u001b[0;32m---> 10\u001b[0;31m \u001b[0;32mfrom\u001b[0m \u001b[0mspacytextblob\u001b[0m\u001b[0;34m.\u001b[0m\u001b[0mspacytextblob\u001b[0m \u001b[0;32mimport\u001b[0m \u001b[0mSpacyTextBlob\u001b[0m\u001b[0;34m\u001b[0m\u001b[0;34m\u001b[0m\u001b[0m\n\u001b[0m\u001b[1;32m     11\u001b[0m \u001b[0;34m\u001b[0m\u001b[0m\n\u001b[1;32m     12\u001b[0m \u001b[0mget_ipython\u001b[0m\u001b[0;34m(\u001b[0m\u001b[0;34m)\u001b[0m\u001b[0;34m.\u001b[0m\u001b[0mrun_line_magic\u001b[0m\u001b[0;34m(\u001b[0m\u001b[0;34m'matplotlib'\u001b[0m\u001b[0;34m,\u001b[0m \u001b[0;34m'inline'\u001b[0m\u001b[0;34m)\u001b[0m\u001b[0;34m\u001b[0m\u001b[0;34m\u001b[0m\u001b[0m\n",
            "\u001b[0;31mModuleNotFoundError\u001b[0m: No module named 'spacytextblob'",
            "",
            "\u001b[0;31m---------------------------------------------------------------------------\u001b[0;32m\nNOTE: If your import is failing due to a missing package, you can\nmanually install dependencies using either !pip or !apt.\n\nTo view examples of installing some common dependencies, click the\n\"Open Examples\" button below.\n\u001b[0;31m---------------------------------------------------------------------------\u001b[0m\n"
          ],
          "errorDetails": {
            "actions": [
              {
                "action": "open_url",
                "actionText": "Open Examples",
                "url": "/notebooks/snippets/importing_libraries.ipynb"
              }
            ]
          }
        }
      ],
      "source": [
        "import spacy\n",
        "import json\n",
        "import pylab\n",
        "from IPython.core.display import display, HTML\n",
        "import nltk\n",
        "from tika import parser\n",
        "import numpy as np\n",
        "import pandas as pd\n",
        "import matplotlib.pyplot as plt\n",
        "from spacytextblob.spacytextblob import SpacyTextBlob\n",
        "\n",
        "%matplotlib inline\n",
        "pylab.rcParams['figure.figsize'] = (10., 8.)\n",
        "nlp = spacy.load(\"en_core_web_sm\")\n",
        "nlp.add_pipe('spacytextblob')"
      ]
    },
    {
      "cell_type": "markdown",
      "metadata": {
        "id": "eU1g5loJ2_3s"
      },
      "source": [
        "## Downloading and reading one earnings call\n",
        "\n",
        "Exxon host earnings calls on their website in PDF form. Usually, working with PDFs is a real pain as they are not machine-readable. Using a python package called [tika](https://www.geeksforgeeks.org/parsing-pdfs-in-python-with-tika/), we can \"parse\" a pdf, turning it into machine-readable text:"
      ]
    },
    {
      "cell_type": "code",
      "execution_count": 28,
      "metadata": {
        "colab": {
          "base_uri": "https://localhost:8080/"
        },
        "id": "ibXsDF1uW_dP",
        "outputId": "21c6aec2-9594-4bf3-b906-64f4c85591ee"
      },
      "outputs": [
        {
          "output_type": "stream",
          "name": "stderr",
          "text": [
            "2023-12-15 11:27:29,065 [MainThread  ] [INFO ]  Retrieving https://d1io3yog0oux5.cloudfront.net/_74d009918ead0ec6acdd6bbaf27a8316/exxonmobil/db/2288/22123/earnings_release/XOM+2Q23+Earnings+Press+Release+Website.pdf to /tmp/_74d009918ead0ec6acdd6bbaf27a8316-exxonmobil-db-2288-22123-earnings_release-xom-2q23-earnings-press-release-website.pdf.\n",
            "INFO:tika.tika:Retrieving https://d1io3yog0oux5.cloudfront.net/_74d009918ead0ec6acdd6bbaf27a8316/exxonmobil/db/2288/22123/earnings_release/XOM+2Q23+Earnings+Press+Release+Website.pdf to /tmp/_74d009918ead0ec6acdd6bbaf27a8316-exxonmobil-db-2288-22123-earnings_release-xom-2q23-earnings-press-release-website.pdf.\n"
          ]
        }
      ],
      "source": [
        "# define the URL where your PDF lives. You could also upload your own pdf.\n",
        "#url='https://corporate.exxonmobil.com/-/media/Global/Files/investor-relations/quarterly-earnings/earnings-transcripts/2022-earnings-transcripts/1Q22-XOM-Earnings-Call-Transcript-4-29-22.pdf'\n",
        "url='https://d1io3yog0oux5.cloudfront.net/_74d009918ead0ec6acdd6bbaf27a8316/exxonmobil/db/2288/22123/earnings_release/XOM+2Q23+Earnings+Press+Release+Website.pdf'\n",
        "# parse the pdf by feeding tika the URL and store the text in an object called \"raw\"\n",
        "raw = parser.from_file(url)\n"
      ]
    },
    {
      "cell_type": "markdown",
      "metadata": {
        "id": "g4Wevbuz4Q8i"
      },
      "source": [
        "Now, we have an object called \"raw\" that contains some useful information. Notice the squiggly brackets; this is a dictionary. It contains several fields, including some useful metadata such as the author"
      ]
    },
    {
      "cell_type": "code",
      "execution_count": 29,
      "metadata": {
        "colab": {
          "base_uri": "https://localhost:8080/",
          "height": 250
        },
        "id": "1na8WczX4RQm",
        "outputId": "c047474e-ebfe-40dc-e3d4-4e5b8736c5a1"
      },
      "outputs": [
        {
          "output_type": "error",
          "ename": "KeyError",
          "evalue": "ignored",
          "traceback": [
            "\u001b[0;31m---------------------------------------------------------------------------\u001b[0m",
            "\u001b[0;31mKeyError\u001b[0m                                  Traceback (most recent call last)",
            "\u001b[0;32m<ipython-input-29-90a688e8bd12>\u001b[0m in \u001b[0;36m<cell line: 1>\u001b[0;34m()\u001b[0m\n\u001b[0;32m----> 1\u001b[0;31m \u001b[0mdate\u001b[0m\u001b[0;34m=\u001b[0m\u001b[0mraw\u001b[0m\u001b[0;34m[\u001b[0m\u001b[0;34m'metadata'\u001b[0m\u001b[0;34m]\u001b[0m\u001b[0;34m[\u001b[0m\u001b[0;34m'date'\u001b[0m\u001b[0;34m]\u001b[0m\u001b[0;34m\u001b[0m\u001b[0;34m\u001b[0m\u001b[0m\n\u001b[0m\u001b[1;32m      2\u001b[0m \u001b[0mtitle\u001b[0m\u001b[0;34m=\u001b[0m\u001b[0mraw\u001b[0m\u001b[0;34m[\u001b[0m\u001b[0;34m'metadata'\u001b[0m\u001b[0;34m]\u001b[0m\u001b[0;34m[\u001b[0m\u001b[0;34m'dc:title'\u001b[0m\u001b[0;34m]\u001b[0m\u001b[0;34m\u001b[0m\u001b[0;34m\u001b[0m\u001b[0m\n\u001b[1;32m      3\u001b[0m \u001b[0mraw_text\u001b[0m\u001b[0;34m=\u001b[0m\u001b[0mraw\u001b[0m\u001b[0;34m[\u001b[0m\u001b[0;34m'content'\u001b[0m\u001b[0;34m]\u001b[0m\u001b[0;34m\u001b[0m\u001b[0;34m\u001b[0m\u001b[0m\n\u001b[1;32m      4\u001b[0m \u001b[0;34m\u001b[0m\u001b[0m\n\u001b[1;32m      5\u001b[0m \u001b[0mprint\u001b[0m\u001b[0;34m(\u001b[0m\u001b[0;34m'Date: '\u001b[0m\u001b[0;34m,\u001b[0m \u001b[0mdate\u001b[0m\u001b[0;34m)\u001b[0m\u001b[0;34m\u001b[0m\u001b[0;34m\u001b[0m\u001b[0m\n",
            "\u001b[0;31mKeyError\u001b[0m: 'date'"
          ]
        }
      ],
      "source": [
        "date=raw['metadata']['date']\n",
        "title=raw['metadata']['dc:title']\n",
        "raw_text=raw['content']\n",
        "\n",
        "print('Date: ', date)\n",
        "print('Title: ', title)\n",
        "print('Word Count: ', len(raw_text))\n",
        "print('Text:')\n",
        "raw_text"
      ]
    },
    {
      "cell_type": "markdown",
      "metadata": {
        "id": "UPC9xxqr8dji"
      },
      "source": [
        "look at that! we're beginning to give some structure to our text data. But suppose I wanted to analyze multiple earnings calls; I need to organize this data so that it can accomodate new entries. As always, we want to **tabularize** our data. Let's create a dataframe with three columns (Date, Title, and Text) in which each row is one earnings call:"
      ]
    },
    {
      "cell_type": "code",
      "execution_count": 30,
      "metadata": {
        "colab": {
          "base_uri": "https://localhost:8080/",
          "height": 250
        },
        "id": "QgbT-rjW7-Y4",
        "outputId": "41786d33-a1b6-4172-ebf7-cf4505fd6d6c"
      },
      "outputs": [
        {
          "output_type": "error",
          "ename": "NameError",
          "evalue": "ignored",
          "traceback": [
            "\u001b[0;31m---------------------------------------------------------------------------\u001b[0m",
            "\u001b[0;31mNameError\u001b[0m                                 Traceback (most recent call last)",
            "\u001b[0;32m<ipython-input-30-f82e030c3a35>\u001b[0m in \u001b[0;36m<cell line: 2>\u001b[0;34m()\u001b[0m\n\u001b[1;32m      1\u001b[0m \u001b[0;31m# create a dataframe using the above data\u001b[0m\u001b[0;34m\u001b[0m\u001b[0;34m\u001b[0m\u001b[0m\n\u001b[0;32m----> 2\u001b[0;31m \u001b[0mcall\u001b[0m\u001b[0;34m=\u001b[0m\u001b[0mpd\u001b[0m\u001b[0;34m.\u001b[0m\u001b[0mDataFrame\u001b[0m\u001b[0;34m(\u001b[0m\u001b[0;34m{\u001b[0m\u001b[0;34m'Date'\u001b[0m\u001b[0;34m:\u001b[0m\u001b[0;34m[\u001b[0m\u001b[0mdate\u001b[0m\u001b[0;34m]\u001b[0m\u001b[0;34m,\u001b[0m\u001b[0;34m'Title'\u001b[0m\u001b[0;34m:\u001b[0m\u001b[0;34m[\u001b[0m\u001b[0mtitle\u001b[0m\u001b[0;34m]\u001b[0m\u001b[0;34m,\u001b[0m\u001b[0;34m'Text'\u001b[0m\u001b[0;34m:\u001b[0m\u001b[0;34m[\u001b[0m\u001b[0mraw_text\u001b[0m\u001b[0;34m]\u001b[0m\u001b[0;34m}\u001b[0m\u001b[0;34m)\u001b[0m\u001b[0;34m\u001b[0m\u001b[0;34m\u001b[0m\u001b[0m\n\u001b[0m\u001b[1;32m      3\u001b[0m \u001b[0;34m\u001b[0m\u001b[0m\n\u001b[1;32m      4\u001b[0m \u001b[0;31m# remember, datetime information almost always reaches us as text.\u001b[0m\u001b[0;34m\u001b[0m\u001b[0;34m\u001b[0m\u001b[0m\n\u001b[1;32m      5\u001b[0m \u001b[0;31m# we need to explicitly convert it to the datetime data type.\u001b[0m\u001b[0;34m\u001b[0m\u001b[0;34m\u001b[0m\u001b[0m\n",
            "\u001b[0;31mNameError\u001b[0m: name 'date' is not defined"
          ]
        }
      ],
      "source": [
        "# create a dataframe using the above data\n",
        "call=pd.DataFrame({'Date':[date],'Title':[title],'Text':[raw_text]})\n",
        "\n",
        "# remember, datetime information almost always reaches us as text.\n",
        "# we need to explicitly convert it to the datetime data type.\n",
        "call['Date']=pd.to_datetime(call['Date'], infer_datetime_format=True)\n",
        "\n",
        "# Let's see what we've got.\n",
        "call"
      ]
    },
    {
      "cell_type": "markdown",
      "metadata": {
        "id": "Br3d1ibYBQYc"
      },
      "source": [
        "Now, if we were so inclined, we could use a loop to repeat this process for a large number of earnings calls, yielding a neatly organized dataframe containing the date, title, and text of earnings calls over time. I've done this so you don't have to, and stored it as a file called \"Exxon.json\". It spans 2002-2019, and contains over 10 million words' worth of earnings calls. Let's take a peek:"
      ]
    },
    {
      "cell_type": "code",
      "execution_count": 8,
      "metadata": {
        "colab": {
          "base_uri": "https://localhost:8080/",
          "height": 424
        },
        "id": "ZAcADSi_BRUX",
        "outputId": "ce771a2a-10e6-4d05-8bbb-733f37f71734"
      },
      "outputs": [
        {
          "output_type": "execute_result",
          "data": {
            "text/plain": [
              "                                                 Title       Date  \\\n",
              "0    Exxon  Mobil Corp at Barclays CEO EnergyPower ... 2019-09-04   \n",
              "1     Q2 2019  Exxon  Mobil Corp Earnings Call - Final 2019-08-02   \n",
              "2    Event Brief of Q2 2019  Exxon  Mobil Corp Earn... 2019-08-02   \n",
              "3    Exxon  Mobil Corp at JPMorgan Energy Conferenc... 2019-06-18   \n",
              "4    Exxon  Mobil Corp Annual Shareholders Meeting ... 2019-05-29   \n",
              "..                                                 ...        ...   \n",
              "177  Event Brief of Q3 2002  Exxon  Mobil Corporati... 2002-10-31   \n",
              "178  Q3 2002  Exxon  Mobil Corporation Earnings Con... 2002-10-31   \n",
              "179  Q2 2002  Exxon  Mobil Corporation Earnings Con... 2002-08-01   \n",
              "180  Abstract of Q2 2002  Exxon  Mobil Corporation ... 2002-08-01   \n",
              "181  Exxon  Mobil Corporation First Quarter 2002 Re... 2002-04-23   \n",
              "\n",
              "                                                  Text  \n",
              "0    Mr. Woods joined ExxonMobil International in 1...  \n",
              "1    NEIL A. HANSEN, VP OF IR & SECRETARY, EXXON MO...  \n",
              "2    . Neil A. Hansen - Exxon Mobil Corporation,VP ...  \n",
              "3    So with that, I'll turn it over to you. Thank ...  \n",
              "4    DARREN W. WOODS, CHAIRMAN & CEO, EXXON MOBIL C...  \n",
              "..                                                 ...  \n",
              "177  OVERVIEW \\n\\n XOM reported normalized earnings...  \n",
              "178  In particular, I refer you to factors affectin...  \n",
              "179  Welcome to Exxon Mobil's teleconference and we...  \n",
              "180  OVERVIEW \\n\\n XOM: 2Q02 net income was $2.64b....  \n",
              "181  We also signed a memorandum of understanding t...  \n",
              "\n",
              "[182 rows x 3 columns]"
            ],
            "text/html": [
              "\n",
              "  <div id=\"df-e5151b75-8074-461a-8773-a637877400f7\" class=\"colab-df-container\">\n",
              "    <div>\n",
              "<style scoped>\n",
              "    .dataframe tbody tr th:only-of-type {\n",
              "        vertical-align: middle;\n",
              "    }\n",
              "\n",
              "    .dataframe tbody tr th {\n",
              "        vertical-align: top;\n",
              "    }\n",
              "\n",
              "    .dataframe thead th {\n",
              "        text-align: right;\n",
              "    }\n",
              "</style>\n",
              "<table border=\"1\" class=\"dataframe\">\n",
              "  <thead>\n",
              "    <tr style=\"text-align: right;\">\n",
              "      <th></th>\n",
              "      <th>Title</th>\n",
              "      <th>Date</th>\n",
              "      <th>Text</th>\n",
              "    </tr>\n",
              "  </thead>\n",
              "  <tbody>\n",
              "    <tr>\n",
              "      <th>0</th>\n",
              "      <td>Exxon  Mobil Corp at Barclays CEO EnergyPower ...</td>\n",
              "      <td>2019-09-04</td>\n",
              "      <td>Mr. Woods joined ExxonMobil International in 1...</td>\n",
              "    </tr>\n",
              "    <tr>\n",
              "      <th>1</th>\n",
              "      <td>Q2 2019  Exxon  Mobil Corp Earnings Call - Final</td>\n",
              "      <td>2019-08-02</td>\n",
              "      <td>NEIL A. HANSEN, VP OF IR &amp; SECRETARY, EXXON MO...</td>\n",
              "    </tr>\n",
              "    <tr>\n",
              "      <th>2</th>\n",
              "      <td>Event Brief of Q2 2019  Exxon  Mobil Corp Earn...</td>\n",
              "      <td>2019-08-02</td>\n",
              "      <td>. Neil A. Hansen - Exxon Mobil Corporation,VP ...</td>\n",
              "    </tr>\n",
              "    <tr>\n",
              "      <th>3</th>\n",
              "      <td>Exxon  Mobil Corp at JPMorgan Energy Conferenc...</td>\n",
              "      <td>2019-06-18</td>\n",
              "      <td>So with that, I'll turn it over to you. Thank ...</td>\n",
              "    </tr>\n",
              "    <tr>\n",
              "      <th>4</th>\n",
              "      <td>Exxon  Mobil Corp Annual Shareholders Meeting ...</td>\n",
              "      <td>2019-05-29</td>\n",
              "      <td>DARREN W. WOODS, CHAIRMAN &amp; CEO, EXXON MOBIL C...</td>\n",
              "    </tr>\n",
              "    <tr>\n",
              "      <th>...</th>\n",
              "      <td>...</td>\n",
              "      <td>...</td>\n",
              "      <td>...</td>\n",
              "    </tr>\n",
              "    <tr>\n",
              "      <th>177</th>\n",
              "      <td>Event Brief of Q3 2002  Exxon  Mobil Corporati...</td>\n",
              "      <td>2002-10-31</td>\n",
              "      <td>OVERVIEW \\n\\n XOM reported normalized earnings...</td>\n",
              "    </tr>\n",
              "    <tr>\n",
              "      <th>178</th>\n",
              "      <td>Q3 2002  Exxon  Mobil Corporation Earnings Con...</td>\n",
              "      <td>2002-10-31</td>\n",
              "      <td>In particular, I refer you to factors affectin...</td>\n",
              "    </tr>\n",
              "    <tr>\n",
              "      <th>179</th>\n",
              "      <td>Q2 2002  Exxon  Mobil Corporation Earnings Con...</td>\n",
              "      <td>2002-08-01</td>\n",
              "      <td>Welcome to Exxon Mobil's teleconference and we...</td>\n",
              "    </tr>\n",
              "    <tr>\n",
              "      <th>180</th>\n",
              "      <td>Abstract of Q2 2002  Exxon  Mobil Corporation ...</td>\n",
              "      <td>2002-08-01</td>\n",
              "      <td>OVERVIEW \\n\\n XOM: 2Q02 net income was $2.64b....</td>\n",
              "    </tr>\n",
              "    <tr>\n",
              "      <th>181</th>\n",
              "      <td>Exxon  Mobil Corporation First Quarter 2002 Re...</td>\n",
              "      <td>2002-04-23</td>\n",
              "      <td>We also signed a memorandum of understanding t...</td>\n",
              "    </tr>\n",
              "  </tbody>\n",
              "</table>\n",
              "<p>182 rows × 3 columns</p>\n",
              "</div>\n",
              "    <div class=\"colab-df-buttons\">\n",
              "\n",
              "  <div class=\"colab-df-container\">\n",
              "    <button class=\"colab-df-convert\" onclick=\"convertToInteractive('df-e5151b75-8074-461a-8773-a637877400f7')\"\n",
              "            title=\"Convert this dataframe to an interactive table.\"\n",
              "            style=\"display:none;\">\n",
              "\n",
              "  <svg xmlns=\"http://www.w3.org/2000/svg\" height=\"24px\" viewBox=\"0 -960 960 960\">\n",
              "    <path d=\"M120-120v-720h720v720H120Zm60-500h600v-160H180v160Zm220 220h160v-160H400v160Zm0 220h160v-160H400v160ZM180-400h160v-160H180v160Zm440 0h160v-160H620v160ZM180-180h160v-160H180v160Zm440 0h160v-160H620v160Z\"/>\n",
              "  </svg>\n",
              "    </button>\n",
              "\n",
              "  <style>\n",
              "    .colab-df-container {\n",
              "      display:flex;\n",
              "      gap: 12px;\n",
              "    }\n",
              "\n",
              "    .colab-df-convert {\n",
              "      background-color: #E8F0FE;\n",
              "      border: none;\n",
              "      border-radius: 50%;\n",
              "      cursor: pointer;\n",
              "      display: none;\n",
              "      fill: #1967D2;\n",
              "      height: 32px;\n",
              "      padding: 0 0 0 0;\n",
              "      width: 32px;\n",
              "    }\n",
              "\n",
              "    .colab-df-convert:hover {\n",
              "      background-color: #E2EBFA;\n",
              "      box-shadow: 0px 1px 2px rgba(60, 64, 67, 0.3), 0px 1px 3px 1px rgba(60, 64, 67, 0.15);\n",
              "      fill: #174EA6;\n",
              "    }\n",
              "\n",
              "    .colab-df-buttons div {\n",
              "      margin-bottom: 4px;\n",
              "    }\n",
              "\n",
              "    [theme=dark] .colab-df-convert {\n",
              "      background-color: #3B4455;\n",
              "      fill: #D2E3FC;\n",
              "    }\n",
              "\n",
              "    [theme=dark] .colab-df-convert:hover {\n",
              "      background-color: #434B5C;\n",
              "      box-shadow: 0px 1px 3px 1px rgba(0, 0, 0, 0.15);\n",
              "      filter: drop-shadow(0px 1px 2px rgba(0, 0, 0, 0.3));\n",
              "      fill: #FFFFFF;\n",
              "    }\n",
              "  </style>\n",
              "\n",
              "    <script>\n",
              "      const buttonEl =\n",
              "        document.querySelector('#df-e5151b75-8074-461a-8773-a637877400f7 button.colab-df-convert');\n",
              "      buttonEl.style.display =\n",
              "        google.colab.kernel.accessAllowed ? 'block' : 'none';\n",
              "\n",
              "      async function convertToInteractive(key) {\n",
              "        const element = document.querySelector('#df-e5151b75-8074-461a-8773-a637877400f7');\n",
              "        const dataTable =\n",
              "          await google.colab.kernel.invokeFunction('convertToInteractive',\n",
              "                                                    [key], {});\n",
              "        if (!dataTable) return;\n",
              "\n",
              "        const docLinkHtml = 'Like what you see? Visit the ' +\n",
              "          '<a target=\"_blank\" href=https://colab.research.google.com/notebooks/data_table.ipynb>data table notebook</a>'\n",
              "          + ' to learn more about interactive tables.';\n",
              "        element.innerHTML = '';\n",
              "        dataTable['output_type'] = 'display_data';\n",
              "        await google.colab.output.renderOutput(dataTable, element);\n",
              "        const docLink = document.createElement('div');\n",
              "        docLink.innerHTML = docLinkHtml;\n",
              "        element.appendChild(docLink);\n",
              "      }\n",
              "    </script>\n",
              "  </div>\n",
              "\n",
              "\n",
              "<div id=\"df-94c3e1e1-19e9-474e-87fb-d94a9e070414\">\n",
              "  <button class=\"colab-df-quickchart\" onclick=\"quickchart('df-94c3e1e1-19e9-474e-87fb-d94a9e070414')\"\n",
              "            title=\"Suggest charts\"\n",
              "            style=\"display:none;\">\n",
              "\n",
              "<svg xmlns=\"http://www.w3.org/2000/svg\" height=\"24px\"viewBox=\"0 0 24 24\"\n",
              "     width=\"24px\">\n",
              "    <g>\n",
              "        <path d=\"M19 3H5c-1.1 0-2 .9-2 2v14c0 1.1.9 2 2 2h14c1.1 0 2-.9 2-2V5c0-1.1-.9-2-2-2zM9 17H7v-7h2v7zm4 0h-2V7h2v10zm4 0h-2v-4h2v4z\"/>\n",
              "    </g>\n",
              "</svg>\n",
              "  </button>\n",
              "\n",
              "<style>\n",
              "  .colab-df-quickchart {\n",
              "      --bg-color: #E8F0FE;\n",
              "      --fill-color: #1967D2;\n",
              "      --hover-bg-color: #E2EBFA;\n",
              "      --hover-fill-color: #174EA6;\n",
              "      --disabled-fill-color: #AAA;\n",
              "      --disabled-bg-color: #DDD;\n",
              "  }\n",
              "\n",
              "  [theme=dark] .colab-df-quickchart {\n",
              "      --bg-color: #3B4455;\n",
              "      --fill-color: #D2E3FC;\n",
              "      --hover-bg-color: #434B5C;\n",
              "      --hover-fill-color: #FFFFFF;\n",
              "      --disabled-bg-color: #3B4455;\n",
              "      --disabled-fill-color: #666;\n",
              "  }\n",
              "\n",
              "  .colab-df-quickchart {\n",
              "    background-color: var(--bg-color);\n",
              "    border: none;\n",
              "    border-radius: 50%;\n",
              "    cursor: pointer;\n",
              "    display: none;\n",
              "    fill: var(--fill-color);\n",
              "    height: 32px;\n",
              "    padding: 0;\n",
              "    width: 32px;\n",
              "  }\n",
              "\n",
              "  .colab-df-quickchart:hover {\n",
              "    background-color: var(--hover-bg-color);\n",
              "    box-shadow: 0 1px 2px rgba(60, 64, 67, 0.3), 0 1px 3px 1px rgba(60, 64, 67, 0.15);\n",
              "    fill: var(--button-hover-fill-color);\n",
              "  }\n",
              "\n",
              "  .colab-df-quickchart-complete:disabled,\n",
              "  .colab-df-quickchart-complete:disabled:hover {\n",
              "    background-color: var(--disabled-bg-color);\n",
              "    fill: var(--disabled-fill-color);\n",
              "    box-shadow: none;\n",
              "  }\n",
              "\n",
              "  .colab-df-spinner {\n",
              "    border: 2px solid var(--fill-color);\n",
              "    border-color: transparent;\n",
              "    border-bottom-color: var(--fill-color);\n",
              "    animation:\n",
              "      spin 1s steps(1) infinite;\n",
              "  }\n",
              "\n",
              "  @keyframes spin {\n",
              "    0% {\n",
              "      border-color: transparent;\n",
              "      border-bottom-color: var(--fill-color);\n",
              "      border-left-color: var(--fill-color);\n",
              "    }\n",
              "    20% {\n",
              "      border-color: transparent;\n",
              "      border-left-color: var(--fill-color);\n",
              "      border-top-color: var(--fill-color);\n",
              "    }\n",
              "    30% {\n",
              "      border-color: transparent;\n",
              "      border-left-color: var(--fill-color);\n",
              "      border-top-color: var(--fill-color);\n",
              "      border-right-color: var(--fill-color);\n",
              "    }\n",
              "    40% {\n",
              "      border-color: transparent;\n",
              "      border-right-color: var(--fill-color);\n",
              "      border-top-color: var(--fill-color);\n",
              "    }\n",
              "    60% {\n",
              "      border-color: transparent;\n",
              "      border-right-color: var(--fill-color);\n",
              "    }\n",
              "    80% {\n",
              "      border-color: transparent;\n",
              "      border-right-color: var(--fill-color);\n",
              "      border-bottom-color: var(--fill-color);\n",
              "    }\n",
              "    90% {\n",
              "      border-color: transparent;\n",
              "      border-bottom-color: var(--fill-color);\n",
              "    }\n",
              "  }\n",
              "</style>\n",
              "\n",
              "  <script>\n",
              "    async function quickchart(key) {\n",
              "      const quickchartButtonEl =\n",
              "        document.querySelector('#' + key + ' button');\n",
              "      quickchartButtonEl.disabled = true;  // To prevent multiple clicks.\n",
              "      quickchartButtonEl.classList.add('colab-df-spinner');\n",
              "      try {\n",
              "        const charts = await google.colab.kernel.invokeFunction(\n",
              "            'suggestCharts', [key], {});\n",
              "      } catch (error) {\n",
              "        console.error('Error during call to suggestCharts:', error);\n",
              "      }\n",
              "      quickchartButtonEl.classList.remove('colab-df-spinner');\n",
              "      quickchartButtonEl.classList.add('colab-df-quickchart-complete');\n",
              "    }\n",
              "    (() => {\n",
              "      let quickchartButtonEl =\n",
              "        document.querySelector('#df-94c3e1e1-19e9-474e-87fb-d94a9e070414 button');\n",
              "      quickchartButtonEl.style.display =\n",
              "        google.colab.kernel.accessAllowed ? 'block' : 'none';\n",
              "    })();\n",
              "  </script>\n",
              "</div>\n",
              "    </div>\n",
              "  </div>\n"
            ]
          },
          "metadata": {},
          "execution_count": 8
        }
      ],
      "source": [
        "df=pd.read_json('data/wk4/Exxon.json')\n",
        "df"
      ]
    },
    {
      "cell_type": "markdown",
      "metadata": {
        "id": "BsEn8Sq_BqVu"
      },
      "source": [
        "Great-- we've got a structured dataset of earnings calls. But even though the data has *structure*, the data in the \"Text\" column still needs some cleaning and processing."
      ]
    },
    {
      "cell_type": "markdown",
      "metadata": {
        "id": "ELfPVOKy6jh7"
      },
      "source": [
        "## Dirty Words\n",
        "\n",
        "Text often comes 'unclean' either containing tags such as HTML (or XML), or has other issues.\n",
        "We've already done a bit of tidying, but it's been relatively straightforward. Be cautious when committing to a text analysis project - you may spend a great deal of time tidying up your text.\n",
        "\n",
        "For example, you may have noticed \"\\n\\n\\n\\n\\n\\n\\n\\n...\" in the text of the first earnings call we downloaded. This is a character (just like \"a\" or \"$\") except it indicates that we want to create a new line. It's part of the formatting of the pdf. That's not really useful information to us. Let start by selecting an earnings call; i've chosen the 38th in this dataframe:"
      ]
    },
    {
      "cell_type": "code",
      "execution_count": 9,
      "metadata": {
        "colab": {
          "base_uri": "https://localhost:8080/",
          "height": 232
        },
        "id": "lliAXrWoCXsD",
        "outputId": "c5a9047a-a177-402b-a53f-52ad09e3160b"
      },
      "outputs": [
        {
          "output_type": "stream",
          "name": "stdout",
          "text": [
            "Date:  2016-05-25 00:00:00\n",
            "Title:  Exxon  Mobil Corp Annual Shareholders Meeting - Final\n",
            "Word Count:  125746\n",
            "Text:\n"
          ]
        },
        {
          "output_type": "execute_result",
          "data": {
            "text/plain": [
              "'I\\'m Rex Tillerson, I\\'m the Chairman and Chief Executive Officer of the Exxon Mobil Corporation. And I am pleased to welcome each of you that made the effort to join us today in person. I also, though, want to welcome our shareholders around the world who are joining us by way of the Internet.\\n\\nI do hope you had the opportunity to meet some of our employees in person while visiting the displays in the foyer this morning. These Exxon Mobil employees are among the over 73,000 people who are working 24 hours a day, seven days a week, 365 days a year on your behalf. And many of them are working in challenging locations to deliver the energy and products needed by consumers around the world.\\n\\nThe financial and operating results that I bring to you today are really their results, and I have the privilege of presenting them to you on their behalf.\\n\\nSeated next to me is Jeff Woodbury, Vice President of Investor Relations and our Corporate Secretary. He will assist me in running the meeting today. I\\'ll introduce the other members of the board to you a little later in the meeting.\\n\\nAs mentioned on Page 2 of the proxy statement, it is the policy of the corporation to provide confidential voting to shareholders. For shareholders who returned their proxy cards without written comments, the voted proxies have not been seen by nor reported to the corporation except in aggregate numbers. Anyone turning in a proxy card at this meeting who wishes to keep his or her votes secret, may obtain an envelope from the ushers. Proxy cards will be collected later in the meeting. A list of shareholders entitled to vote at this meeting or at any adjournment thereof is available for inspection. If anyone wishes to examine this list, an usher will be pleased to direct you to the proper location.\\n\\nShirley Nessralla and Paula Buckley of Computershare Trust Company have been appointed Inspectors of the Election for this meeting. They have taken an oath of office that has been delivered to the Secretary for filing with the minutes of the meeting. Notice of this meeting has been properly given, and the Inspectors of Election have determined that a quorum is present. There are 3.5 billion shares represented at this meeting, equating to approximately 85% of the issued and outstanding shares of stock of the corporation that are entitled to vote. I directed the inspector\\'s written determination as to the number of shares entitled to vote at the meeting be filed with the minutes. I declare a quorum present and the meeting ready for business.\\n\\nI\\'d now like to explain our plan for conducting the meeting today. First, Secretary Woodbury will outline the rules of conduct and how to gain recognition. Then, I\\'ll make some brief comments about our business results and the future we see for your company. After that, the items of business comprised of 14 proposals from the Board of Directors and shareholders will be presented. As described in the Annual Meeting program, discussion on the items of business will be deferred until all items have been presented. Time permitting, we may also have time to respond to some of the questions submitted ahead of time via proxy cards and the Internet. Upon completion of the discussion on the items of business and voting, the polls will be closed, the formal business of this year\\'s Annual Meeting will be concluded, and the Inspectors of Election will prepare this preliminary voting report.\\n\\nWhile this is occurring, there may be time for additional comments or questions regarding our business. When the inspectors are ready, I\\'ll ask them to give us their voting report. We will then conclude the meeting.\\n\\nShown in this slide is the list of board and shareholder proposals that will be presented and voted on this morning. The 14 items of business will be presented beginning with the election of directors, the ratification of independent auditors and the advisory vote to approve executive compensation as required by law. Then, we will continue with the 11 shareholder proposals shown in the proxy statement.\\n\\nAt this time, I would like to turn the meeting over to Jeff Woodbury to discuss the rules of conduct.\\n\\nJEFF WOODBURY, VP OF INVESTOR RELATIONS, CORPORATE SECRETARY, EXXONMOBIL CORPORATION: Thank you, Mr. Chairman. Ladies and gentlemen, good morning. I\\'d like to take this opportunity to familiarize everyone with the safety features of the auditorium. In case of emergency, we will be notified through the public address system. Emergency exits for the ground level, as shown on the screen behind me, are situated at the rear of the auditorium, where you entered, and down in front on either side. If we do need to evacuate, please proceed to the nearest exit and the Meyerson personnel will guide you to the best way out. In addition, for safety reasons, please do not stand in aisles or in the back of the hall and do not block the exits.\\n\\nTo ensure that the meeting is conducted in the interest of all shareholders, there are certain rules of conduct governing this meeting. These rules are included in the program and shown on the screen behind me.\\n\\nLet me now just cover several of the rules. The distribution of pamphlets and other literature, banners, signs and other displays is strictly prohibited. Anyone who intentionally obstructs or interferes with this lawful meeting by physical action or verbal utterance is in violation of Texas law. Any persons engaging in such conduct will be asked to cease, and if they refuse, they will be escorted from the meeting.\\n\\nThe laws of New Jersey, where Exxon Mobil is incorporated, provide that no business can be brought up for a vote unless proper notice has been given to all shareholders. Therefore, in the fairness of other shareholders not in attendance and in keeping with the laws that govern our Annual Meeting, formal business at today\\'s meeting is restricted to the items included in this year\\'s proxy statement. As such, additional proposals may not be introduced on the floor.\\n\\nIn order to present a proposal, you must have checked in at the admission\\'s desk in the lobby and verified that you are the proponent or a duly authorized proxy under New Jersey law. Presenters whose credentials have been verified will be given a blue presenter\\'s pass. If neither the proponent nor an authorized proxy has checked in and obtained a presenter\\'s pass, we will presume the proponent is not present, and I will move the proposal for the purposes of orderly conduct of the meeting and so that shareholder votes cast may be recorded. However, I will not be acting as a representative of the proponent. The authorized presenter of a shareholder proposal will have up to 3 minutes to present the proposal, and time may not be shared with another speaker. As the Chairman indicated, discussion on all items of business will be deferred until the discussion period later in the meeting.\\n\\nOnly shareholders as of record date or their properly appointed proxies are entitled to speak at this Annual Meeting of Exxon Mobil shareholders. Shareholders making comments during the meeting must speak or have the words translated into English so that the majority of shareholders present can understand what is being said. Comments that are offensive or otherwise inappropriate will not be permitted. Also, we ask that any issues of personal interest that\\'s not relevant to all shareholders be raised directly with appropriate company representatives outside of the Annual Meeting. We request that individual shareholders respect the right of others to speak and keep their comments as brief as possible. As noted in the proxy statement, the Chairman has broad authority to conduct the meeting in an orderly and timely manner.\\n\\nIf you wish to make comments, you must first fill out a speaker identification card that is included in the program and was provided to you as you entered the lobby. This card confirms that you meet the requirements to speak at this meeting. Please give the completed card to the usher when you are recognized to address the meeting.\\n\\nTo ensure as many shareholders as possible who want to address the meeting today have the opportunity to do so, we ask you to follow these additional instructions. If you would like to address the meeting, move to a reserved aisle seat, remain seated, raise your hand holding your speaker identification card to indicate to the Chairman that you wish to speak. When recognized by the Chairman, give your completed speaker card to the usher, and a microphone will be provided. Please stand and begin by stating your name. You may speak for up to 2 minutes.\\n\\nNow due to the large number of items on today\\'s agenda and a need to conclude the meeting within a reasonable period of time, we cannot assure that every shareholder who wishes to speak will be able to do so. First priority will be given to those who have not yet had an opportunity to speak.\\n\\nAs we\\'ve done in the past, we\\'ve provided a timing system with lights that will help speakers manage their time, and we\\'ll demonstrate the system at this time.\\n\\nWhen the Chairman recognizes a speaker and a microphone has been provided by the usher, a green light will come on at the displays on both sides of the stage. The hall microphones will be activated only after the speaker has been recognized by the Chairman. When the speaker\\'s time remaining reaches 30 seconds, a yellow light will turn on, and finally, a red light will indicate the speaker is at the end of their allowed time. And at that point, we ask you to conclude your comments.\\n\\nFinally, as we typically note at the outset of similar meetings, I would like to draw your attention to our cautionary statement that\\'s shown on this slide. The statement contains information regarding today\\'s presentation and discussion. You may also refer to the corporate website for additional information on factors affecting future results as well as supplementary information defining key terms that we use today throughout the meeting.\\n\\nAnd now I will turn the podium back to the Chairman to provide an overview on the business. Thank you.\\n\\nREX TILLERSON: Thank you, Jeff. We will address our items of business shortly. However, first, I will share with you some financial and operating highlights from 2015, provide an update on our annual outlook for energy and review key elements of our integrated businesses. The photo you see behind me is the Antwerp refinery, one of the most efficient in Europe, where we are progressing construction of a new delayed coker. Exxon Mobil\\'s strategy, constancy of purpose and competitive advantages continue to create superior, long-term shareholder value. Regardless of the business environment, we maintain a relentless focus on the fundamentals, those factors that we control. Our integrated business model remains resilient through the commodity price cycle. We are continuing a disciplined and paced investment approach focused on creating value while maintaining our commitment to a reliable and growing dividend.\\n\\nExxon Mobil is demonstrating differentiated performance that has become all the more visible this past year. We lead the industry in return on capital employed and most importantly, long-term shareholder returns.\\n\\nOver the next few slides, I\\'ll highlight how we have delivered on our 2015 commitments and discuss our industry-leading performance against several key metrics. This photograph of the Deepwater Champion drilling vessel, which successfully drilled the Liza-1 exploration discovery well offshore Guyana, highlights one example of our approach to long-term resource capture and value generation. We\\'re pleased with the initial results, and I\\'ll discuss our plans for Guyana later in the presentation.\\n\\nSince our shareholder meeting last year, the business environment continued to deteriorate with a sharp decrease in crude oil and natural gas prices. The graphic is a stark reminder of the volatile and cyclical nature of a commodity prices business. However, the corporation is uniquely suited to endure these conditions and outperform the competition.\\n\\nRegardless of prices, we remain focused on the following business fundamentals. Operational integrity is an organizational imperative. Operating safely, reliably and effectively is the primary objective. Maximizing the reliability of our facilities, lowering cost and increasing efficiency maximizes the value of our existing asset base.\\n\\nOur integrated businesses have a distinct competitive advantage which enables us to create additional value as market conditions change. Our investment decisions are based on a long-term view informed by our energy outlook and tested across various economic parameters, including a broad range of commodity prices.\\n\\nFinally, once we decide to invest, our world-class project execution delivers a competitive, reliable asset base. These fundamentals, applied daily throughout our portfolio, deliver leading results that grow shareholder value throughout the business cycle.\\n\\n2015 results demonstrate the strength of our integrated business in a weaker commodity price environment. Our approach to business, operations and corporate citizenship is grounded in a commitment to integrity in everything we do. Nowhere is that more evident than in our commitment to safe operations. As the chart shows, our workforce safety performance for both employees and our contractors remains strong relative to the industry.\\n\\nAs to financial results, total corporate earnings were $16.2 billion with a return on capital employed of 7.9%. We generated $32.7 billion of cash flow from operations and asset sales, and selectively invested $31 billion back into the business. Total shareholder distributions including dividends and share repurchases were $15 billion.\\n\\nRisk management is at the core of our business. Everything we do has an element of risk, whether technical, operational, financial, geopolitical or environmental. We have a systematic approach guided by our Operations Integrity Management System, also known as OIMS, which helps us manage safety, security, health and environmental risk.\\n\\nOIMS guides the activities of our employers and contractors to achieve excellence in our operational performance. It is a proven approach, rigorously applied to all work processes at all levels. Everyone is expected to operate in the same safe way every day, everywhere. OIMS provides appropriate emphasis on both personnel and process safety, helping us achieve superior reliability and operating performance, which ultimately leads to better business performance.\\n\\nNow let\\'s take a look at our environmental performance. At Exxon Mobil, we recognize our dual responsibility to both expand energy supplies, but do so in a way that reflects our shared commitment to environmental stewardship. To minimize our environmental impact, we carefully identify, assess, manage and monitor potential environmental risk.\\n\\nOur comprehensive approach has continued to reduce emissions and releases, mitigating the environmental impact of our operations.\\n\\nOver the past five years, 8.8 million tons of additional greenhouse gas emissions were avoided through self-help initiatives. This is equivalent to eliminating the annual greenhouse gas emissions of nearly 2 million passenger vehicles. We\\'re currently working at the operational level to minimize flaring and venting, and continue to implement proven reduction technologies such as selective deployment of cogeneration capacity in more than 100 installations at more than 30 locations around the world. Currently, our gross capacity for cogeneration is 5.5 gigawatts, enough to meet the annual electricity needs of 2.5 million U.S. homes. These investments have made our operations some of the most productive and energy efficient in the world.\\n\\nExxon Mobil is also a global leader in carbon capture and sequestration with working interest in more than one-third of the world\\'s current capacity. In total, since the year 2000, we have invested nearly $7 billion in an array of technologies across the company to reduce our emissions.\\n\\nAs this chart illustrates, our approaches are broad based and targeted at delivering practical solutions in the near term and the mid-term while continuing to make long-term investments to advance emerging energy technologies on a host of frontiers.\\n\\nMost recently, we announced an expanded research program to pursue the novel application of carbonate fuel cells to capture emissions from power plants. We are in early days, but making carbon capture economic could lead to large-scale applications around the world, reducing emissions and mitigating the risk of climate change.\\n\\nExxon Mobil also continues to research potential game-changing technologies in the areas of advanced biofuels, including from algae, whole cellulosic biomass and cellulose-derived sugars, which avoid adversely affecting water use, land use or world food supplies. But to ensure investment and innovation can progress, society will need one more thing, sound public policy. Exxon Mobil has worked for decades to support and advance scientific understanding, to contribute to substantive and thoughtful policy discourse and to reach out to stakeholders and government officials at every level wherever we operate. Nowhere is this comprehensive cooperative approach more important than addressing the risk of climate change.\\n\\nFor many years now, Exxon Mobil has held the view that the risks of climate change are serious, and they do warrant thoughtful action. We have long worked collaboratively with academic and institutional efforts to support research, improve climate models and advance the scientific understanding of climate change. Our scientists have been participating with the UN\\'s intergovernmental panel on climate change from its founding and have produced hundreds of publicly available papers including more than 50-peer-reviewed publications.\\n\\nOn the policy front, we believe that addressing the risk of climate change is a global issue, which will require the involvement of governments, companies and all energy consumers. To enable the most efficient and effective investments in lower carbon technologies, cost of carbon policies must invite and promote global participation. They must ensure a uniform and predictable cost of greenhouse gas emissions in every economy. They must allow market prices to drive the selection of solutions. They must minimize complexity and administrative cost, and maximize transparency and provide flexibility for policy adjustments in light of economic performance or new discoveries and breakthroughs in climate science. In years ahead, the world\\'s ability to meet our shared need for energy and our shared aspirations for the environment will depend on sound policy, and that is why Exxon Mobil will continue to discuss the key principles supporting a revenue-neutral carbon tax as a possible broad-based approach.\\n\\nTurning to financial results. Exxon Mobil\\'s return on capital employed consistently leads the competition. In 2015, our ROCE of 7.9% was significantly impacted by the drop in oil and gas prices, but was still nearly 4 percentage points higher than our nearest competitor. Over the past five years, our ROCE averaged 18% or about 5 percentage points higher than the next best competitor. Sustained leadership in capital efficiency reflects our commitment to a disciplined investment approach, strong project management and innovative technologies to grow a well-balanced portfolio across a broad range of business conditions.\\n\\nRegardless of the business environment, we strive to lead the cost curve and currently are benefiting from both ongoing efficiencies as well as cost deflation. As you can see by the graphic, we are achieving significant market savings in the current business climate. We achieved a total net reduction of $11.5 billion in both capital and cash operating cost in 2015. Our Upstream unit costs are down 9% and in refining, our unit cash costs are 15% lower than the industry average. This focus on cost leadership also reduces project cost, which improve long-term returns and free cash flow. Robust operating performance and relentless attention to cost control enable our ability to generate industry-leading free cash flow over the long term.\\n\\nExxon Mobil generated $6.5 billion of free cash flow in 2015 and almost $100 billion over the past five years, outpacing competitors. We continue to pay a reliable and growing dividend and pursue investments in attractive opportunities to create long-term shareholder value. Although the share buyback program was tapered in 2015, we maintain industry-leading distributions. On average, $0.48 of every dollar generated by the business over the last five years was distributed to you, our shareholders, while we continue to make significant investments in the business.\\n\\nWe continue to grow the dividend. The corporation\\'s long-term dividend growth rate exceeds the S&P 500 and our industry competitors with only Exxon Mobil materially increasing the dividend in 2015, up 6.7% to $2.88 per share. And over the past 10 years from 2006 through 2015, annual dividends have increased 10% per year. We have increased our dividend 34 consecutive years including this year\\'s second quarter increase to $0.75 per share. Our dividend payments are made with a view to building long-term shareholder value and providing a reliable dividend growth.\\n\\nShare purchases are an efficient and flexible way of returning cash to our shareholders. The corporation purchased $3 billion in 2015 and prudently tapered the program consistent with changes in the business environment and the corporation\\'s cash requirements. Through the first half of 2016, Exxon Mobil has limited share purchases to amounts needed to offset dilution related to our benefits plans and programs. While the future pace of share purchases will reflect the market environment and cash flow at the time, we continue to regard them as a flexible method to return value to the shareholders and manage our long-term capital structure.\\n\\nSince the Exxon and Mobil merger, we have reduced total shares outstanding by 40%, including the impacts of shares we issued to purchase XTO in 2010. Over this period, total shareholder distributions including dividends were $357 billion. To put this number in perspective, these distributions to you are larger than the individual market capitalization values of 497 of the S&P 500 companies.\\n\\nNow every year, Exxon Mobil shares its long-term view of global energy demand and supply, which guides our company\\'s business strategies and our investments, and we publish that as our outlook for energy. This document confirms the wisdom of these investments and help provide the world with reliable and affordable energy necessary to advance economic prosperity and improve living standards well into the future.\\n\\nBy the year 2040, the world\\'s population is expected to increase from 7 billion people today to more than 9 billion people. This population growth will more than double global economic output sparking a dramatic expansion of the middle class. These fundamentals will drive energy demand growth. As a result, Exxon Mobil\\'s 2016 outlook for energy forecasts an increase in global energy demand of about 25% during this period, even while taking into account the offsetting impact of significant energy efficiency gains.\\n\\nNon-OECD nations, shown in blue on the chart, are expected to drive growth in GDP and therefore, energy use, accounting for about 70% of global energy demand by the year 2040. The world\\'s middle class is expected to increase by about 3 billion people, mostly from non-OECD nations. This means better living standards for billions, and it will be enabled in large part by improving access to modern technology and affordable, reliable energy. They\\'re going to be able to buy microwaves. They\\'re going to be able to buy refrigeration for their food and their medicines and one day, they\\'re going to be able to buy a car. Even so, energy use per capita in developing countries will still remain below the OECD.\\n\\nThe demand outlook for OECD countries shown in red highlights the large-scale impact of energy efficiency. GDP in these countries is expected to grow about 70% between now and 2040. However, energy demand is likely to remain essentially flat as expanded use of energy-efficient technologies and practices lead to significant energy savings. Without these efficiency gains, we estimate global demand growth would be about four times our projected 25%.\\n\\nFinally, I\\'ll note, our energy outlook assumptions are consistent with the aggregation of Paris climate agreement commitments.\\n\\nSo now we\\'ll move to discussion of energy supplies needed to meet this growing demand. As the world\\'s population grows and living standards improve, we expect to see an evolving energy landscape, driven by advances in technology, available resources and trade. Together, oil and natural gas will meet about 60% of global demand in the year 2040, about the same percentage as they do today, and will lead growth even though the energy mix evolves.\\n\\nWe expect oil will remain the leading energy source as it remains essential to meet growing needs for transportation and as a feedstock for petrochemicals. Natural gas is abundant and well suited to meet rising power generation and industrial needs, while also providing a cost-effective option to reduce carbon dioxide emissions. Natural gas demand will increase more than any other energy type, surpassing coal to become the second-largest source, in part driven by a tripling of global liquefied natural gas demand across this period.\\n\\nThe outlook anticipates that stringent government policies will increase the cost of CO2 emissions over time. These policies will incentivize the growth of energy types with low-carbon intensity, including natural gas, nuclear, solar and wind.\\n\\nOur view is grounded in the reality that abundant energy supplies are vital to modern life. Greater access to affordable and reliable energy will remain fundamental to reducing poverty and advancing standards of living for billions of people around the world.\\n\\nTo sustain progress and further expand prosperity, the world must increase the availability of affordable energy solutions. Therefore, meeting the growth in global energy demand will require diverse energy supplies from conventional and unconventional oil and gas, as well as liquefied natural gas and nuclear and renewables. We should pursue all economic opportunities.\\n\\nFortunately, technology advances continue to expand our energy options while helping to minimize our environmental footprint. Continued access to high-quality resources and substantial investments will remain fundamental in meeting these challenges. And free markets, supported by sound and reliable public policies, remain vital to the development of new energy supplies. This includes policies that promote free and open trade, and encourage private sector investments.\\n\\nSo now I\\'ll provide a business and operational update. Shown here is the Upper Zakum development, offshore Abu Dhabi, which utilizes our innovative approach of creating four artificial islands to maximize economic recovery from this very large field. Exxon Mobil, along with our partners, developed the island drilling concept, which has significantly reduced total development cost. Exxon Mobil provides industry leadership to meet the world\\'s energy needs. Key elements of our strategy are shown on this chart. Our approach has been consistent for decades, and through systematic implementation and continuous improvement, these elements have become resilient, competitive advantages.\\n\\nRisk management and operational excellence are at the very core of our business activities. Investment and cost discipline, along with world-class project execution result in the best asset mix in the industry. We continuously seek to high grade our portfolio beyond our exploration program through accretive acquisitions, restructurings and asset sales.\\n\\nAs I\\'ll discuss in the coming slides, we capture significant value-added benefits from our vertical integration. Our long-standing commitment to technology leadership stimulates innovation and provides unique advantages. And our high-performing workforce drives premier results across our businesses. Our employees are the best of the best, and their dedication produces the results that I share with you today. In short, we are delivering on our commitments and achieving differentiated performance to meet our objective of growing shareholder value.\\n\\nThe level of Exxon Mobil\\'s business integration is a sustainable, competitive advantage that is difficult to replicate, and we continue to increase that level of integration. Our businesses work together across the value chain to share knowledge, insights and best practices. This collaboration leads to better informed decisions, more efficient operations and higher quality investments, delivering unique value and resiliency. Our diverse asset base provides market optionality and operational flexibility to optimize value every step of the way from the wellhead all the way to the consumer. This structural advantage drives our differentiated financial strength and our superior results.\\n\\nAs I mentioned earlier, Exxon Mobil maintains a disciplined and paced investment approach, focused on creating long-term value. In 2016, we expect to spend around $23 billion or $8 billion less than in 2015. This plan reflects lower upstream project spending as we continue to bring major projects to completion and into production. Downstream and chemical plants reflect unique opportunities to grow and strengthen those businesses. We anticipate the 2017 budget will be less than $23 billion. We have a flexible, high-quality opportunity set and have the capability to increase the investment program based on market demand fundamentals or adjust future spending lower should conditions warrant. By selectively investing through the cycle, we remain positioned to capture market efficiencies and savings to deliver better financial returns.\\n\\nWe remain steadfast in our objective to create superior long-term value. Our planned deliverables are summarized on this chart. We manage the business to achieve industry-leading returns throughout the commodity price cycle. We work to maximize value chain benefits across the integrated portfolio, adjusting to changing product demand and improving the portfolio mix.\\n\\nCapital discipline remains paramount to our continued success. We\\'ve paced the investment program selectively, investing in attractive opportunities while maintaining our flexibility to adjust.\\n\\nUpstream volumes are an outcome of the investment program, and we anticipate a range of 4.0 million to 4.2 million oil equivalent barrels per day of production through the year 2020.\\n\\nCash flow is expected to grow from new investments, continued operating excellence, reduced spending and self-help initiatives, and we continue to share the corporation\\'s success with our shareholders. Distributions are made with a view to building long-term value by providing a reliable and growing dividend.\\n\\nNext, I\\'ll review our Upstream business. Exxon Mobil has a high-quality, diverse portfolio of assets, with oil and natural gas producing activities in 24 countries. Currently, we\\'re producing 2.3 million barrels per day of liquids and 10.5 billion cubic feet per day of natural gas. This base of operations provides long-term cash flow and the capability to progress attractive new opportunities through the cycle to meet long-term energy demand.\\n\\nWe have an extensive portfolio of approximately 100 capital projects to develop over 20 billion oil equivalent barrels, providing us multiple options that enable selective and paced investment. These projects are at varying stages of advancement, including those that are already under construction like the Odoptu Stage 2 project in Sakhalin, Russia; projects in the engineering design stage, such as the Tengiz Expansion project in Kazakhstan; and opportunities where we\\'re evaluating concepts to expand development around existing infrastructure, such as deepwater tiebacks offshore West Africa.\\n\\nWe have an unmatched opportunity base across multiple resource types, including both short and longer cycle opportunities that provide investment flexibility. Let\\'s talk about some of our recent startups. Projects that started up in 2015 added 300,000 oil equivalent barrels per day of working interest capacity. In West Africa -- in the deepwater, we added 70,000 oil equivalent barrels per day of working interest capacity with two capital-efficient projects that leveraged on existing infrastructure, the Erha North Phase 2 project in Nigeria and Kizomba Satellites Phase 2, offshore Angola. Both of these projects started up ahead of schedule and below budget. The Kearl expansion project started up five months ahead of schedule. The project incorporated learnings from the initial development phase and doubled Kearl\\'s production capacity to 230,000 barrels per day. In Indonesia, the Banyu Urip project added 75,000 barrels per day of working interest capacity. Production has now successfully ramped up to full capacity at 185,000 barrels per day.\\n\\nMoving on to 2016, 2017 startups. 10 projects are scheduled to be completed this year and next, adding more than 450,000 oil equivalent barrels per day of working interest capacity. These projects highlight the geographic resource diversity of our portfolio. As you can see, the locations range from North America to Russia, from Australia to the Middle East. Also consistent with energy demand growth projections, we are investing across several resource types, including liquefied natural gas, deepwater developments, conventional and the Arctic. We\\'re making great progress with these major construction projects with four of them starting up already this year.\\n\\nWe also have an attractive domestic onshore resource base. Our U.S. unconventional resource base is over 15 billion oil equivalent barrels. We continue to focus on liquids growth mainly through development in the Permian Basin and the Bakken plays with 2.1 million net acres and current net production of 230,000 barrels per day. In 2015, we increased our net Permian and Bakken production nearly 25%. The Permian unconventional production component nearly doubled as we increased horizontal drilling in the Wolfcamp formation in the Midland Basin.\\n\\nAdditionally, we continue to improve our acreage position through trades and farm-ins. We operate over 80% of our U.S. unconventional assets. Our ownership and operating position enable flexible development consistent with the business environment. As such, we\\'ve reduced our rig count over 70% from the peak 2015 levels while remaining positioned to adjust those levels up or down further depending on the market conditions.\\n\\nTurning to our exploration portfolio. As shown on the map, we\\'re pursuing a diverse set of high potential resource opportunities, which could add to our resource base. We hold more than 110 million net acres from under-explored regions with higher risk, but higher reward potential, to more established lower-risk basins close to existing infrastructure. We recently captured 10 new opportunities covering over 2 million net acres, gaining exposure to multiple plays in established areas as well as new emerging basins. The yellow stars marked the eight discoveries we made in 2015. We added 1.4 billion oil equivalent net barrels to our resource base, including the Liza exploration well, offshore Guyana, which was the largest oil discovery by industry in 2015. Additional resource was also added in Iraq, Nigeria, Romania, Australia and onshore North America.\\n\\nWe\\'ve accumulated an attractive position offshore Guyana, a new area with very large resource potential. We recently acquired an operating interest in the Canje Block adjacent to our existing Stabroek Block. This brings our total position to 8.1 million gross acres. To put this in perspective, this is the equivalent of 1,400 Gulf of Mexico blocks.\\n\\nFollowing the Liza-1 discovery, we completed the largest proprietary 3-dimensional seismic survey in our company\\'s history and have initiated a multi-well exploration and appraisal drilling campaign, with the spud of the Liza-2 well in February of this year. The data from this appraisal well and the 3D seismic will be used to further our understanding of the block\\'s potential and possible development concepts.\\n\\nLet\\'s now take a look at our Downstream and Chemical business. As the points on the map indicate, we have refining and petrochemicals manufacturing assets in all major regions of the world, supporting the marketing of our products in more than 130 countries. Our scale, integration and balanced portfolio of assets in fuels, lubricants and chemicals provide opportunities to capture the highest value for each molecule, while also capturing operating efficiencies.\\n\\nTo further grow the value of these businesses, we are progressing a diverse portfolio of attractive investments. Consistent with our strategy, these investments capitalize on several value chain opportunities, which include increasing feedstock and logistics flexibility.\\n\\nTo highlight a few projects underway, we are increasing our sour crude oil processing capability in Baton Rouge, Louisiana by expanding sulfur handling capacity by 40%, while also implementing steps to improve access to a broad range of North American crude oils.\\n\\nAt our refinery in Beaumont, Texas, we\\'re expanding capacity to run attractive light crude oils by 20,000 barrels per day. In chemicals, we are constructing a multibillion-dollar ethane steam cracker and associated polyethylene facilities in Texas, to capitalize on low-cost North American feedstock. When completed, these facilities will be among the world\\'s most competitive petrochemical projects through scale and integration with existing manufacturing facilities and production of premium metallocene polyethylene.\\n\\nAs mentioned earlier, at the Antwerp refinery in Belgium, we\\'re constructing a 50,000-barrel per day delayed coker to upgrade low-value bunker fuel oil currently produced at our Northern European refineries into higher value low sulfur -- ultra-low sulfur diesel.\\n\\nAt the Rotterdam refinery in the Netherlands, we are expanding the hydrocracking unit to upgrade low-value hydrocarbons into premium lube base stocks and ultra-low sulfur diesel, positioning ExxonMobil as the first large-scale producer of Group 2 base stocks in Europe.\\n\\nAt our Fawley refinery in the United Kingdom and our refinery in Singapore, we are making investments to debottleneck existing units, allowing us to upgrade distillate streams into higher value chemical intermediate products.\\n\\nEach of these projects target our most competitive strategic assets. We are also making selective investments in our lubes and chemical value chains to increase production of specialty products. We\\'re currently commissioning a specialty elastomers facility in Saudi Arabia to produce synthetic rubbers, polyolefin elastomers and carbon black to serve the auto industry.\\n\\nIn Singapore, we are expanding finished lubricant manufacturing capacity to support rapidly growing sales of our industry-leading synthetic lubricant products such as Mobil 1. Also in Singapore, construction is underway on a world scale facility to produce premium synthetic rubber for the growing tire market and premium resins for adhesive applications. These investments will strengthen ExxonMobil\\'s leading global positions in these high-growth products.\\n\\nOur direct interface with consumers is largely through our brands such as Esso, Exxon, Mobil and Mobil 1. Our broad product offering is supported by quality and reliability along with technology development, which enables us to bring new high performance products to market and further grow our brands.\\n\\nOver the past decade, we have more than doubled sales of synthetic lubricants including Mobil 1, Mobil Delvac 1 and a Mobil SHC. We\\'ve increased branded retail fuel sales by expanding our network to more than 20,000 Exxon, Mobil and Esso branded stations along with providing innovative brand marketing and technology programs to deliver a superior customer offering.\\n\\nI\\'ll conclude the business and operational update with a photo of construction under way at our world scale Baytown refining and petrochemical complex, one of the investments I described earlier. These major investment programs, whether they are new country entries or expansions of existing and legacy locations, can only succeed if we also invest in the communities where we live and work. The people of ExxonMobil understand and take seriously our responsibilities to shareholders, to communities, our neighbors and our customers to be responsible corporate citizens and to operate with the highest standards of ethical behavior. Safety and environmental protection are more than just a priority at ExxonMobil, they are core values, an integral part of our culture and fundamental to the success of our business.\\n\\nAs we develop oil and gas resources to meet the world\\'s growing energy needs, we must do so in a manner that contributes to the economic and social development of the communities in which we operate. Our efforts are directed at employing and training local workforces, supporting local suppliers and service providers and improving the livelihoods of the community members.\\n\\nWe continue to make substantial progress in training and hiring host country workers, which advances local economic development and education. For example, in Chad, 94% of our personnel are citizens of that country, and 72% of supervisory roles are held by locals. We make strategic investments to support needs of local communities. In 2015, we contributed $268 million to community initiatives around the world. Our education initiatives include programs supporting both students and teachers that encourage pursuit of careers in science, technology, engineering and math.\\n\\nFor 15 years, we have been a leader in the fight to combat preventable and treatable illnesses like malaria. To date, the antimalarial programs we have funded have reached more than 125 million people. Our support has helped train more than 520,000 health workers as well as distribute 3.8 million doses of antimalarial treatments and almost 14 million bed nets.\\n\\nWe\\'ve learned that empowering women economically is essential to local development. Through ExxonMobil\\'s women\\'s economic opportunity initiative, we invest in programs to develop the next generation of female entrepreneurs and business leaders. Through these programs, we provide the skills, resources and access to technology needed to increase their productivity and their income.\\n\\nAnd our people give not only of their personal treasure, but also their time through volunteering. Nearly 15,000 Exxon employees -- ExxonMobil employees, retirees and their families donated more than 629,000 hours to almost 5,000 charitable organizations in 34 countries around the world. It is not a slogan, but a fact. Where ExxonMobil people go, good things happen in those communities.\\n\\nIn highly capital-intensive industries such as ours, financial results and stock market returns are best viewed over a long time horizon. The energy industry requires sustainable risk management of the physical assets as well as the cash and the capital and long cycle times for investments to deliver results. ExxonMobil has generated greater shareholder returns than the average of our competitors over the last 5-, 10- and 20-year periods. These superior returns reflect our sustained financial and operating advantages that position us to maximize shareholder value.\\n\\nI want to leave you with a few personal thoughts about our company and its meaningful contributions to society. We are delivering on our business commitments in creating long-term shareholder value. Our talented, dedicated workforce drives premier results, providing reliable, affordable energy to advance human progress the world over.\\n\\nExxonMobil is more than an energy company. We\\'re making a significant difference in our communities, creating economic opportunities and improving lives by investing in better education, health care and infrastructure. We are pioneering science and advancing technologies to improve energy efficiency, reduce emissions and expand the sources of energy. We\\'ve taken thoughtful consistent action to protect the environment and to help understand and reduce the risk of climate change. I\\'m certainly proud of our employees. Who we are, what we do every day to provide energy the world needs while supporting our communities and improving the lives of people the world over.\\n\\nNow before we continue with our planned agenda items, I want to share with you a brief video that illustrates some of these meaningful contributions.\\n\\n(video playing)\\n\\nREX TILLERSON: So now, turning to the formal business of the meeting and a few brief remarks on shareholder proposals and voting. Each year, the corporation receives a number of suggestions from shareholders. Some of these are in the form of proposals to be presented at the Annual Meeting and each is given careful consideration.\\n\\nWe seek dialogues with the sponsors prior to the meeting when there is more time to better understand each other\\'s positions and we often find agreement. Let me be clear on the conduct of the meeting. Recognizing that the majority of our shareholders have voted by proxy and are not present, we have established procedures to facilitate an orderly meeting.\\n\\nWe\\'ve set up a process for speakers to identify themselves and to express their views and I assure you, we welcome those views. In order that as many shareholders as possible can participate, we have set time limits and a system of reminders to help you manage your time.\\n\\nWe have 14 items to consider. As Secretary Woodberry said earlier, discussion on all items of business will be deferred to the discussion period. This may enable us to have some time for general comments and questions as well and conclude the meeting in a reasonable time frame.\\n\\nFor those of you who may wish to leave the meeting at any time, let me express my appreciation for your attendance. Since we have a number of items yet to discuss on the program and you\\'ve been sitting for a while, I would invite you to stand and take a short stretch break and I would ask that you not leave the hall. We\\'ll resume in just a moment.\\n\\n(Break)\\n\\nREX TILLERSON: If you\\'d please take your seats. The first item of business is the election of 14 directors. I nominate the 14 persons identified on Pages 16 through 20 of the proxy statement. These 14 people are highly qualified to serve on the Board.\\n\\nAll of our nominees are currently serving as ExxonMobil directors, except for [Ms. Braly], who has been nominated by the Board for first election as a director today. All director nominees are in attendance today with the exception of Jay Fishman who was unable to attend, although I know Jay has dialed in on the Internet to the meeting.\\n\\nNow I\\'d like to ask the nominees seated to my right in the orchestra terrace to be recognized as their names are called and then I\\'ll close the nominations. Michael Boskin, Peter Brabeck-Letmathe, Angela Braly, Ursula Burns, Larry Faulkner, Henrietta Fore, Kenneth Frazier, Douglas Oberhelman, Sam Palmisano, Steve Reinemund, William Weldon and Darren Woods.\\n\\nI declare the polls open for all who want to vote in the election of directors and the 13 remaining items. If you wish to change your proxy instructions on the election of directors or any other of the 13 items or if you have not submitted a proxy and wish to vote by ballot, they are available from the ushers.\\n\\nPlease raise your hand if you would like a ballot at any time during the formal business. They will be collected after all items have been discussed.\\n\\nThe next item on the agenda is the ratification of PricewaterhouseCoopers as the independent auditors. The Audit Committee of the Board has appointed PricewaterhouseCoopers to audit ExxonMobil\\'s financial statements for 2016, and we are asking shareholders to ratify that appointment.\\n\\nPricewaterhouseCoopers is represented today by Mr. Alan Page. Alan, would you please stand? Thank you.\\n\\nThe Audit Committee\\'s reasons for recommending PricewaterhouseCoopers appear in the proxy statement. I move the adoption of the proposal shown on Pages 24 and 25 of the proxy statement.\\n\\nThe next order of business is consideration of the Board-sponsored proposal regarding Executive compensation. This board proposal calls for shareholder advisory vote to approve Executive compensation as required by law. The Board recommends a vote for this proposal, as outlined on Pages 26 and 27 of the proxy statement.\\n\\nThe next order of business is consideration of the 11 shareholder proposals in the proxy statement. The first shareholder proposal regarding an independent chairman is shown on Pages 56 and 57 of the proxy statement. I understand that Beth Richtman will present the proposal. Beth, are you here? Yes.\\n\\nBETH RICHTMAN, INVESTMENT MANAGER, CALPERS: Good morning. Mr. Secretary, Chair, members of the Board and fellow shareholders. My name is Beth Richtman. I am an investment manager at CalPERS, the largest U.S. pension fund, with approximately $300 billion under management.\\n\\nCalPERS is a long-term owner with 13 million shares of ExxonMobil worth over $1 billion. I\\'m here to present Proposal Number four, which calls on Exxon to separate the positions of chair and CEO in the transition to the next CEO on behalf of the Ellen Higgins Trust.\\n\\nCalPERS firmly believes that companies with good corporate governance and sustainable business practices will outperform over the long term. In our view, a separate independent chair and CEO structure eliminates the conflicts of interest, which arise when the CEO is also responsible for board oversight. It\\'s like grading your own exam papers when you have a chair who effectively oversees the CEO.\\n\\nWith the announced retirement of Mr. Tillerson, we think it\\'s an excellent time to review Exxon\\'s leadership structure and improve the governance by separating the chair and CEO roles.\\n\\nNow is a time of great change, great risk and great opportunity for Exxon and the energy sector. Many other governments -- many other companies, large shareowners and governments all agree that the COP21 Paris agreement sets us on a path towards a low-carbon economy.\\n\\nIt is widely recognized that chairing the Board is a very time-intensive job. Having a separate chair would provide more time for Exxon\\'s CEO to focus on running the company and the Board to focus on oversight in this time of unprecedented change for the company and the energy sector.\\n\\nWith an improved governance structure and improved focus and time commitments for the key leaders at Exxon, we would also expect improved disclosure to shareowners on how Exxon is analyzing and preparing for the transition to the low-carbon economy.\\n\\nCalPERS appreciates this opportunity to address the Board directly. We think that it is unfortunate that Exxon\\'s current policy prevents the Board from having a dialogue with shareowners.\\n\\nEngagement between shareowners and directors leads to the type of productive discussion of long-term strategic issues that can prevent the necessity of shareholder proposals and proxy battles. We\\'re hopeful Exxon will end this policy of preventing these important conversations with your shareowners.\\n\\nIn closing, please join CalPERS and vote for Proposal Number four to separate the CEO and chair roles and bring our company into the realm of best practice. Because accountability and transparency are the key tenets of good governance, CalPERS has also been actively soliciting with The New York City Comptroller\\'s office for Proposal Number seven concerning proxy access and Proposal Number 12 to improve the company\\'s risk reporting concerning climate change risk. Combined, these proposals will set Exxon on a future course for success. As long-term owners and as fiduciaries, we ask for nothing less. Thank you.\\n\\nREX TILLERSON: Thank you. The Board recommends a vote against this proposal, as outlined on Page 57 of the proxy statement.\\n\\nThe next shareholder proposal calls for the addition of a climate expert to the Board and as shown on Page 58 of the proxy statement. I understand Fr. Michael Crosby will present the proposal. Fr. Crosby?\\n\\nMICHAEL CROSBY, CAPUCHIN FRANCISCAN FRIAR: Good morning, Mr. Tillerson and Board members and fellow shareholders. As Mr. Tillerson said, I am Michael Crosby. I\\'m a Capuchin Franciscan friar priest from Milwaukee. So I move our resolution. We\\'re asking for a person with climate change expertise to be on the Board for two main reasons.\\n\\nAs many of you know, ExxonMobil doesn\\'t allow its shareholders to have access to the Board, as a whole, or any of its members to discuss these issues independent of management. But the other reason, if you would look at Pages 6 to 8, is according to the references for the Board members, which are substantial, not one person has any expertise on climate.\\n\\nAnd as a result, the Board is only able to address the issue given what management says. It notes the fact that 12 members have global business credentials, that five members have financial expertise, one has some credentials in chemistry, but management\\'s own list has nobody identified with climate risk. And this is the biggest risk facing the company\\'s business, not to mention everybody on the planet. Maybe if we would have had a climate change expert on the Board, she or he would not have allowed Exxon to act in the way they did when we first filed our shareholder resolution in 1997 on climate change or maybe they wouldn\\'t have denied it for the first 10 years after we did file it.\\n\\nEven as I speak today, the company is still supporting efforts, it seems, by some to undermine state\\'s efforts to ensure the health of their people by having some kind of mitigation around climate change.\\n\\nToday, at the meeting, we heard from CalPERS and CalPERS just issued a statement that from now on, they\\'re going to be asking all companies to have somebody with climate change on their board. If that\\'s going to be for all companies, how much more for a company where almost 100% of our product and our efforts and production is related to climate change.\\n\\nI\\'d like to compliment you on the way you began your remarks. I think it\\'s the first time, and you know I\\'ve been here quite a bit, where you begin with the problem of climate change and acknowledged it. But at this stockholders meeting, with more press participating than ever, ExxonMobil has a chance to restore the public\\'s trust. This calls for conversion. I like the kiosk out there that talked about the drone and we can create disruptive change, you said.\\n\\nWe don\\'t want disruptive change. We want constructive change and this conversion invites us to change. As a Catholic priest, I join Pope Francis in believing that conversion is possible to more and more efforts around renewables. And so as a result of that, I urge support for our resolution. Thank you.\\n\\nREX TILLERSON: Thank you, Fr. Crosby. The Board recommends a vote against this proposal, as outlined on Pages 58 and 59 of the proxy statement.\\n\\nThe next shareholder proposal, to hire an investment bank as shown on Page 59 of the proxy statement. I understand that Tracey Rembert will present the proposal. Ms. Rembert?\\n\\nTRACEY REMBERT, SHAREHOLDER, CHRISTIAN BROTHERS INVESTMENT SERVICES: Thank you, fellow shareholders, Mr. Tillerson and the Board. My name is Tracey Rembert and I\\'m here representing Christian Brothers Investment Services, which is a Catholic investment manager with over $6 billion in assets under management. We\\'ve been a longtime shareholder of ExxonMobil with over 329,000 shares currently, and we want to formally move Item Number Six, Ken Steiner\\'s proposal on hiring an investment bank to break up the company.\\n\\nWhile we don\\'t agree with this proposal, we are moving it as a formal courtesy to a fellow shareholder. We do think it -- we\\'re at an interesting time in discussion of the company and its current business model. But we haven\\'t given up on ExxonMobil just yet. We think that you can be prepared for a diversified energy future, but we can\\'t keep having these conversations year-over-year. I think in terms of action that\\'s needed, solutions that need to come to the table, I really hope I\\'m not here 10 years from now having the same conversations and the company has dramatically started to address some of the issues raised.\\n\\nI\\'m here to talk about impact on the world\\'s poor, and issues continue to circle around the company about the nimbleness of your current business model to be able to address issues. Exxon presents a false choice between providing reliable and affordable energy and addressing climate change. We don\\'t think it\\'s an either/or. We think right now, absolutely, both issues need to be addressed. Impacts the world\\'s poorest communities, including those in the global South, are happening now. Climate change is not some abstract thing likely to happen 80 or 100 years from now. It is here, and it is visceral, and it\\'s devastating the world\\'s poor people, and Exxon has said for over a decade that it wants to provide affordable energy to the world\\'s poor, but only through business as usual measures, but we expect more.\\n\\nWe question whether lives will actually be improved in low-income communities if they are regularly suffering from the impacts of drought, extreme weather, geopolitical upheaval due to climate change and other factors. We want to hear from our company how you will begin to address these impacts that are a consequence of your core products and current business model.\\n\\nThis is not about \"abundant energy supply\" as you just mentioned in some of your remarks earlier. This is about abundant ultra-low carbon energy supply for the masses that want energy. This is what is needed.\\n\\nWe currently question whether ExxonMobil long term will do more harm than good with its current business strategy. And, therefore, we really urge you, Mr. Tillerson, especially the Board, as new leadership comes in, it\\'s now or never.\\n\\nThe impacts to the world\\'s poor -- we\\'ve far surpassed, I think, the point where people are suffering and we\\'d really like to see Exxon bring some viable solution to the table, not just talking about small investments in an energy transition. We do want to see Exxon actually steer us to a low-carbon path. Thank you.\\n\\nREX TILLERSON: Thank you, Ms. Rembert. The Board recommends a vote against this proposal, as outlined on Page 59 of the proxy statement.\\n\\nThe next shareholder proposal for a proxy access bylaw is shown on Page 59 and 60 of the proxy statement. I understand that Michael Garland will present the proposal. Mr. Garland?\\n\\nMICHAEL GARLAND, ASSISTANT COMPTROLLER FOR CORPORATE GOVERNANCE AND RESPONSIBLE INVESTMENT, OFFICE OF NEW YORK CITY COMPTROLLER: Good morning Mr. Chairman, members of the board and fellow shareowners. I\\'m with the office of New York City Comptroller, Scott Stringer, and I\\'m presenting Proposal Seven on behalf of The New York City Pension Funds.\\n\\nThese funds have $160 billion in assets and are substantial, long-term ExxonMobil shareowners. We\\'re voting 10.5 million shares at today\\'s meeting valued at nearly $1 billion and this represents the retirement security for New York City\\'s teachers, firefighters, police and other loyal city employees.\\n\\nProposal seven calls for a proxy access bylaw to enable shareowners that have collectively held at least 3% of the company for three years to include a limited number of director candidates on the company ballot.\\n\\nThe proposed bylaw is intended to give substantial long-term shareowners a meaningful voice in electing the directors responsible for overseeing the company\\'s long-term strategy and risks, including risks related to climate change.\\n\\nProxy access will enable Exxon shareowners to ensure that the Board is made up of independent and accountable directors who have the diverse mix of relevant skills, experience and perspectives necessary to navigate these challenges and create long-term shareowner value.\\n\\nThe proposed bylaw includes appropriate safeguards to prevent abuse, a 3% interest in Exxon is currently valued at over $11 billion. By any measure, a significant stake in the company\\'s future. There\\'ve been extraordinary developments since last year\\'s Annual Meeting when the proposal received 49% of votes cast and these highlight why this is a defining moment for the board and why proxy access is so important for Exxon shareowners.\\n\\nOxford University released a study that found that major oil companies face significant risks from groupthink because they make large lumpy investments with long time horizons. The study found that Exxon had the least diverse board, particularly with respect to age range, nationality and industry experience among the six largest oil and gas companies in the world, publicly traded, and was therefore most exposed to risks of groupthink.\\n\\n175 companies -- 175 countries signed the Paris agreement, demonstrating that there\\'s global political will to limit carbon emissions, a scenario the Board must take more seriously.\\n\\nThe Saudi government announced dramatic steps to prepare its economy for the inevitability of a low-carbon future. Major oil companies like BP and Shell have supported shareowner requests for climate risk reporting similar to Proposal 12, which The New York City funds have joined with CalPERS to actively support along with proxy access.\\n\\nFinally, since last year\\'s meeting, more than 200 U.S. companies have enacted proxy access bylaws on terms similar to Proposal Seven. They include the largest U.S. oil companies other than Exxon. They include seven companies at which Exxon directors also serve as directors.\\n\\nMany of these companies have voluntarily enacted proxy access without the need for a vote, including more than 70% of the 72 companies that received proposals from New York City this year.\\n\\nExxon\\'s board is an outlier in its continuing opposition to proxy access, the climate risk reporting and to engaging directly with shareowners. It\\'s time for the board to demonstrate its commitment to an accountable system of corporate governance that fosters long-term value creation.\\n\\nWe urge shareowners to vote for Proposal Seven. Thank you.\\n\\nREX TILLERSON: Thank you, Mr. Garland. The Board recommends a vote against this proposal, as outlined on Pages 60 and 61 of the proxy statement.\\n\\nThe next shareholder proposal calls for a report on compensation for women and is shown on Pages 61 and 62 of the proxy statement. I understand that Tom Sifferman will present this proposal.\\n\\nTOM SIFFERMAN, REPRESENTATIVE, MOBIL OIL: Thank you, sir. It\\'s good to be back here again, Chairman. The Board of Directors, shareholders, this is my second time presenting this. My name is Tom Sifferman as indicated. I\\'m a Ph. D. and Registered/Licensed Professional Engineer and speaking on behalf of Eve Sprunt, my former coworker at Mobil Oil. She\\'s a Ph. D.\\n\\nI have eight bullet items, most of it it\\'s in the proxy statement, but one thing I wanted to say is that there is no doubt that Exxon from ExxonMobil\\'s statement in the proxy that they are attempting to help women advance.\\n\\nThe question is how effective those actions have been? Subtle and subconscious prejudice is difficult to combat as a major factor for women\\'s underrepresentation in leadership roles. The value that is placed one someone\\'s role within a company is reflected in their monetary compensation.\\n\\nWomen in management and executive ranks are often underrepresented and support functions that are less well compensated instead. The results of ExxonMobil\\'s actions are -- if they are so good, please show us the money, that\\'s the important thing, provide data on how women\\'s compensation compares with men\\'s at all levels. The Bureau of Statistics and Labor reports that 76% of human resource managers are female, but on the average, their pay is only 71% of their male counterparts. If human resource managers, who are the company\\'s watchdogs can\\'t take care of themselves, who can?\\n\\nThe proof of how successful the efforts are is in the money. Again, show us the money. We need to see the data. If, and that\\'s a question if, if ExxonMobil is a leader in advancing women the compensation data should be a valuable recruiting tool to attract the best and brightest women, let\\'s use it for our advantage. As shareholders, we want ExxonMobil to succeed in advancing women to attract and retain the most advanced, most talented and productive women.\\n\\nWomen also invest money in different funds and fund managers now days don\\'t seem to be too concerned about sending female investors a message that there should be pay transparency. Basically, show us the money. Thank you very much.\\n\\nREX TILLERSON: Thank you, Mr. Sifferman. The Board recommends a vote against this proposal, as outlined on Pages 62 and 63 of the proxy statement.\\n\\nThe next shareholder proposal calls for a report on lobbying and is shown on Pages 63 and 64 of the proxy statement. I understand that Hughes Jenkins will present the proposal. Mr. Jenkins?\\n\\nHUGHES JENKINS, EMPLOYEE, UNITED STEELWORKERS: Fellow shareholders and members of the board, my name is Hughes Jenkins, and I\\'m a nine-year employee at ExxonMobil in Baton Rouge, Louisiana. On behalf of the United Steelworkers and (inaudible) followers, I hereby move Item Nine. The proposal asking our company to provide a report on state and federal lobbying expenditures including indirect funding of lobbying through trade associations and support for the American Legislative Exchange Council known as ALEC.\\n\\nIllustrating the deep international concern about lobbying and climate change, AP7, a Swedish pension fund, which owns over 3.4 million shares joined as a co-filer this year. Transparency and accountability in corporate spending to influence public policy are the best -- are in the best interest of ExxonMobil shareholders, and a high profile investigation into whether our company mislead investors on climate change only underscores the importance of full disclosure.\\n\\nCorporations contribute millions of dollars to trade associations, they\\'re directly -- they lobby indirectly on their behalf without specific disclosure or accountability. ExxonMobil does not even disclose its trade association membership nor the portions of these payments used for lobbying, so shareholders currently have no way to know how much ExxonMobil\\'s trade association contributions are being used to lobby on its behalf.\\n\\nExxonMobil also contributes to tax-exempt organizations [their] right and endorse model state legislation playing a key role in ALEC. ALEC has attracted negative attention for its role in promoting bills on anti-immigration policies, and also blocking EPA regulation on climate change. ALEC also promotes legislation that seeks to diminish workers\\' rights in our country. As a proud member of the United Steelworkers Union, I find many of ALEC\\'s proposed laws to be distasteful.\\n\\nThis is one of the reasons why we are seeking full disclosure on lobbying. Our company argument against Item Nine suggests shareholders can use government (inaudible) to get this information, but public information does not provide a clear picture of ExxonMobil\\'s lobbying expenditures, nor is it easy to assess.\\n\\nWe urge shareholders to vote for this proposal to mandate our company supply this important report. Thank you.\\n\\nREX TILLERSON: Thank you, Mr. Jenkins. The Board recommends a vote against this proposal, as outlined on pages 64 and the 65 of the proxy statement.\\n\\nThe next proposal calls for a commitment to increase the total amount authorized for capital distributions and is shown on Page 65 and 66 of the proxy statement. I understand that [Natasha Lamb], will present the proposal. Ms. Lamb?\\n\\nNATASHA LAMB, DIRECTOR OF EQUITY RESEARCH, ARJUNA CAPITAL AND BALDWIN BROTHERS: Good morning, Mr. Chairman, members of the Board and fellow shareholders. My name is Natasha Lamb, and I am here on behalf of Arjuna Capital and Baldwin Brothers\\' client Eric MacCallum to move Proposal Number 10, which asks our company to prioritize profitability and value over growth by returning more capital to shareholders.\\n\\nWe ask this in light of increasingly risky investments in potentially stranded carbon assets. That is carbon assets we can\\'t burn without irreversible climate disruption. Implementing the proposal would represent a prudent, albeit, disciplined path forward in the face of unburnable carbon assets, which represent approximately two-thirds of proven global reserves according to the International Energy Agency.\\n\\nThese reserves cannot be burned when the Paris Climate Agreement established by 196 countries to prevent a less than 2 degrees Celsius rise in global temperature goes into effect. For a while, the business plan of extracting as much carbon as quickly as possible was a winner, last century, that same plan will destroy value this century and already has. Historic levels of capital spend on growth assets has eroded profitability and Exxon\\'s risk profile, return on equity and return on invested capital are at historic lows.\\n\\nProfitability has fallen 68% over the last decade and Exxon\\'s sterling credit rating has just been downgraded, increasing the company\\'s cost of capital. Continuing to grow high cost fossil fuel reserves in the face of global climate change disruptive agreement is no longer prudent.\\n\\nCitigroup estimates unburnable fossil fuel reserves could amount to over $1 trillion out to 2050. While the Carbon Tracker Initiative estimates that as oil majors choose to undertake projects consistent with a 2-degree demand level, combined upstream assets would actually be worth $140 billion more.\\n\\nWe are asking our company to prioritize value over growth, investing in the most profitable core carbon assets and returning a greater percentage of profits to shareholders, which would allow Exxon to decrease in size while increasing profitability, essentially shifting from a business plan of growth for growth\\'s sake to one of value.\\n\\nTo the opposite end, profitability has decreased, while total capital distributions have fallen for the last three years, by 35% last year and they\\'re projected to fall 50% in 2016 from 2014 levels. I urge shareholders, management and the board to fully consider this strategically important issue at such a critical juncture. Thank you.\\n\\nREX TILLERSON: Thank you, Ms. Lamb. The board recommends a vote against this proposal as outlined on Pages 66 and 67 of the proxy statement.\\n\\nThe next shareholder proposal calls for a policy to limit global temperature increases to 2 degrees centigrade and is shown on Pages 67 and 68 of the proxy statement. I understand that Sister Patricia Daly will present the proposal.\\n\\nPATRICIA DALY, SISTERS OF ST. DOMINIC OF CALDWELL NEW JERSEY: Good morning, Mr. Tillerson. How are you today?\\n\\nREX TILLERSON: I\\'m well. Thank you.\\n\\nPATRICIA DALY: Good morning, everybody, and members of the board. My name is Sister Patricia Daly. I\\'m a Dominican Sister of Caldwell, New Jersey, the lead filer along with 32 other institutional investors, most of whom -- many of whom are here today, but most of whom are members of the Interfaith Center on Corporate Responsibility, representing faith-based initiatives, institutions, Native American tribes, health care systems and asset management firms.\\n\\nI move Item 11 on the proxy, which asks ExxonMobil to adopt a policy acknowledging the imperative to limit global warming to 2 degrees Celsius. This resolution calls for moral leadership on the part of our company. Accepting the moral obligation of the 2-degree target in the midst of the climate crisis is surely the lowest hurdle our company will face on this issue.\\n\\nInstead, in opposing this resolution, our company has chosen to disregard the consensus of the scientific community, the will of 195 nations that signed the Paris Agreement in December, many of our peers in the oil and gas industry and the calls of faith leaders from the Catholic, Jewish, Christian, Muslim, Buddhist and interfaith traditions. I\\'m particularly and personally challenged by our Pope Francis in his encyclical letter, Laudato Si\\', that was published last year, a reflection to all peoples on the planet on our common home. I hope people here may take the time to read that.\\n\\nOpposing this resolution positions our company against a movement for climate justice. As the world moves forward, ExxonMobil stands still. Every day, new reports and incidents demonstrate the importance of the 2-degree target for the sake of our planet for future generations and vulnerable communities, communities hit hardest by climate change. Record wildfires still rage in Alberta, disrupting the production of the very tar sands fueling global warming. We can see impacts today all around us.\\n\\nIn a world already facing the worst refugee crisis in generations, continued conflict and war and projected extreme heat waves that will render parts of the world uninhabitable, we must limit our warming to 2 degrees. Decades have been lost in the fight against climate change due in part to our company\\'s deliberate campaign of disinformation.\\n\\nMr. Tillerson, last year, at the oil and gas -- the annual Oil & Money Conference, you said and I quote, \"There\\'s also a humanitarian dimension and a moral imperative to what we do.\" Today, we ask our company to acknowledge the full breadth of its moral imperative, moral responsibilities to provide the solutions to energy poverty while limiting global warming to less than 2 degrees. Anything less is a false solution for the world\\'s poorest and most vulnerable. Please join your peers like Shell, BP and Saudi Aramco who stated, and I quote, \"Our shared ambition is for a 2-degree future. It\\'s a challenge for the whole of society. We are committed to playing our part.\" Now ExxonMobil must play its part, too.\\n\\nMr. Tillerson, you said earlier in the energy outlook that you believe that the energy outlook is in line with the 2-degree limit. If you really believe that, why would you and our Board of Directors recommend a vote against this resolution? Thank you.\\n\\nREX TILLERSON: Thanks, Sister Pat. The board recommends a vote against this proposal as outlined on Pages 68 and 69 of the proxy statement.\\n\\nThe next shareholder proposal calls for a report on impacts of climate change policies and is shown on Pages 69 and 70 of the proxy statement. I understand that Edward Mason will present the proposal. Mr. Mason?\\n\\nEDWARD MASON, SHAREHOLDER, CHURCH COMMISSIONERS FOR ENGLAND: Thank you. Chairman, members of the board, shareholders, good morning. My name is Edward Mason from the Church Commissioners for England, who manage the Church of England\\'s endowment. We\\'re long-term shareholders interested in the sustainable success of the companies in which we invest, and it\\'s a pleasure to be here in Dallas for Exxon\\'s annual meeting.\\n\\nThe Church Commissioner is a lead co-filer of shareholder Proposal Number 12, which was filed by New York State Common Retirement Fund, whom I\\'m also representing. The resolution asks Exxon to publish annually an analysis of how its portfolio stress tests against a scenario in which the world restricts warming to 2 degrees. This is a reasonable request.\\n\\nChairman, as you have acknowledged this morning, climate change is real. The desire of global governments to restrict warming to below 2 degrees, affirmed in the Paris Agreement, is real. The financial risks and opportunities for companies associated with the transition to a low-carbon economy are real. These risks have been recognized by the global Financial Stability Board chaired by the governor of the Bank of England, which has created a task force on climate-related financial disclosure.\\n\\nExxon\\'s peers have agreed to provide regular portfolio resilience reporting, including BP, Shell and Total. At BP and Shell\\'s annual meetings last year, the reporting request was endorsed by 98% of shareholders at both companies. Because of Exxon\\'s decision to diverge from its peers and oppose the request in this resolution, management will today experience a major shareholder revolt.\\n\\nChairman, the board is losing the confidence of its investors on climate change. In the run-up to this annual meeting, investors with over $10 trillion of assets affirmed their support for this shareholder proposal.\\n\\nMany of the world\\'s largest asset managers are voting against management today -- Aegon, Amundi, Aviva Investors, AXA Investment Managers, BMO Global Asset Management, BNP Paribas Investment Partners, HSBC Global Asset Management, Legal & General Investment Management, Natixis Asset Management, Robeco and Schroders. The world\\'s largest sovereign wealth fund, the Norwegian Government Pension Fund, pension schemes from around the world from the public and private sector alike and church investors like us from three continents are all voting against management.\\n\\nChairman and members of the board, Exxon can do better. Following today\\'s vote, the investors backing this proposal look forward to starting afresh and having a responsive and productive engagement with the company on climate-related disclosures.\\n\\nREX TILLERSON: Thank you, Mr. Mason. The board recommends a vote against this proposal as outlined on Pages 70 and 71 of the proxy statement.\\n\\nThe next shareholder proposal calls for the company to report reserve replacement in BTUs and is shown on Page 71 of the proxy statement. I understand that Danielle Fugere will present the proposal. Ms. Fugere?\\n\\nDANIELLE FUGERE: Thank you. Ladies and gentlemen of the board, Mr. Chairman and all shareholders gathered here today, good morning. My name is Danielle Fugere. Thank you for the opportunity to move Item 13 entitled Carbon Asset Transition. This proposal sends a clear message that shareholders want our company to prepare to thrive in the coming clean energy economy. It\\'s becoming clear, and I think we\\'ve heard today, that business as usual is no longer a viable strategy for the 21st century and in fact is incompatible with a livable planet.\\n\\nRecognizing the urgency facing businesses to respond to climate change, this proposal seeks to provide a means by which our company can move beyond the current business model, begin to respond to new opportunities and consider becoming an energy company for the future.\\n\\nThis proposal asks Exxon to account for energy reserves in resource-neutral BTUs, or British thermal units, an internationally accepted energy unit, in addition to the traditional barrels of oil equivalent. Since Exxon already uses BTUs, this reporting is not difficult to accomplish. And this seemingly minor accounting tweak will have major consequences. It will help our economy and the market account for and place value on a range of energy resources beyond just oil and gas, including geothermal, cellulosic biofuels, wind, solar and other energy resources. By aligning one of the market\\'s primary valuation metrics, reserve replacement, with this imperative for lower carbon energy, a path to become a truly diversified and competitive energy can be forged.\\n\\nCurrently, in oil and gas companies, market value is based in large part on reserve replacement ratio. Did the company replace every used barrel of oil it produced with a newly discovered barrel of oil? If annual oil reserve replacement isn\\'t 100% or greater, a company\\'s stock market value may be impaired. Unfortunately, we saw both of these things happen to Exxon this year when S&P downgraded the company\\'s credit, it noted that in its view, the company\\'s greatest business challenge is replacing its ongoing production.\\n\\nThe all-important reserve replacement metric locks management into an endless hunt for more oil and gas. So shareholders look to Exxon to be a leader in beginning the inevitable transition to becoming a diversified energy company, able to compete in a decarbonizing economy. Imagine energy analysts looking at Exxon\\'s filings in the future and seeing 67% of barrels of oil equivalent replacement and 100% BTUs, and then the next year, 60% barrels replaced and again, 100% BTUs. This tells a story of a company in transition to not only survive, but thrive in a clean energy economy. We urge shareholders to vote in support of proxy Item 13. Thank you for your attention.\\n\\nREX TILLERSON: Thank you, Ms. Fugere. The board recommends a vote against this proposal as outlined on Page 72 of the proxy statement.\\n\\nThe last shareholder proposal calls for a report on hydraulic fracturing and is shown on Pages 72 and 73 of the proxy statement. And I understand, Ms. Fugere, you will present this proposal as well.\\n\\nDANIELLE FUGERE: Thank you. I\\'m also presenting Item 14, a shareholder proposal requesting Exxon to increase its transparency on hydraulic fracturing operations. A similar proposal was filed last year and received 25% support from voting share owners.\\n\\nRather than improving its transparency, however, Exxon has remained a laggard in demonstrating to shareholders that it is using practices that reduce risk and reduce harms. In the face of well-known environmental and social impacts, the public has continued to pass restrictions and moratoria, limiting business opportunities and imposing a wide range of costs on companies, from the cost of delay to complete loss of access to valuable resources, all of which materially impact investors\\' holdings. Improved reporting helps reassure the public that companies are addressing local issues such as air and water pollution, truck traffic and noise and competition for water in water-scarce areas.\\n\\nLocal issues require local reporting, thus we ask the company to report on local issues on a play-by-play basis, so that neighbors can understand specifically what the company is doing in their neighborhood. If Exxon reports worldwide reductions in air pollution, that does nothing to alleviate concerns of local community members about what the company might be doing in their neighborhoods.\\n\\nBetter reporting also provides information as to whether the company is using best practices in places where they are not legally required to do so. Stating that the company follows the law is not useful in places where the law doesn\\'t sufficiently protect communities. Methane leakage is a good example. The public and lawmakers are focused like lasers on the issue of whether companies are monitoring or/and addressing methane leakage where it occurs. If leaks aren\\'t addressed, natural gas may become worse for the climate than coal. While methane leakage laws are being developed, it\\'s critically important that industry and Exxon get out in front of the issue and trumpet the actions they are taking to prevent or address methane leaks.\\n\\nExxon is currently far behind other companies in its reporting. Leaders like BHP Billiton, Hess, Apache, CONSOL and Noble Energy earned top scores this year in a report called Disclosing the Facts, while Exxon rated near the bottom, again, far behind its peers and frankly, behind where such a leading company should be. Peer reporting has earned these other companies accolades, and the sky hasn\\'t fallen around them.\\n\\nIn the absence of meaningful disclosures, shareholders have no way to fully assess the steps Exxon is taking, both over time and relative to peers, regarding its actions to reduce the impact of its shale oil and gas operations. It\\'s beyond time that Exxon begin to demonstrate leadership in this important area. We encourage shareholders to vote for proxy Item number 14 to increase Exxon\\'s transparency and communicate on these important issues. Thank you.\\n\\nREX TILLERSON: Thank you, Ms. Fugere. The board recommends a vote against this proposal as outlined on Pages 73 and 74 of the proxy statement.\\n\\nAll items of business have now been introduced. I invite any of you who want to, to stand and stretch your legs again for a minute. And for those of you who wish to address the meeting in the discussion period, this would be a good time for you to move toward the aisle to the reserved seats, so you\\'ll have ready access to a microphone.\\n\\n(Break)\\n\\nREX TILLERSON: Okay, let\\'s resume the meeting, so if you would take your seats please.\\n\\nI would now open the floor for discussion on the items of business presented. I\\'d like to emphasize that your comments should be limited to only the board and shareholder proposals in the proxy statement at this time. As I said earlier, we\\'ll try to set some time aside to address other topics if we have time remaining. We received a number of questions on proxy cards and through our website. As time permits, we\\'ll try to get to some of those.\\n\\nAs described earlier, move to the aisle if you\\'ve not already done so, or if not already seated nearby. Remain seated and raise your speaker identification card to indicate you want to address the meeting. When recognized, give your completed speaker identification card to the usher, and a microphone will be provided. Stand and begin by stating your name and the board or shareholder proposal you want to comment on. Bear in mind the rules of conduct shown in the program. Make your comments as brief as possible so that we can allow as many people to address the meeting as wish to do so. We\\'ll continue to use the lighting system to help you manage your time. First priority will be given to those who have not yet had an opportunity to speak. So I would welcome your questions or comments at this time.\\n\\nQuestions and Answers\\n\\nREX TILLERSON: There in the back.\\n\\nDAVID RIESMAN, SHAREHOLDER: Fellow shareholders -- oh sorry. My name is David Riesman. I\\'m speaking on Item Nine, lobbying. Fellow shareholders, member of the board, I\\'m here representing Yale University\\'s Dwight Hall, one of the co-filers of the lobbying proposal.\\n\\nYale and over 1,000 academics have publicly indicated support of this proposal. In the past year, Exxon has come under unprecedented scrutiny of its political spending and public policy positions, including ongoing investigations by the state attorney general to determine whether ExxonMobil deliberately misled the public and investors. This investigation and the risk it poses to shareholder value underscore the need to improve disclosure and oversight of our company\\'s lobbying, especially through third parties.\\n\\nExxon publicly supports a carbon tax and acknowledges the realities of climate change, but its lobbying practices appear to conflict with his positions. Exxon\\'s management justifies its support of organizations that obstruct climate policy by claiming that Exxon supports some, but not all, of the actions of such organizations.\\n\\nHowever, because Exxon is an oil and gas company, the company\\'s exposure to climate policy obstructionism is in danger of being construed as intentional. We believe that ExxonMobil shareholders deserve to understand the process by which the company contributes to organizations whose positions contradict Exxon\\'s stated principles, blocking progress on climate change.\\n\\nIt\\'s hard to take these principles in good faith while seeing these contradictory practices. For example, Exxon is an active leader and funder of ALEC, a primary agent of climate policy obstructionism. The company has justified participation in ALEC on the basis of the organization\\'s STEM lobbying, among others.\\n\\nHowever, Exxon can pursue STEM lobbying through other organizations. Recently, 100 companies have publicly left ALEC. Many companies, including Shell and BP, have determined that ALEC\\'s harmful climate obstruction outweighs any of ALEC\\'s benefits. Given that ALEC\\'s harmful policy obstruction seems to overshadow any other membership benefits, why is this company still associated with ALEC? Thank you.\\n\\nREX TILLERSON: Thank you. Other speakers? All right, down here. I didn\\'t hear a question.\\n\\nDAVID RIESMAN: Why the company is still associated with ALEC, given the previous statements?\\n\\nREX TILLERSON: Well, ALEC, as you probably know, is an organization of state legislators and legislative bodies, over 400 members. And most of the most productive legislation in this country is passed at state levels.\\n\\nWe have found our engagement with them to be very productive in a number of broad areas, whether it\\'s tax policy, other regulatory areas, particularly educational reform, and that is why we remain engaged with them. We find them to be a highly competent and very thoughtful policy organization. Whether we agree with the positions they ultimately take or not, we find the engagement very useful to our understanding of these issues, and we intend to continue.\\n\\nDown here.\\n\\nMICHAEL MACCRACKEN, CHIEF SCIENTIST, CLIMATE CHANGE SCIENTIST, MERCY INVESTMENT SERVICES: Thank you. Mr. Tillerson, members of the board, my name is Michael MacCracken. I\\'ve been a climate change scientist for nearly 50 years, and I\\'m here on behalf of Mercy Investment Services, speaking with respect to the items raised in Proposals 11 and 12.\\n\\nAt last year\\'s shareholder meeting, Mr. Tillerson, you responded to an audience question that climate model results were too uncertain to be reliable, and that if emissions cutbacks were not sufficient, engineering ways would emerge and serve as plan B. While we\\'ll have no -- or we\\'ll have no choice but to try and adapt, I\\'d suggest that the international scientific community would take strong exception to the viewpoints you expressed with respect to what it means with regards to national and international policies.\\n\\nOn the first point, in DOE\\'s major, widely peer-reviewed 1985 climate change assessment that preceded IPCC, Exxon\\'s leading climate change scientist for the past several decades, Dr. Brian Flannery, coauthored the chapter on projecting climate change. That chapter concluded that quote, \"Climate models currently available when run with standard scenarios of fossil fuel CO2 emissions indicate a global warming of the order of 1 degrees C by the year 2000 relative to the year 1850, an additional 2 to 5 degrees C warming over the next century.\" So that projection was made three decades ago, and it\\'s still the case today. Basically, we\\'ve had a good sense of what the large-scale outcomes were, but the actions we have taken have really not changed things much.\\n\\nIndeed, as you said last year, improving climate models and having more data and computer resources have been helpful, but there are inevitable uncertainties. The top line conclusions, however, have not changed over this entire period. The main reason now for the differences between models is with respect to the choices we make with what energy technologies we have, what emissions we have. So basically, we need to decide what\\'s going to happen with respect to the future.\\n\\nWith the potential -- with respect to the potential for mitigation -- with adapting, all major assessments indicate that it\\'s going to be very hard technologically and economically to adapt to a lot of the different consequences, biodiversity and other things.\\n\\nSo my question would relate to these resolutions, have to do with what due diligence analyses ExxonMobil has done to date with respect to the likelihood and what we\\'re finding in the scientific community, the consequences are becoming more severe -- likely to be more severe than IPCC has been projecting? And what win-win solutions ExxonMobil is looking for to try and meet the more aggressive actions that are going to be needed to meet the Paris accord and objectives.\\n\\nREX TILLERSON: Well, as you and I have spoken before, my view on the competency of the models has really not changed. And in fact, that is reflected in the IPCC\\'s own FAQs. In the FAQs following the Paris climate accord, the question was asked of the IPCC panel, is there a scientific basis for the 2-degree centigrade target?\\n\\nAnd you can go to the FAQ and find this for yourself. I\\'m going to paraphrase it. The answer is no. There is and they say it, they go on to say there is no scientific basis for the 2-degrees centigrade target. The target has been one chosen by society in a general consensus process. I take no exception to that, okay? So we can set the science apart from what we, as society, decide we\\'re going to choose to pursue as a matter of policy.\\n\\nSo now your question is as a matter of policy. And I said to you relative to the understanding of the science, there\\'s no space between us and the IPCC. We see the science the same way. Our differences on policy choices are, I think, one that is grounded in reality. And the reality is, there is no alternative energy source known on the planet or available to us today to replace the pervasiveness of fossil fuels in our global economy and on our very quality of life, and I would go beyond that and say our very survival.\\n\\nSo it is a judgment of balance between future climatic events, which could prove to be catastrophic, but are unknown by the IPCC\\'s own acknowledgment, and more immediate needs of humanity today to address poverty, starvation, broad-based disease control and the quality of life of billions that people who are still living in today, which is unacceptable to many of us. And the only way out of that is to provide them the energy sources we have today. And that\\'s why we continue to believe fossil fuels will have a significant and important role to play for as far as we can see. And no government studies disagree with that.\\n\\nSo then your second question is what do we do? So then what we do is we have now, for more than three decades, focused our research efforts on given that, that is the case, how can we provide people the capability to use these fuels and these energy sources in a less impactful way? And in the early days, we invested in enormous amounts of time and energy on energy efficiency. How can I continue to carry out my activities consuming the same amount of fossil fuels and have a lower impact on the atmosphere and the surrounding environment? And we continue that.\\n\\nWe have advanced our technology investigations, and I addressed them today. We think one of the important breakthroughs that is needed is in carbon capture sequestration. If, in fact, our view is -- turns out to be true and the world\\'s going to have to continue to use fossil fuels whether they like it or not, if we can achieve a breakthrough on carbon capture sequestration, we can continue using fossil fuels, capturing the carbon in an economic way and sequestering it. And that is a huge if, but it\\'s also a huge breakthrough that would change things dramatically. A lot of people are working on that. And we\\'ve been working on it on a very long time. And I mentioned today a new endeavor we have entered into that we believe has promise, but we also know it is many years away from perfection.\\n\\nSo those are the kinds of things we are doing. So we are not ignoring the risk that is out there. And I think as you and I discussed, I don\\'t think we see it all that differently. Our differences are how we think we\\'re going to address it. And again, we are grounded in the reality of the world we live in today and what is known technologically to us today. And I would invite you to read a piece that Bill Gates recently wrote where he has undertaken on himself to support research. And he would come to the same conclusion. He and I have had this conversation. There\\'s no space between we -- he and I on this either. We\\'ve got to have some technology breakthroughs. But until we achieve those, just saying turn the taps off is not acceptable to humanity. Thank you.\\n\\nMICHAEL MACCRACKEN: If I may just for a moment respond on the issue of the Paris levels. I mean, it is the case that there\\'s no sort of sharp threshold because consequences are getting worse and worse and worse. And society has set that partly as a political one because it can\\'t achieve what the scientific community would suggest, which is -- it was about 0.5 degree warming when we started losing mass from Greenland and the Antarctic ice sheets. And what paleoclimatic evidence talks about and would say, coming out of the last glacial and as has been the case in the past history, is that sea level rise ultimately is of the order of 15 to 20 meters per degree C warming in global average temperature. It\\'s tremendous, not something that is easily adapted to.\\n\\nSo yes, society chose an arbitrary level, and they haven\\'t committed yet to try and even -- made the commitments to even get to that level. But really, they should be pushing down and doing all they can. And that\\'s what we\\'re basically asking for is doing all that can be done with regard to cutting emissions.\\n\\nREX TILLERSON: I understand, and so I\\'m going to respond to a couple of points you made there, and then we\\'re going to move on to another speaker. The factors that you just described, 15 meters, half a degree C, there are a large number of alternative views that suggest those are the most extreme outcomes. And in fact, an IPCC scientific paper, as you well know, they show a very broad range. So you are focusing on the worst possible combination of events from all of the possible scenarios. We choose to look at it as a range of risk, and that\\'s the way we manage our business as well. And again, I don\\'t think there\\'s any space between us other than the solutions that we think we have to pursue.\\n\\nYes, sir, in the middle?\\n\\nDAVID MARTINEAU, GEOLOGIST: My name is [David Martineau]. I\\'m a geologist, and I\\'ve been drilling and fracking wells for about 56 years now. But the reason I\\'m here kind of is this interest -- they used to call it global warming, but now it\\'s called climate change. You want to know why? The planet has cooled by 0.07 degrees in this past century, partially because of the Exxon emerging energy policies. We thank you for that.\\n\\nBut if you want to know about global warming, there\\'s a book called Unstoppable Global Warming, and it was a bestseller in The New York Times. And it tells you why we have global warming today, and we\\'ve been having it forever and ever.\\n\\nThe other item was an article that was written by, I can\\'t read my numbers here, let me (inaudible - microphone inaccessible) by Ian Pilmer (sic - Ian Plimer). He\\'s an Australian geologist, and he edits the Encyclopedia for Geology. And he came up with where does carbon dioxide really come from? A four-day volcano eruption in Iceland negated every single effort for the past five years to control CO2. Also, there was one in the Philippines in 1991. It spewed out enough greenhouse gas in a year to take care of everything that\\'s happened in our country forever and ever as far as CO2. CO2 is that vital chemical compound that every planet requires to live and grow and synthesize into oxygen for us humans and all animals to live. We need -- global warming is here and it\\'s going to be here forever. Trying to change it here the last few bits doesn\\'t make sense.\\n\\nOne quick thing about fracking. The first frac job occurred, believe it or not, in 1866. Colonel Edward Roberts got out of the military -- Civil War, and he came up with the idea of dropping gunpowder down in a wellbore where they were drilling shallow wells. And they went ahead and ignited that, and it increased the production tenfold. And we\\'ve been fracking wells for 100 years. Thanks to that, we have a lot of oil and gas. He patented that, and people didn\\'t want to pay the patent fee. So they would do it at night, and that\\'s where the word moonlighting came from. But if you all don\\'t like what you\\'re doing here, why -- I mean if you don\\'t like Exxon, why don\\'t you go ahead and sell it and buy some solar stock? And whether you\\'ll have enough money to pay for your gasoline and pay for your jet fuel that you used to come to visit here, but I recommend you vote against all of the carbon planet change proposals. Thank you.\\n\\nREX TILLERSON: Thank you. In the inside aisle here.\\n\\nRENEE BOUCHARD: Good morning. My name is [Renee Bouchard] and I\\'m actually from Texas. I live in Wimberley, Texas. Maybe you all are aware, if you watched the news a year ago yesterday, we were inundated by a flood that devastated our town. I lost our home. My family lost our home as well as 400 other homes in Wimberley were destroyed by the catastrophic flood. Needless to say, my feeling is that the effects of climate change are real and are happening now, not something that\\'s abstract and in the future, not something that\\'s just been affecting indigenous populations, even though that\\'s really heartbreaking as well. Our flood was one of five flooding-related federal disasters in Texas just in the past two years.\\n\\nI\\'ve lived in this area for over 20 years. Flooding, as you know, you\\'ll be saying: flooding happens in that part of Texas. That\\'s true, but not like this, a 40-foot wall of water, 13 inches of rain. Anyway, when these disasters happen, federal taxpayers spend billions on aid and bailouts. As you all probably are aware, State Attorneys Generals have suggested fossil fuel companies may be legally liable for these climate damages. I think from today\\'s meeting, I know what your position is and whether Exxon should be held legally liable for damages from climate change.\\n\\nSo my question is, what happens if the company loses in the coming court battles? And I anticipate there will be more. How is Exxon calculating the financial risks it would face if fossil fuel companies have to pay for damage from climate change, like the tobacco companies who, for many decades, said cigarettes were not an unhealthy thing to take part in. Thank you.\\n\\nREX TILLERSON: Speculating on future court events would be irresponsible on my part, and therefore those numbers will be unestimable. Over here.\\n\\nKATHY MULVEY, ACCOUNTABILITY CAMPAIGN MANAGER, UNION OF CONCERNED SCIENTISTS: Good morning. I\\'m Kathy Mulvey with the Union of Concerned Scientists, and I\\'m attending on the proxy of the Unitarian Universalist Association. And I have a question related to Item Nine on transparency and in climate science and policy.\\n\\nLast July, UCS published The Climate Deception Dossiers, evidence that ExxonMobil and other major fossil fuel companies have intentionally spread disinformation about climate science for decades. I have one copy here. So as state Attorneys General investigate whether ExxonMobil misled investors and the public about the realities and risks of climate change, people are increasingly making comparisons to the tobacco industry\\'s misconduct and measures taken to address it. ExxonMobil now claims that quote, \"We do not fund or support those who deny the reality of climate change.\"\\n\\nBut actions speak louder than words. ExxonMobil is represented on the board of the American Petroleum Institute, API, which continues to claim that the science of climate change is unsettled, while attempting to block efforts to limit carbon pollution. Exxon\\'s Randy Randol contributed to a notorious 1998 road map plan to sow uncertainty about climate science among the media, the public and policymakers. Other shareholders have spoken about ALEC, which was one of the organizations that API identified to bankroll that campaign. Your company sponsored ALEC\\'s 2015 annual meeting where attendees were told, \"The biggest scam of the last 100 years is global warming.\"\\n\\nMr. Tillerson, more than 26,000 UCS supporters have sent messages to you demanding that ExxonMobil stop funding ALEC as your peers, BP and Shell, have done. You\\'ve spoken this morning of commitment to integrity in everything we do. When will your company publicly condemn climate deception? And in response to the question from the Yale student, you seemed to imply perhaps not agreeing with ALEC. So what would a commitment to integrity mean in terms of separating the company from ALEC\\'s climate disinformation?\\n\\nREX TILLERSON: The only way I know to respond is to tell you that we will never withdraw our support for people to express their free-speech opinions on any matter whatsoever. And the fact that people have different opinions on climate change, they have every right to their opinion. Whether we agree with it or not, I will support their right to say so.\\n\\nKATHY MULVEY: To follow up on that, it\\'s quite clear from legal rulings that the First Amendment was never intended to protect fraud. And so clearly, there are consumer protection laws in the several federal states that are designed to present -- prevent commercial misinformation, so.\\n\\nREX TILLERSON: And we have responded to those allegations as well. They have largely been debunked. All of our publications are readily available, as you know, for examination. In fact, we donated all of those archives to the University of Texas at Austin. If we were wanting to hide something, we did a pretty poor job of it.\\n\\nLet\\'s go to the lady in the back there. No, right here, just in the middle.\\n\\nCHARLOTTE RAWLS, SHAREHOLDER: I don\\'t intend to speak and then I sit and write notes. My name is [Charlotte Rawls]. I come from Shoreacres, Texas, which is on Galveston Bay. I overlook the Baytown refinery. I watch and see what happens there daily because my window overlooks it. And what I see is a lot of smoke and a lot of flares. And then I cross the Fred Hartman Bridge and I go into Baytown, and I work with school children there. I work with school children who have much asthma -- and also in that area, heart disease and a lot of respiratory problems and cancer.\\n\\nI think it\\'s no wonder that we have one of the premier cancer institutes in Houston, MD Anderson, because we do have so much cancer in our area. When it rains, we see much more and the smells -- and definitely, it smells like toxins to me, I don\\'t know exactly what it is. I would like to see zero emissions. If we\\'re not going to admit to climate change and admit that fossil fuels are causing -- are a part of climate change, so at least let\\'s look at the health effects from the things that are coming out of the plants.\\n\\nI have experience in Baytown, but I also read about experiences about other people around the world. The other thing that happens with children is IQs are lowered when there\\'s significant amounts of air pollution, which there are in the city of Baytown.\\n\\nI do appreciate your admitting that there is climate change. I\\'ve been to several meetings. I followed ExxonMobil very closely because I\\'m a third generation shareholder. My grandfather worked for the Humble Pipe Line in -- right after World War I, and we did not buy anything, but Humble. We didn\\'t go to Shell, we didn\\'t go to Mobil, we didn\\'t go anywhere. We went to Humble. And it was not until the Exxon Valdez disaster that I started going to other places.\\n\\nI continue to have my stock and then inherited my mother\\'s stock. So I would also like to say something on behalf of my mother, which she voted every year, her proxy. And she said we need more women represented on the Board of Directors. I see a couple. I need to see more.\\n\\nThe other thing I debate often, whether I need to divest of my Exxon stock. I\\'m sorry, I still call it Exxon stock. ExxonMobil stock. It\\'s been a dilemma for me for a long time because I keep thinking that I can influence change. I\\'ve done that through the Waterkeeper Alliance. I\\'ve done that through the Natural Resources Defense Council. I\\'ve done it through Earthjustice.\\n\\nI try, I try, I try to make things better, but it\\'s about time to divest. I do benefit greatly from the stock. However, when I look to see what taxpayers are going to be paying for, I\\'m not sure it\\'s that good of a deal. Health care, and I want to go back to ALEC because we have still --\\n\\nREX TILLERSON: Could you begin to wrap it up?\\n\\nCHARLOTTE RAWLS: I\\'m sorry. I think it\\'s more expensive to own my stock than to take my dividends.\\n\\nREX TILLERSON: Thank you. So over here to this side of the hall.\\n\\nROBERT FORE, REPRESENTATIVE, PRESBYTERIAN CHURCH U.S.A.\\'S FOUNDATION: Thank you, Mr. Chairman. Ladies and gentlemen, members of the board and fellow shareholders. My name is Robert Fore. I\\'m here representing the shares of the Presbyterian Church U.S.A.\\'s Foundation. And as long-term shareholders, we are very concerned -- and well, very concerned about the long-term sustainability and importantly, profitability of our company.\\n\\nAnd I\\'m going to talk a little bit about the Items 11 and 12 today and talk specifically about some of the peer groups that were mentioned, peer companies and their recognition of the 2-degree scenario. Specifically, I want to talk about one, which is Saudi Aramco. Saudi Arabia has made it clear that they are seeking to monetize their oil reserves now, regardless of the impact on price.\\n\\nMinister Al-Naimi said that he could live with $20 per barrel. The Deputy Crown Prince has said $30 per barrel or $70 per barrel, it\\'s all the same to them. And he has furthermore announced plans, a plan called Vision 2030, in which he wants to wean his country off of oil by the year 2030 or sooner.\\n\\nGiven the global signals of the end of the oil era, from low commodity prices to recent statements and decisions from Saudi Aramco to start selling shares publicly to build up a $2 trillion sovereign wealth fund, we\\'re concerned about some of the claims of the future of energy will look very much like the past.\\n\\nI think you\\'ve talked a little bit today about 2040 scenarios. My question is, what do the Saudis -- or why do the Saudis see the future of oil -- future of energy so differently than the leadership of ExxonMobil? What do they know that we are not considering? Furthermore, what specifically are you doing to ensure the business model of ExxonMobil is nimble enough to withstand low carbon demand scenarios, including disruptions, be they technological regulatory or market-based?\\n\\nREX TILLERSON: Well, as to Saudi Aramco\\'s views or the Kingdom of Saudi Arabia, I -- you would have to ask them. I can\\'t speak on their behalf. I think we showed you today a number of things that we\\'re doing in terms of remaining flexible to alternative outcomes in the future.\\n\\nWe have, unlike many of our competitors, we have for many years included a price of carbon in our outlook. And that price of carbon gets put into all of our economic models when we make investment decisions as well.\\n\\nIt\\'s a proxy. We don\\'t know how else to model what future policy impacts might be. But whatever policies are, ultimately they come back to either your revenues or your cost. So we choose to put it in as a cost.\\n\\nSo we have accommodated that uncertainty in the future, and everything gets tested against it. As to other actions, it\\'s the research areas you see in terms of our understanding of the issue. And we probably have been engaged in the scientific study of this longer than any of our peers for four decades now. And we continue to be engaged, so we are very, very aware and up-to-date on the current scientific understanding. And we fund a number of research areas, both academically and institutionally, that are areas where people are investigating possible breakthroughs, whether it\\'d be in battery technologies or alternative fuel technologies or what\\'s the next possible game-changing technology.\\n\\nWe do that so we\\'re aware of whether that is something that has potential or not. And so we monitor all of that, and we invest and run our programs accordingly. And should something evolve, we have the capacity to become engaged in that if we see it is in the interest of our shareholders. So that\\'s how we\\'re responding.\\n\\nSo back over here.\\n\\nHUNTER MARTIN, SHAREHOLDER: Mr. Tillerson, my name is [Hunter Martin]. My wife and I have been driving up here from Houston for more than 25 years, going back to Larry Rawl\\'s days for the meetings. And I think I bought my first shares of the company probably the year you were born. And I don\\'t presume --\\n\\nREX TILLERSON: I wish my dad had bought some shares the year I was born.\\n\\nHUNTER MARTIN: I do not presume to forecast what\\'s going to happen over the next 12 months. But [Lori] and I want to thank you and compliment you on your stewardship of our company.\\n\\nApplying whatever parameters one would choose, you personify all that is best in America and world industry, and the lives of all of us shareholders are more secure and in return, happier because of you.\\n\\nOur thanks embrace the employees as well as the board. At the top, of course, is you and your superlative guidance. Congratulations on your achievements, Mr. Tillerson, and thanks for your dedication to all of us.\\n\\nREX TILLERSON: Thank you for those kind words. Right here.\\n\\nANNA KOLINSKI: CEO Tillerson, it\\'s good to have the opportunity to speak to you. So my name is [Anna Kolinski] and my grandfather, James F. Black, was a scientist for Exxon for over 40 years. He started with Standard Oil during World War II, later earned dozens of patents for Esso and later Exxon.\\n\\nIn 1977, he briefed the company\\'s top executives on the scientific realities of climate change. He said that present thinking holds that man has a time window of 5 to 10 years before the need for hard decisions regarding changes in energy strategies might become critical. Like you acknowledge on your slides, this was over 30, almost 40 years ago. And since then, Exxon has continued to support groups that dispute the science that my grandfather warned your company about.\\n\\nMy question was going to be, will you withdraw funding from ALEC because they\\'re known to spread misinformation about climate change, but it sounds like your answer on that is a resounding no. So since you won\\'t be doing that, will Exxon be taking action to, at all, refute or counteract the negative impacts they\\'re making by funding an organization that says that climate change is a scam?\\n\\nREX TILLERSON: We will continue to engage in the policy discussions, as we currently do, with a number of broad-based groups on all sides of these issues and we\\'ll continue to be active in the discussions legislatively in Washington and elsewhere, including through the IPCC on what we think are thoughtful, sensible policy actions that accommodate both our need for economic growth as well as addressing these risks, which are going to be very, very daunting. Thank you.\\n\\n<Presentation>\\n\\nREX TILLERSON: I believe all the items of business have been covered now. So if any of you have proxy cards, please hand them to the ushers at this time. Those of you who have already returned your proxy cards need not vote by ballot unless you wish to change your votes. If you wish to change your vote, simply mark the appropriate sections of the ballot. The ballots will now be collected and turned over to the inspectors of election to be counted. If you wish your ballot to be kept secret, the ushers will provide you an envelope.\\n\\nThe appointed proxies in attendance today hereby cast all votes which we have been authorized to cast, in accordance with the instructions indicated on the individual proxy cards. So if you have proxies, please pass those to the ushers in the aisles at this time.\\n\\nSince proxies and ballots have been collected, I now declare the polls closed.\\n\\nQuestions and Answers\\n\\nREX TILLERSON: While the inspectors of election are preparing their preliminary report, I\\'m willing to answer a few more questions regarding ExxonMobil\\'s business, maybe one or two because time is running late on us. But I\\'ll interrupt at the point that the election results are available. So are there any other questions that people would like to put to me at this time? Let me go over here to someone that\\'s not spoken.\\n\\nUNIDENTIFIED AUDIENCE MEMBER: Good morning, Mr. Tillerson, directors and fellow stockholders and employees and retirees of the corporation. For many years -- I\\'m a retiree of the corporation now. But for many years, I was on boards of health care and safety for the company. For years, we were told that in health care area, we have to have a big pool for synergies and for economies of scale. But today, I understand that the pool has been split between employees\\' health care and retiree annuitant\\' health care.\\n\\nMy question to you, Mr. Tillerson, is one is why was this done because we no longer reach these economies of scale if we split the health care pool? And two is any forward comments you can make about what the future might hold for us annuitants as far as the Medicare supplement plan or any health care that the company still helps us afford? Thank you.\\n\\nREX TILLERSON: Well, I\\'m not sure I would characterize it as a splitting of the pools. We have -- obviously, we track claims and premiums in both of those pools. And so the changes you\\'ve seen are merely reflective of that experience.\\n\\nFor many, many years, the retiree pool has been subsidized by the employee pool, and it still is today. And it\\'s just a question of how much of that burden -- as we continue to bring our manning levels down within the corporation, from roughly 115,000 at the time of the ExxonMobil merger to 73,000 today. We\\'ve got a look at the cost of the plan to everyone.\\n\\nI do want to acknowledge that all of our plan participants, retirees included, have really done a very, very good job managing their health issues, which has allowed us to keep our growth in health care costs down. And so we appreciate that.\\n\\nBut the changes you\\'re seeing are really just reflective of having to bring the things back into balance. I encourage everyone to continue to take advantage of the various programs that we do provide through the company to help manage your health care. That helps us keep the cost of the program down. As you know, it\\'s a self-funded program.\\n\\nHave you got a comment down here or a question?\\n\\nJULIAN MARTINEZ, REPRESENTATIVE, SER-JOBS FOR PROGRESS: Thank you, Mr. Chairman. My name\\'s Julian Martinez, and I represent SER Jobs for Progress National. SER is a national, nonprofit, community-based organization serving more than 1.3 million people a year by assisting them with their employment and educational needs.\\n\\nSER National would like to thank ExxonMobil for working with us and Hispanic Heritage foundation in the past. Your efforts in sponsoring STEM programs is exemplary, and we appreciate those efforts. However, an area that we strongly believe needs improvement is your governance.\\n\\nExxonMobil has no Hispanics on their board nor on their senior management team. In order to reflect the diverse nature of the American marketplace, you need to consider making some changes.\\n\\nThe American dream is alive and well. Hispanics born in this country are more highly educated and earn higher incomes than their immigrant parents. Hispanics outpace all other Americas in forming their own businesses. They will represent fully one-third of the U.S. population in just 45 years and be an economic force of great consequence. Latino-owned businesses increased 46.9% from 2007 to 2012.\\n\\nIn 2012, 3.3 million Latino businesses had receipts totaling over $517 billion, making it 12% of our total business. Female Latino business owners were 44.4% of Latino firms as compared to 35.3% for non-Latino firms. Hispanics are the youngest racial or ethnic group in the United States. About one-third or 17.9 million of the Latino population is younger than 18, about a quarter or 14.6 million are millennials. Exxon needs to consider who both their workforce and the customers will be and embody governance and leadership to reflect that market.\\n\\nMy question, totally unrelated is, what do you think the price of oil is going to do between one and five years?\\n\\nREX TILLERSON: Well, as many of have heard me say before, if I knew that, I wouldn\\'t be here. I\\'d be on the beach with my laptop, making an oil bet every morning. So I don\\'t know is the answer to the question.\\n\\n<Presentation>\\n\\nREX TILLERSON: The inspectors of election are ready to report the preliminary vote. So may we have your report, please?\\n\\nUNIDENTIFIED COMPANY REPRESENTATIVE: Mr. Chairman, at least 3.5 billion shares of stock of the corporation have been voted on the 14 items of business discussed at today\\'s meeting. Voting results are expressed as a percentage of total votes cast. According to New Jersey corporate law, abstentions are not votes cast.\\n\\nSubject to the final tabulation of votes, which should not materially change the results, we report that on average, 95.9% of the votes cast were voted to elect as directors the 14 nominees listed in the proxy statement.\\n\\nOn the resolution concerning the ratification of independent auditors, approximately 98.9% of the shares voting thereon were voted for, and 1.1% were voted against.\\n\\nOn the resolution concerning an advisory vote to approve executive compensation, approximately 89.3% of the shares voting thereon were voted for and 10.7% were voted against.\\n\\nOn the resolution concerning an independent chairman, approximately 38.8% of the shares voting thereon were voted for, and 61.2% were voted against.\\n\\nOn the resolution concerning a climate expert onboard, approximately 20.9% of the shares voting thereon were voted for, and 79.1% were voted against.\\n\\nOn the resolution concerning hire an investment bank, approximately 2% of the shares voting thereon were voted for, and 98% were voted against.\\n\\nOn the resolution concerning a proxy access bylaw, approximately 61.9% of the shares voting thereon were voted for, and 38.1% were voted against.\\n\\nOn the resolution concerning a report on compensation for women, approximately 8.5% of the shares voting thereon were voted for, and 91.5% were voted against.\\n\\nOn the resolution concerning a report on lobbying, approximately 25.8% of the shares voting thereon were voted for, and 74.2% were voted against.\\n\\nOn the resolution concerning increased capital distributions, approximately 4.1% of the shares voting thereon were voted for, and 95.9% were voted against.\\n\\nOn the resolution concerning a policy to limit global warming to 2 degrees C, approximately 18.5% of the shares voting thereon were voted for and 81.5% were voted against.\\n\\nOn the resolution concerning a report on impacts of climate change policies, approximately 38.2% of the shares voting thereon were voted for, and 61.8% were voted against.\\n\\nOn the resolution concerning report reserves replacements in BTUs, approximately 5.5% of the shares voting thereon were voted for, and 94.5% were voted against.\\n\\nOn the resolution concerning a report on hydraulic fracturing, approximately 24.5% of the shares voting thereon were voted for, and 75.5% were voted against.\\n\\nOur written reports will be submitted to the secretary as soon as they are completed.\\n\\nREX TILLERSON: Thank you. As stated in the written report of inspectors of election on each of these -- a written report of the inspectors of election on each of these matters will be delivered to the secretary, and they will be filed with the SEC on a Form 8-K.\\n\\nIn concluding the meeting, let me thank all of you once again for attending. We appreciate you taking the time and the effort to be here. We know some of you travel a long way to be with us today, and we always enjoy seeing you, and we appreciate that you take that time. We take all of your comments seriously. It is useful to us to hear from you. And even where we disagree, I know our disagreements are both sincere on the issues as we all see them. I think we all strive for the same goals, and that\\'s to provide a great quality of life for our -- not just ourselves and our children, but people the world over. And that\\'s what the men and women of ExxonMobil are dedicated to.\\n\\nSo it\\'s great to see the shareholders that are here every year, great to see some of our [annuitants] here. Appreciate you all being here. Safe travels.\\n\\n[Thomson Financial reserves the right to make changes to documents, content, or other information on this web site without obligation to notify any person of such changes.\\n\\nIn the conference calls upon which Event Transcripts are based, companies may make projections or other forward-looking statements regarding a variety of items. Such forward-looking statements are based upon current expectations and involve risks and uncertainties. Actual results may differ materially from those stated in any forward-looking statement based on a number of important factors and risks, which are more specifically identified in the companies\\' most recent SEC filings. Although the companies may indicate and believe that the assumptions underlying the forward-looking statements are reasonable, any of the assumptions could prove inaccurate or incorrect and, therefore, there can be no assurance that the results contemplated in the forward-looking statements will be realized.\\n\\nTHE INFORMATION CONTAINED IN EVENT TRANSCRIPTS IS A TEXTUAL REPRESENTATION OF THE APPLICABLE COMPANY\\'S CONFERENCE CALL AND WHILE EFFORTS ARE MADE TO PROVIDE AN ACCURATE TRANSCRIPTION, THERE MAY BE MATERIAL ERRORS, OMISSIONS, OR INACCURACIES IN THE REPORTING OF THE SUBSTANCE OF THE CONFERENCE CALLS. IN NO WAY DOES THOMSON FINANCIAL OR THE APPLICABLE COMPANY OR THE APPLICABLE COMPANY ASSUME ANY RESPONSIBILITY FOR ANY INVESTMENT OR OTHER DECISIONS MADE BASED UPON THE INFORMATION PROVIDED ON THIS WEB SITE OR IN ANY EVENT TRANSCRIPT. USERS ARE ADVISED TO REVIEW THE APPLICABLE COMPANY\\'S CONFERENCE CALL ITSELF AND THE APPLICABLE COMPANY\\'S SEC FILINGS BEFORE MAKING ANY INVESTMENT OR OTHER DECISIONS.]'"
            ],
            "application/vnd.google.colaboratory.intrinsic+json": {
              "type": "string"
            }
          },
          "metadata": {},
          "execution_count": 9
        }
      ],
      "source": [
        "call=df.iloc[38]\n",
        "\n",
        "print('Date: ', call['Date'])\n",
        "print('Title: ', call['Title'])\n",
        "print('Word Count: ', len(call['Text']))\n",
        "print('Text:')\n",
        "call['Text']"
      ]
    },
    {
      "cell_type": "markdown",
      "metadata": {
        "id": "Yg_ohnHgC_3N"
      },
      "source": [
        "This call took place on May 25th, 2016. The transcript is over 125,000 words, nearly as long as the third Lord of the Rings book. It would be a pain to read all of it, so we'll use python to extract insights. Currently, the contents of `call[\"Text\"]` is a [\"string\"](https://docs.python.org/3/library/stdtypes.html#text-sequence-type-str)-- a sequence of characters. We can do a number of things with strings, including splitting a big string into smaller strings using a specific delimiter and the `.split()` function. For example, I can break down the whole text of the earnings call roughly into sentences by splitting the string every time I encounter a period (\".\"). This returns a list of smaller strings, and if i select the first one using `[0]`, I get the first sentence of this call:"
      ]
    },
    {
      "cell_type": "code",
      "execution_count": 10,
      "metadata": {
        "colab": {
          "base_uri": "https://localhost:8080/",
          "height": 35
        },
        "id": "0lt9pXgugv6L",
        "outputId": "1d416415-0ee9-4d16-ac97-b12faed3267f"
      },
      "outputs": [
        {
          "output_type": "execute_result",
          "data": {
            "text/plain": [
              "\"I'm Rex Tillerson, I'm the Chairman and Chief Executive Officer of the Exxon Mobil Corporation\""
            ],
            "application/vnd.google.colaboratory.intrinsic+json": {
              "type": "string"
            }
          },
          "metadata": {},
          "execution_count": 10
        }
      ],
      "source": [
        "call['Text'].split('.')[0]"
      ]
    },
    {
      "cell_type": "markdown",
      "metadata": {
        "id": "RnNtpHY8iWvv"
      },
      "source": [
        "Lovely! the first sentence is an introduction by then-CEO [Rex Tillerson](https://en.wikipedia.org/wiki/Rex_Tillerson).\n",
        "\n",
        "<img src=\"https://upload.wikimedia.org/wikipedia/commons/thumb/5/53/Rex_Tillerson_official_portrait.jpg/800px-Rex_Tillerson_official_portrait.jpg.jpg\" alt=\"drawing\" width=\"200\"/>\n",
        "\n",
        "He was CEO of Exxon from 2006 until he retired on January 1st 2017. One month later, he was sworn in as U.S. Secretary of State under Donald Trump. Let's see what Rex thinks about climate change!\n",
        "\n",
        "## Regular Expressions (Regex)\n",
        "\n",
        "Another thing we can do with strings in python is search them using regular expressions. A regular expression is a sequence of characters that specifies a search pattern in text. You can play around building some regex queries using this [tool](https://regexr.com/).\n",
        "\n",
        "You can think about this as Ctrl+F on steroids; In its simplest form, we can use regex to search for a character, word, or phrase in a bunch of text. For example, we can use regular expressions to count how many times \"climate change\" is mentioned in this earnings call using the `re.findall()` function:"
      ]
    },
    {
      "cell_type": "code",
      "execution_count": 11,
      "metadata": {
        "colab": {
          "base_uri": "https://localhost:8080/"
        },
        "id": "FMtXvNgVgtMc",
        "outputId": "5169cca0-2be6-4423-b8e9-74efc6e5cc79"
      },
      "outputs": [
        {
          "output_type": "execute_result",
          "data": {
            "text/plain": [
              "51"
            ]
          },
          "metadata": {},
          "execution_count": 11
        }
      ],
      "source": [
        "# import the regular expressions library\n",
        "import re\n",
        "\n",
        "# use the findall function to search for mentions of \"climate change\" in the text of our call\n",
        "climate_change = re.findall(r'climate change', call['Text'], re.IGNORECASE)\n",
        "\n",
        "# this returns a list of strings matching our search term.\n",
        "# the length of the list gives us the number of occurances\n",
        "len(climate_change)"
      ]
    },
    {
      "cell_type": "markdown",
      "metadata": {
        "id": "cIC8_1ipDV3P"
      },
      "source": [
        "Looks like climate change is mentioned 51 times in this earnings call.\n",
        "\n",
        "\n",
        "\n",
        "---\n",
        "\n",
        "### Exercise\n",
        "\n",
        "how many times is the phrase \"global warming\" mentioned?\n",
        "\n",
        "---\n",
        "\n",
        "\n",
        "\n",
        "But we have 182 earnings calls in this sample-- suppose we want to count the number of times climate change is mentioned in each one, so we can see the salience of this topic over time.\n",
        "\n",
        "### Applying a lambda function to a dataframe\n",
        "\n",
        "Because each row of our dataframe `df` is an earnings call (the text of which is contained in `df['Text']`, we want to apply the analysis we did for the single earnings call above to each row of `df`.\n",
        "\n",
        "We can accomplish this using a [**lambda function**](https://www.w3schools.com/python/python_lambda.asp). This allows us to iterate over each value in a dataframe column, and apply a function to it. In the simple example below, I use a lambda function to create a new column that is takes the values from a different column and multiplies them by 2:"
      ]
    },
    {
      "cell_type": "code",
      "execution_count": 12,
      "metadata": {
        "colab": {
          "base_uri": "https://localhost:8080/"
        },
        "id": "fRZxy6e9-8VH",
        "outputId": "000e7036-e36f-4de4-9b0c-bb55486b4b07"
      },
      "outputs": [
        {
          "output_type": "stream",
          "name": "stdout",
          "text": [
            "\n",
            " Before applying lambda function: \n",
            "    numbers\n",
            "0        0\n",
            "1        1\n",
            "2        2\n",
            "3        3\n",
            "4        4\n",
            "5        5\n",
            "\n",
            " \n",
            " After applying lambda function: \n",
            "    numbers  doubled numbers\n",
            "0        0                0\n",
            "1        1                2\n",
            "2        2                4\n",
            "3        3                6\n",
            "4        4                8\n",
            "5        5               10\n"
          ]
        }
      ],
      "source": [
        "# create a dataframe called \"example\" with one column called \"numbers\" which contains numbers 0-5\n",
        "example= pd.DataFrame({'numbers':[0,1,2,3,4,5]})\n",
        "\n",
        "# print the dataframe\n",
        "print(\"\\n Before applying lambda function: \\n\", example)\n",
        "\n",
        "# create a new column called \"doubled numbers\"\n",
        "# apply a lambda function that iterates over each row in the \"numbers\" column\n",
        "# call each row \"x\", and multiply it by 2\n",
        "example['doubled numbers']= example['numbers'].apply(lambda x: x*2)\n",
        "\n",
        "# print the dataframe, which now contains the new column\n",
        "print(\"\\n \\n After applying lambda function: \\n\", example)"
      ]
    },
    {
      "cell_type": "markdown",
      "metadata": {
        "id": "x3iVF369Bewr"
      },
      "source": [
        "There were simpler ways of doing this (namely, `example[doubled numbers]=example['numbers']*2`). But if we want to do something more complex, lambda functions are very useful. Remember, we used `re.findall(r'climate change', call['Text'], re.IGNORECASE)` to get a list of mentions of climate change in the text of one earnings call, and measured the length of the list using `len()` to count the number of mentions. We can turn this into a lambda function as follows:\n",
        "\n",
        "`df['Text'].apply(lambda x: len(re.findall(r'climate change', x, re.IGNORECASE)))`\n",
        "\n",
        "1. `df['Text']`: the column we want to iterate over.\n",
        "2. `.apply(lambda x:`: iterate over each row in the column, and call each value in that column x. In other words, x will represent the text of each earnings call.\n",
        "3. `len(re.findall(r'climate change', x, re.IGNORECASE)` this is exactly the same as what did previously to find the number of mentions of climate change in the one earnings call, except that we swapped `call['Text']` with `x`, since we want to do this for the text of every earnings call."
      ]
    },
    {
      "cell_type": "code",
      "execution_count": 13,
      "metadata": {
        "colab": {
          "base_uri": "https://localhost:8080/"
        },
        "id": "4NkYM01uAba2",
        "outputId": "0a27f694-2a47-4eba-ec2f-5126d0d3021d"
      },
      "outputs": [
        {
          "output_type": "stream",
          "name": "stdout",
          "text": [
            "                                                 Title  climate change\n",
            "0    Exxon  Mobil Corp at Barclays CEO EnergyPower ...               2\n",
            "1     Q2 2019  Exxon  Mobil Corp Earnings Call - Final               0\n",
            "2    Event Brief of Q2 2019  Exxon  Mobil Corp Earn...               0\n",
            "3    Exxon  Mobil Corp at JPMorgan Energy Conferenc...               0\n",
            "4    Exxon  Mobil Corp Annual Shareholders Meeting ...              25\n",
            "..                                                 ...             ...\n",
            "177  Event Brief of Q3 2002  Exxon  Mobil Corporati...               0\n",
            "178  Q3 2002  Exxon  Mobil Corporation Earnings Con...               0\n",
            "179  Q2 2002  Exxon  Mobil Corporation Earnings Con...               0\n",
            "180  Abstract of Q2 2002  Exxon  Mobil Corporation ...               0\n",
            "181  Exxon  Mobil Corporation First Quarter 2002 Re...               0\n",
            "\n",
            "[182 rows x 2 columns]\n"
          ]
        }
      ],
      "source": [
        "# create a column called \"climate change\" that contains the count of mentions of this keyword\n",
        "df['climate change']=df['Text'].apply(lambda x: len(re.findall(r'climate change', x, re.IGNORECASE)))\n",
        "\n",
        "# print the title of each earnings call, along with the number of mentions of climate change.\n",
        "print(df[['Title','climate change']])"
      ]
    },
    {
      "cell_type": "markdown",
      "metadata": {
        "id": "oQDrl8osED4V"
      },
      "source": [
        "Amazing! We've now got a column indicating how many times \"climate change\" was mentioned in each earnings call.  \n",
        "\n",
        "---\n",
        "\n",
        "### Exercise\n",
        "\n",
        "Create three new columns that count the frequency of the terms \"global warming\", \"carbon capture\", and another phrase or word of your choosing. When you've done this, edit the code below so that it not only shows the frequency of \"climate change\" mentions, but also the three additional columns you created.\n",
        "\n",
        "Advanced: Our current measure of the number of mentions of keywords might be biased: if one earnings call mentions climate change 10 times more than another, but that earnings call has 10 times more words, then the *rate* of keyword mentions hasn't actually increased; people are just talking more. You can get the word count of each earnings call in the lambda function above using `len(x)` (using `len()` on a string will get you a word count). Edit the lambda function above such that we don't get a *count* of the number of mentions of climate change, but the *rate* of mentions (i.e., count of \"climate change\" divided by total word count per call).\n",
        "\n",
        "\n",
        "---\n",
        "\n",
        "\n",
        "Let's plot the frequency of these mentions over time to analyze temporal trends in the salience of climate change and other keywords in these calls. We'll accomplish this using"
      ]
    },
    {
      "cell_type": "code",
      "execution_count": 14,
      "metadata": {
        "colab": {
          "base_uri": "https://localhost:8080/",
          "height": 467
        },
        "id": "Hg2y71xgBucr",
        "outputId": "0cf45958-8655-4b07-b5ea-6bcc2b76e960"
      },
      "outputs": [
        {
          "output_type": "execute_result",
          "data": {
            "text/plain": [
              "<Axes: xlabel='Year'>"
            ]
          },
          "metadata": {},
          "execution_count": 14
        },
        {
          "output_type": "display_data",
          "data": {
            "text/plain": [
              "<Figure size 640x480 with 1 Axes>"
            ],
            "image/png": "[encoded data removed]"
          },
          "metadata": {}
        }
      ],
      "source": [
        "# extract the year from the date column\n",
        "df['Year']=df['Date'].dt.year\n",
        "\n",
        "# group the dataframe by year, calculating the sum of the \"climate change\" column\n",
        "# save it as a new dataframe called \"yearly\"\n",
        "yearly=df.groupby('Year')['climate change'].sum()\n",
        "\n",
        "# plot yearly\n",
        "yearly.plot()"
      ]
    },
    {
      "cell_type": "markdown",
      "metadata": {
        "id": "Tntj7KH03bdo"
      },
      "source": [
        "Do you notice any patterns in the salience of these topics over time?\n",
        "\n",
        "## Intermediate Regex\n",
        "\n",
        "Great. We can see how frequently climate related keywords come up in earnings calls between shareholders and Exxon Mobil representatives over time. But what if we want to look at what they're actually saying?\n",
        "\n",
        "We can get a bit fancier with Regex to look at the content of these discussions. Regex can be pretty confusing, but it's also a very powerful tool. Before moving on, let's familiarize ourselves a bit more with regex.\n",
        "\n",
        "Let's try to extract all *sentences* containing the phrase \"climate change\"; the regex would look like this:\n",
        "\n",
        "`([^.]*climate change[^.]*)`\n",
        "\n",
        "1. `()` indicates that we want to match a group of characters, not just the characters themselves. In this case, the group is a sentence, not just the word climate change. But how do we\n",
        "2. `[^.]*` we want to match all characters except periods. This will break the text up into sentences\n",
        "3. `climate change` the phrase we want our sentence to contain.\n",
        "\n",
        "when you put it all together, the regex will search for groups of characters (1.) bounded by periods (2.) that contain the phrase \"climate change\" (3.)"
      ]
    },
    {
      "cell_type": "code",
      "execution_count": 15,
      "metadata": {
        "colab": {
          "base_uri": "https://localhost:8080/"
        },
        "id": "xK9uSqT15VSG",
        "outputId": "1643ff3c-7a2d-47c7-fbb6-a8bdee2d552c"
      },
      "outputs": [
        {
          "output_type": "stream",
          "name": "stdout",
          "text": [
            "251\n",
            "\n",
            "  However, as the world looks to lower their carbon emissions and respond to the risk of climate change, there is a desire to better understand how robust our plans are to evolving policies and changing market trends\n",
            "\n",
            "  Meeting the growing need for energy and addressing the risk of climate change are not mutually exclusive\n",
            "\n",
            "  Over the past year, I've met with policymakers from both sides of the aisle: NGOs, academia, and participated in a climate change dialogue at the Vatican\n",
            "\n",
            " \n",
            "\n",
            "Our approach to climate change has 4 components\n",
            "\n",
            "  We don't believe that society has to choose between economic prosperity and reducing the risk of climate change\n",
            "\n",
            " \n",
            "\n",
            "Recent steps the company has made in the last month to start to make arrangements for dialogue with the Climate Action 100+ group at independent director level are welcome, but the fact that it has taken so long to get to this point reflects how painfully slow progress has been to date with Exxon on climate change\n",
            "\n",
            "  I would tell you that we understand the concerns and share your desire to meaningfully address climate change, and I think ExxonMobil plays a pretty important role in that both today and in the future\n",
            "\n",
            "  The Board's been engaged, and I would tell you, too, that we've had many, many discussions not only with your organization, but with many groups outside who have this concern, and I think are making very good progress in addressing some of the fundamental challenges associated with the risk of climate change\n",
            "\n",
            " \n",
            "\n",
            "Members of the Board, this week's Economist describes ExxonMobil as a notable laggard on climate change\n",
            "\n",
            " \n",
            "\n",
            "The next shareholder proposal calls for a specific Board climate change committee, and I understand that Natasha Lamb will present this proposal\n"
          ]
        }
      ],
      "source": [
        "# create a list called \"climate_sentences\" that contains the results of this query\n",
        "climate_sentences=re.findall(r\"([^.]*climate change[^.]*)\",\" \".join(df['Text']))\n",
        "\n",
        "print(len(climate_sentences))\n",
        "# print the first 10 sentences in the list\n",
        "for sentence in climate_sentences[:10]:\n",
        "  print('\\n', sentence)"
      ]
    },
    {
      "cell_type": "markdown",
      "metadata": {
        "id": "mXs2yT48zdCN"
      },
      "source": [
        "### Semantic Analysis\n",
        "\n",
        "Now we can see the *sentences* which mention climate change, which helps us understand a bit about the context. We can perform semantic analysis on some of these sentences to take a close look at the grammar of some of these sentences; I've isolated the 9th sentence and produced a dependency tree, like the ones we've seen in class."
      ]
    },
    {
      "cell_type": "code",
      "execution_count": 16,
      "metadata": {
        "colab": {
          "base_uri": "https://localhost:8080/",
          "height": 250
        },
        "id": "3rY_a3fJy__7",
        "outputId": "37718319-043e-4a8c-fd55-7ee7a28a0909"
      },
      "outputs": [
        {
          "output_type": "error",
          "ename": "NameError",
          "evalue": "ignored",
          "traceback": [
            "\u001b[0;31m---------------------------------------------------------------------------\u001b[0m",
            "\u001b[0;31mNameError\u001b[0m                                 Traceback (most recent call last)",
            "\u001b[0;32m<ipython-input-16-a2fd5d300d1c>\u001b[0m in \u001b[0;36m<cell line: 4>\u001b[0;34m()\u001b[0m\n\u001b[1;32m      2\u001b[0m \u001b[0;34m\u001b[0m\u001b[0m\n\u001b[1;32m      3\u001b[0m \u001b[0;31m#run the NLP pipeline on the 9th sentence from our list of sentences about climate change.\u001b[0m\u001b[0;34m\u001b[0m\u001b[0;34m\u001b[0m\u001b[0m\n\u001b[0;32m----> 4\u001b[0;31m \u001b[0mdoc\u001b[0m \u001b[0;34m=\u001b[0m \u001b[0mnlp\u001b[0m\u001b[0;34m(\u001b[0m\u001b[0mclimate_sentences\u001b[0m\u001b[0;34m[\u001b[0m\u001b[0;36m8\u001b[0m\u001b[0;34m]\u001b[0m\u001b[0;34m.\u001b[0m\u001b[0mlstrip\u001b[0m\u001b[0;34m(\u001b[0m\u001b[0;34m)\u001b[0m\u001b[0;34m)\u001b[0m\u001b[0;34m\u001b[0m\u001b[0;34m\u001b[0m\u001b[0m\n\u001b[0m\u001b[1;32m      5\u001b[0m \u001b[0;34m\u001b[0m\u001b[0m\n\u001b[1;32m      6\u001b[0m \u001b[0;31m#print out the dependency tree\u001b[0m\u001b[0;34m\u001b[0m\u001b[0;34m\u001b[0m\u001b[0m\n",
            "\u001b[0;31mNameError\u001b[0m: name 'nlp' is not defined"
          ]
        }
      ],
      "source": [
        "from spacy import displacy\n",
        "\n",
        "#run the NLP pipeline on the 9th sentence from our list of sentences about climate change.\n",
        "doc = nlp(climate_sentences[8].lstrip())\n",
        "\n",
        "#print out the dependency tree\n",
        "displacy.render(doc, jupyter=True)"
      ]
    },
    {
      "cell_type": "markdown",
      "metadata": {
        "id": "g0kCX-UNj1QU"
      },
      "source": [
        "The root of this dependency tree is the verb \"describes\". The main subject is the Economist, and the object is Exxon. But we're still missing one vital piece of information: who is speaking? It makes a big difference to our understanding of whats going on. Are mentions of climate change increasing over time because shareholders are asking more questions? Or did CEO Rex Tillerson have a spiritual awakening in which all he wants to do is talk about climate change? For that, we need to figure out who's talking, and resturcture our dataframe.\n",
        "\n",
        "## Advanced Regex\n",
        "\n",
        "The earnings call transcript is structured in such a way that it should be possible to separate speakers based on regular expressions. Every time a new person is speaking, they are introduced in the transcript in a new paragraph; Consider the excerpt below:\n",
        "\n",
        "```\n",
        "OPERATOR: Our next question comes from Philip Weiss with Argus Research.\n",
        "\n",
        "PHILIP WEISS, ANALYST, ARGUS RESEARCH COMPANY: Good morning. I did have one, most of my questions have been answered, but I do have one follow-up on the US. You said that the rig count that's being used for liquids-rich is rising but when I look at production, natural gas as a percentage of your total production has grown, and liquids has actually fallen a little bit. So, I wonder if you can just comment on when we might start to see that trend change?\n",
        "\n",
        "DAVID ROSENTHAL: Sure. The fall off in the liquids is really just the overall decline in the conventional, as well as some divestments. You'll recall we had a divestment in the Eastern Gulf of Mexico and that had an impact on us year-over-year in particularly in the second half.\n",
        "In terms of when we'll see significant production growth out of the unconventional, I mentioned some of the increases in percentages, although we haven't given all of the specific production volumes, but we'll do that as we progress.\n",
        "```\n",
        "\n",
        "Now, we can't simply split by new line (`\\n`); David Rosenthal has two paragraphs. We also can't just split using `:`, since this may appear in the text other than to indicate speakers. Let's describe the features of the characters we're looking to split out:\n",
        "\n",
        "`([A-Z]+.+[A-Z]+:)`\n",
        "\n",
        "  1. It's a group of characters\n",
        "    * regex: `()`\n",
        "  2. The words are all caps, and can contain any characters\n",
        "    * regex:`([A-Z])`\n",
        "  2. There can be multiple words, and they can be separated by anything\n",
        "    * regex: `([A-Z]+.+[A-Z])`\n",
        "  4. The sequence always ends in a colon\n",
        "    * regex: `([A-Z]+.+[A-Z]+:)`\n",
        "\n",
        "Let's use this regex in `re.findall()` to get a list of the speakers on this call:"
      ]
    },
    {
      "cell_type": "code",
      "execution_count": 17,
      "metadata": {
        "colab": {
          "base_uri": "https://localhost:8080/"
        },
        "id": "rkBQe55wlrac",
        "outputId": "e5252ead-4670-496f-9459-fa20f42c9d68"
      },
      "outputs": [
        {
          "output_type": "stream",
          "name": "stdout",
          "text": [
            "There are 31 speakers on this call:\n",
            "INTRODUCTION\n",
            "JEFF WOODBURY, VP OF INVESTOR RELATIONS, CORPORATE SECRETARY, EXXONMOBIL CORPORATION: \n",
            "REX TILLERSON: \n",
            "REX TILLERSON: \n",
            "REX TILLERSON: \n",
            "BETH RICHTMAN, INVESTMENT MANAGER, CALPERS: \n",
            "REX TILLERSON: \n",
            "MICHAEL CROSBY, CAPUCHIN FRANCISCAN FRIAR: \n",
            "REX TILLERSON: \n",
            "TRACEY REMBERT, SHAREHOLDER, CHRISTIAN BROTHERS INVESTMENT SERVICES: \n"
          ]
        }
      ],
      "source": [
        "# create a list of all the speakers by searching text of the earnings call for the above regex.\n",
        "speakers = re.findall(r'([A-Z]+.+[A-Z]+: )', call['Text'])\n",
        "\n",
        "# because they don't introduce the speaker in the opening statement, insert a placeholder at the beginning of this list.\n",
        "speakers.insert(0,'INTRODUCTION')\n",
        "\n",
        "# using set(list) will give you the unique values in a list\n",
        "# the length of set(list) gives us the number of unique speakers\n",
        "print('There are', len(set(speakers)),'speakers on this call:')\n",
        "\n",
        "# let's print out the first 10 speakers:\n",
        "for speaker in speakers[:10]:\n",
        "  print(speaker)"
      ]
    },
    {
      "cell_type": "markdown",
      "metadata": {
        "id": "UcoB9FRul1j7"
      },
      "source": [
        "We want to do more than just identify the speakers though; we want to break up the text of our earnings call into chunks of speech and associate each chunk of speech with its speaker. We can split a string using regular expressions using `re.split(<regex>,<text>)`. This takes one block of text, splits it into chunks using the regex, and returns a list of chunks:"
      ]
    },
    {
      "cell_type": "code",
      "execution_count": 18,
      "metadata": {
        "colab": {
          "base_uri": "https://localhost:8080/"
        },
        "id": "6GXQv50Fl2Tg",
        "outputId": "485d8c3b-cbd2-4cf3-af84-a3f96e24a264"
      },
      "outputs": [
        {
          "output_type": "stream",
          "name": "stdout",
          "text": [
            "Speaker: \n",
            " REX TILLERSON: \n",
            "\n",
            " Speech: \n",
            " So now, turning to the formal business of the meeting and a few brief remarks on shareholder proposals and voting. Each year, the corporation receives a number of suggestions from shareholders. Some of these are in the form of proposals to be presented at the Annual Meeting and each is given careful consideration.\n",
            "\n",
            "We seek dialogues with the sponsors prior to the meeting when there is more time to better understand each other's positions and we often find agreement. Let me be clear on the conduct of the meeting. Recognizing that the majority of our shareholders have voted by proxy and are not present, we have established procedures to facilitate an orderly meeting.\n",
            "\n",
            "We've set up a process for speakers to identify themselves and to express their views and I assure you, we welcome those views. In order that as many shareholders as possible can participate, we have set time limits and a system of reminders to help you manage your time.\n",
            "\n",
            "We have 14 items to consider. As Secretary Woodberry said earlier, discussion on all items of business will be deferred to the discussion period. This may enable us to have some time for general comments and questions as well and conclude the meeting in a reasonable time frame.\n",
            "\n",
            "For those of you who may wish to leave the meeting at any time, let me express my appreciation for your attendance. Since we have a number of items yet to discuss on the program and you've been sitting for a while, I would invite you to stand and take a short stretch break and I would ask that you not leave the hall. We'll resume in just a moment.\n",
            "\n",
            "(Break)\n",
            "\n",
            "\n"
          ]
        }
      ],
      "source": [
        "# split the text of the earnings call using our regex, save the list as \"speech\"\n",
        "speech=re.split(r'[A-Z]+.+[A-Z]+: ', call['Text'])\n",
        "\n",
        "# now, we can print the fourth speaker:\n",
        "print('Speaker: \\n', speakers[3])\n",
        "\n",
        "# and the text of the fourth speech:\n",
        "print('\\n Speech: \\n', speech[3])"
      ]
    },
    {
      "cell_type": "markdown",
      "metadata": {
        "id": "cHtSeIzlOoAf"
      },
      "source": [
        "Now we've associated chunk of speech with their speaker, amazing. Let's create a new dataframe that reflects this structure. Currently, our dataframe `call` has one row. Let's use the two lists we just created, `speakers` and `speech`, to create a dataframe in which each row is one chunk of speech. A column called \"speaker\" will indicate who is speaking, and a column called \"speech\" will contain the text of the speech:"
      ]
    },
    {
      "cell_type": "code",
      "execution_count": 19,
      "metadata": {
        "colab": {
          "base_uri": "https://localhost:8080/"
        },
        "id": "nOcM-AEUAkB_",
        "outputId": "31e848a3-2165-4f77-c4af-d7ca2f03e37d"
      },
      "outputs": [
        {
          "output_type": "stream",
          "name": "stdout",
          "text": [
            "          speaker                                             speech\n",
            "2   REX TILLERSON  Thank you, Jeff. We will address our items of ...\n",
            "3   REX TILLERSON  So now, turning to the formal business of the ...\n",
            "4   REX TILLERSON  If you'd please take your seats. The first ite...\n",
            "6   REX TILLERSON  Thank you. The Board recommends a vote against...\n",
            "8   REX TILLERSON  Thank you, Fr. Crosby. The Board recommends a ...\n",
            "10  REX TILLERSON  Thank you, Ms. Rembert. The Board recommends a...\n",
            "12  REX TILLERSON  Thank you, Mr. Garland. The Board recommends a...\n",
            "14  REX TILLERSON  Thank you, Mr. Sifferman. The Board recommends...\n",
            "16  REX TILLERSON  Thank you, Mr. Jenkins. The Board recommends a...\n",
            "18  REX TILLERSON  Thank you, Ms. Lamb. The board recommends a vo...\n",
            "20  REX TILLERSON                           I'm well. Thank you.\\n\\n\n",
            "22  REX TILLERSON  Thanks, Sister Pat. The board recommends a vot...\n",
            "24  REX TILLERSON  Thank you, Mr. Mason. The board recommends a v...\n",
            "26  REX TILLERSON  Thank you, Ms. Fugere. The board recommends a ...\n",
            "28  REX TILLERSON  Thank you, Ms. Fugere. The board recommends a ...\n",
            "29  REX TILLERSON  Okay, let's resume the meeting, so if you woul...\n",
            "30  REX TILLERSON                             There in the back.\\n\\n\n",
            "32  REX TILLERSON  Thank you. Other speakers? All right, down her...\n",
            "34  REX TILLERSON  Well, ALEC, as you probably know, is an organi...\n",
            "36  REX TILLERSON  Well, as you and I have spoken before, my view...\n",
            "38  REX TILLERSON  I understand, and so I'm going to respond to a...\n",
            "40  REX TILLERSON           Thank you. In the inside aisle here.\\n\\n\n",
            "42  REX TILLERSON  Speculating on future court events would be ir...\n",
            "44  REX TILLERSON  The only way I know to respond is to tell you ...\n",
            "46  REX TILLERSON  And we have responded to those allegations as ...\n",
            "48  REX TILLERSON                 Could you begin to wrap it up?\\n\\n\n",
            "50  REX TILLERSON  Thank you. So over here to this side of the ha...\n",
            "52  REX TILLERSON  Well, as to Saudi Aramco's views or the Kingdo...\n",
            "54  REX TILLERSON  I wish my dad had bought some shares the year ...\n",
            "56  REX TILLERSON    Thank you for those kind words. Right here.\\n\\n\n",
            "58  REX TILLERSON  We will continue to engage in the policy discu...\n",
            "59  REX TILLERSON  I believe all the items of business have been ...\n",
            "60  REX TILLERSON  While the inspectors of election are preparing...\n",
            "62  REX TILLERSON  Well, I'm not sure I would characterize it as ...\n",
            "64  REX TILLERSON  Well, as many of have heard me say before, if ...\n",
            "65  REX TILLERSON  The inspectors of election are ready to report...\n",
            "67  REX TILLERSON  Thank you. As stated in the written report of ...\n"
          ]
        }
      ],
      "source": [
        "# create the new dataframe, from the two lists, and name it \"speaker_df\"\n",
        "speaker_df=pd.DataFrame({\"speaker\":speakers,\"speech\":speech})\n",
        "\n",
        "# clean up the \"speaker\" column by removing the colons using .str.replace(\":\",\"\")\n",
        "# remove trailing white space using str.rstrip()\n",
        "speaker_df['speaker']=speaker_df['speaker'].str.replace(':','').str.rstrip()\n",
        "\n",
        "# print rows in which rex tillerson is speaking:\n",
        "print(speaker_df[speaker_df['speaker']==\"REX TILLERSON\"])"
      ]
    },
    {
      "cell_type": "markdown",
      "metadata": {
        "id": "ARwHu4b3hI5N"
      },
      "source": [
        "## Analyzing Distinguishing Terms\n",
        "\n",
        "And there we have it. We started with a PDF on a website, and we've ended up with a dataframe in which each row is a speech, with a column indicating who is speaking, what they're saying, and when they said it.\n",
        "\n",
        "Now, lets use this dataframe to create a scatterplot comparing the language used by the company's CEO Rex Tillerson and the company's shareholders.This will give us insights into the topics that are important for shareholders, and the debates that take place within the company.\n",
        "\n",
        "We'll do so using the [scattertext](https://spacy.io/universe/project/scattertext) libray:"
      ]
    },
    {
      "cell_type": "code",
      "execution_count": 20,
      "metadata": {
        "id": "Ej6_Xvfc-XnK",
        "outputId": "d84f0dad-ecdf-4443-a660-50fc7c3e444f",
        "colab": {
          "base_uri": "https://localhost:8080/",
          "height": 268
        }
      },
      "outputs": [
        {
          "output_type": "error",
          "ename": "NameError",
          "evalue": "ignored",
          "traceback": [
            "\u001b[0;31m---------------------------------------------------------------------------\u001b[0m",
            "\u001b[0;31mNameError\u001b[0m                                 Traceback (most recent call last)",
            "\u001b[0;32m<ipython-input-20-646cbbf38ff2>\u001b[0m in \u001b[0;36m<cell line: 4>\u001b[0;34m()\u001b[0m\n\u001b[1;32m      5\u001b[0m                              \u001b[0mcategory_col\u001b[0m\u001b[0;34m=\u001b[0m\u001b[0;34m'speaker'\u001b[0m\u001b[0;34m,\u001b[0m \u001b[0;31m# indicate which column contains the category we want to distinguish by\u001b[0m\u001b[0;34m\u001b[0m\u001b[0;34m\u001b[0m\u001b[0m\n\u001b[1;32m      6\u001b[0m                              \u001b[0mtext_col\u001b[0m\u001b[0;34m=\u001b[0m\u001b[0;34m'speech'\u001b[0m\u001b[0;34m,\u001b[0m \u001b[0;31m# indicate which column stores the text to be analyzed\u001b[0m\u001b[0;34m\u001b[0m\u001b[0;34m\u001b[0m\u001b[0m\n\u001b[0;32m----> 7\u001b[0;31m                              nlp=nlp).build() # load the NLP models used for analysis \n\u001b[0m\u001b[1;32m      8\u001b[0m \u001b[0;34m\u001b[0m\u001b[0m\n\u001b[1;32m      9\u001b[0m \u001b[0;31m# remove stopwords from the corpus of text\u001b[0m\u001b[0;34m\u001b[0m\u001b[0;34m\u001b[0m\u001b[0m\n",
            "\u001b[0;31mNameError\u001b[0m: name 'nlp' is not defined"
          ]
        }
      ],
      "source": [
        "%%capture\n",
        "\n",
        "import scattertext as st\n",
        "\n",
        "# create a corpus of text from the dataframe\n",
        "corpus = st.CorpusFromPandas(speaker_df, # load the dataframe\n",
        "                             category_col='speaker', # indicate which column contains the category we want to distinguish by\n",
        "                             text_col='speech', # indicate which column stores the text to be analyzed\n",
        "                             nlp=nlp).build() # load the NLP models used for analysis\n",
        "\n",
        "# remove stopwords from the corpus of text\n",
        "corpus=corpus.remove_terms(nlp.Defaults.stop_words, ignore_absences=True)\n",
        "\n",
        "# now, we create the scatterplot\n",
        "html = st.produce_scattertext_explorer(\n",
        "                   corpus, # load the corpus\n",
        "                   category=\"REX TILLERSON\", # indicate which category value we want to compare against all others; in this case, all rows in which \"REX TILLERSON\" is the speaker\n",
        "                   category_name='Rex Tillerson', # set the label on the plot as \"Rex Tillerson\"\n",
        "                   not_category_name='Others', # set the label on the plot for all other speakers as \"Others\"\n",
        "                   width_in_pixels=1000) #set the width"
      ]
    },
    {
      "cell_type": "code",
      "execution_count": 21,
      "metadata": {
        "colab": {
          "base_uri": "https://localhost:8080/",
          "height": 197
        },
        "id": "eZ0m_ST-jHDi",
        "outputId": "6695341e-971b-4c8c-ce9b-e8854f0e4caf"
      },
      "outputs": [
        {
          "output_type": "error",
          "ename": "NameError",
          "evalue": "ignored",
          "traceback": [
            "\u001b[0;31m---------------------------------------------------------------------------\u001b[0m",
            "\u001b[0;31mNameError\u001b[0m                                 Traceback (most recent call last)",
            "\u001b[0;32m<ipython-input-21-6ff81205a381>\u001b[0m in \u001b[0;36m<cell line: 2>\u001b[0;34m()\u001b[0m\n\u001b[1;32m      1\u001b[0m \u001b[0;31m# display the plot\u001b[0m\u001b[0;34m\u001b[0m\u001b[0;34m\u001b[0m\u001b[0m\n\u001b[0;32m----> 2\u001b[0;31m \u001b[0mdisplay\u001b[0m\u001b[0;34m(\u001b[0m\u001b[0mHTML\u001b[0m\u001b[0;34m(\u001b[0m\u001b[0mhtml\u001b[0m\u001b[0;34m)\u001b[0m\u001b[0;34m)\u001b[0m\u001b[0;34m\u001b[0m\u001b[0;34m\u001b[0m\u001b[0m\n\u001b[0m",
            "\u001b[0;31mNameError\u001b[0m: name 'html' is not defined"
          ]
        }
      ],
      "source": [
        "# display the plot\n",
        "display(HTML(html))"
      ]
    },
    {
      "cell_type": "markdown",
      "metadata": {
        "id": "Xm5dAf3Q1ZxS"
      },
      "source": [
        "The plot above compares the frequency of terms used by Exxon CEO Rex Tillerson (on the Y axis) against those used by other speakers (mainly shareholders, on the X axis). The top right corner will contain terms used frequently by both groups. the bottom left corner contains terms used infrequently by both groups. The top left corner contains terms used frequently by Rex Tillerson, but infrequently by shareholders. The bottom right corner contains terms used frequently by shareholders, but infrequently by Rex Tillerson.\n",
        "\n",
        "A list of top terms used by each group is shown in the right. On this list, we can see that \"climate change\" is the 4th most common phrase used by the \"Others\" category, but isn't even in the top ten for Rex. If you click on \"climate change\" in this list, it will give you some statistics on how frequently this term is used by each group, as well as a selection of example sentences in which the term appears. You can search for other words/phrases either by clicking on them in the scatterplot, or entering them into the \"Search the chart\" box below the scatterplot.\n",
        "\n",
        "\n",
        "---\n",
        "\n",
        "\n",
        "### Exercise\n",
        "\n",
        "1. Search for \"ALEC\" in this plot, and then google the term to find out more about what this is. What are shareholders aiming to do regarding ALEC, and how does Tillerson respond?\n",
        "\n",
        "2. Search for the term \"carbon\". What differences do you notice in the use of this term by Rex Tillerson versus the shareholders?\n",
        "\n",
        "3. Use this plot to identify another topic that shareholders are pressuring Exxon about.\n",
        "\n",
        "\n",
        "---\n",
        "\n"
      ]
    },
    {
      "cell_type": "markdown",
      "metadata": {
        "id": "RYiH6_iylDq5"
      },
      "source": [
        "# External pressure\n",
        "\n",
        "The fact that Exxon knew about climate change in the 1970s and still funded climate denial resulted in public outrage, culminating in an online movement organized around the twitter hashtag #ExxonKnew.\n",
        "\n",
        "I've downloaded almost 100,000 tweets containing the hashtag #ExxonKnew, between 2016 and 2017. Work together as a group to explore and analyze this dataset."
      ]
    },
    {
      "cell_type": "code",
      "execution_count": 22,
      "metadata": {
        "id": "DKuFJpv3myLh",
        "outputId": "6622504d-a06e-4bcc-e6ae-d05ccafcee24",
        "colab": {
          "base_uri": "https://localhost:8080/"
        }
      },
      "outputs": [
        {
          "output_type": "stream",
          "name": "stdout",
          "text": [
            "  % Total    % Received % Xferd  Average Speed   Time    Time     Time  Current\n",
            "                                 Dload  Upload   Total   Spent    Left  Speed\n",
            "100 14.8M  100 14.8M    0     0  43.8M      0 --:--:-- --:--:-- --:--:-- 43.8M\n"
          ]
        }
      ],
      "source": [
        "!curl https://storage.googleapis.com/qm2/wk4/Exxon_tweets_clean.csv -o data/wk4/Exxon_tweets_clean.csv"
      ]
    },
    {
      "cell_type": "code",
      "execution_count": 39,
      "metadata": {
        "colab": {
          "base_uri": "https://localhost:8080/",
          "height": 424
        },
        "id": "nPVVRuZvnQ1r",
        "outputId": "bd4fff64-92eb-4026-cded-7a0e25583ca6"
      },
      "outputs": [
        {
          "output_type": "execute_result",
          "data": {
            "text/plain": [
              "                                                    text  \\\n",
              "0      #ClimateChangeIsReal #climateChange #PutinPupp...   \n",
              "1      What you should know about @latimes connection...   \n",
              "2      RT @EnergyInDepth: Legal experts say attack on...   \n",
              "3      RT @anneli8012: @Khanoisseur yep, Exxon knew a...   \n",
              "4      Former NY AG: N.Y.’s ExxonMobil overreach http...   \n",
              "...                                                  ...   \n",
              "89096  RT @billmckibben: Next shoe drops in #exxonkne...   \n",
              "89097  Así ha transcurrido el día más caliente regist...   \n",
              "89098  RT @Mdettinger: While undermining public confi...   \n",
              "89099  RT @greenpeaceusa: Lying for profit is called ...   \n",
              "89100  RT @billmckibben: Thanks to @democracynow for ...   \n",
              "\n",
              "                     created_at   author_id lang  latitude  longitude  \n",
              "0      2016-12-31T22:45:29.000Z    22220344  qme       NaN        NaN  \n",
              "1      2016-12-31T22:42:18.000Z    31413260   en       NaN        NaN  \n",
              "2      2016-12-31T22:17:33.000Z    7.59E+17   en       NaN        NaN  \n",
              "3      2016-12-31T21:40:05.000Z    8.00E+17   en       NaN        NaN  \n",
              "4      2016-12-31T20:05:36.000Z    7.50E+17   en       NaN        NaN  \n",
              "...                         ...         ...  ...       ...        ...  \n",
              "89096  2016-01-01T00:16:01.000Z   885173964   en       NaN        NaN  \n",
              "89097  2016-01-01T00:12:27.000Z    30540898   es       NaN        NaN  \n",
              "89098  2016-01-01T00:07:08.000Z   490991866   en       NaN        NaN  \n",
              "89099  2016-01-01T00:06:10.000Z  4182290233   en       NaN        NaN  \n",
              "89100  2016-01-01T00:01:39.000Z    11186572   en       NaN        NaN  \n",
              "\n",
              "[89101 rows x 6 columns]"
            ],
            "text/html": [
              "\n",
              "  <div id=\"df-78802234-82b9-4538-8bf7-10761136376c\" class=\"colab-df-container\">\n",
              "    <div>\n",
              "<style scoped>\n",
              "    .dataframe tbody tr th:only-of-type {\n",
              "        vertical-align: middle;\n",
              "    }\n",
              "\n",
              "    .dataframe tbody tr th {\n",
              "        vertical-align: top;\n",
              "    }\n",
              "\n",
              "    .dataframe thead th {\n",
              "        text-align: right;\n",
              "    }\n",
              "</style>\n",
              "<table border=\"1\" class=\"dataframe\">\n",
              "  <thead>\n",
              "    <tr style=\"text-align: right;\">\n",
              "      <th></th>\n",
              "      <th>text</th>\n",
              "      <th>created_at</th>\n",
              "      <th>author_id</th>\n",
              "      <th>lang</th>\n",
              "      <th>latitude</th>\n",
              "      <th>longitude</th>\n",
              "    </tr>\n",
              "  </thead>\n",
              "  <tbody>\n",
              "    <tr>\n",
              "      <th>0</th>\n",
              "      <td>#ClimateChangeIsReal #climateChange #PutinPupp...</td>\n",
              "      <td>2016-12-31T22:45:29.000Z</td>\n",
              "      <td>22220344</td>\n",
              "      <td>qme</td>\n",
              "      <td>NaN</td>\n",
              "      <td>NaN</td>\n",
              "    </tr>\n",
              "    <tr>\n",
              "      <th>1</th>\n",
              "      <td>What you should know about @latimes connection...</td>\n",
              "      <td>2016-12-31T22:42:18.000Z</td>\n",
              "      <td>31413260</td>\n",
              "      <td>en</td>\n",
              "      <td>NaN</td>\n",
              "      <td>NaN</td>\n",
              "    </tr>\n",
              "    <tr>\n",
              "      <th>2</th>\n",
              "      <td>RT @EnergyInDepth: Legal experts say attack on...</td>\n",
              "      <td>2016-12-31T22:17:33.000Z</td>\n",
              "      <td>7.59E+17</td>\n",
              "      <td>en</td>\n",
              "      <td>NaN</td>\n",
              "      <td>NaN</td>\n",
              "    </tr>\n",
              "    <tr>\n",
              "      <th>3</th>\n",
              "      <td>RT @anneli8012: @Khanoisseur yep, Exxon knew a...</td>\n",
              "      <td>2016-12-31T21:40:05.000Z</td>\n",
              "      <td>8.00E+17</td>\n",
              "      <td>en</td>\n",
              "      <td>NaN</td>\n",
              "      <td>NaN</td>\n",
              "    </tr>\n",
              "    <tr>\n",
              "      <th>4</th>\n",
              "      <td>Former NY AG: N.Y.’s ExxonMobil overreach http...</td>\n",
              "      <td>2016-12-31T20:05:36.000Z</td>\n",
              "      <td>7.50E+17</td>\n",
              "      <td>en</td>\n",
              "      <td>NaN</td>\n",
              "      <td>NaN</td>\n",
              "    </tr>\n",
              "    <tr>\n",
              "      <th>...</th>\n",
              "      <td>...</td>\n",
              "      <td>...</td>\n",
              "      <td>...</td>\n",
              "      <td>...</td>\n",
              "      <td>...</td>\n",
              "      <td>...</td>\n",
              "    </tr>\n",
              "    <tr>\n",
              "      <th>89096</th>\n",
              "      <td>RT @billmckibben: Next shoe drops in #exxonkne...</td>\n",
              "      <td>2016-01-01T00:16:01.000Z</td>\n",
              "      <td>885173964</td>\n",
              "      <td>en</td>\n",
              "      <td>NaN</td>\n",
              "      <td>NaN</td>\n",
              "    </tr>\n",
              "    <tr>\n",
              "      <th>89097</th>\n",
              "      <td>Así ha transcurrido el día más caliente regist...</td>\n",
              "      <td>2016-01-01T00:12:27.000Z</td>\n",
              "      <td>30540898</td>\n",
              "      <td>es</td>\n",
              "      <td>NaN</td>\n",
              "      <td>NaN</td>\n",
              "    </tr>\n",
              "    <tr>\n",
              "      <th>89098</th>\n",
              "      <td>RT @Mdettinger: While undermining public confi...</td>\n",
              "      <td>2016-01-01T00:07:08.000Z</td>\n",
              "      <td>490991866</td>\n",
              "      <td>en</td>\n",
              "      <td>NaN</td>\n",
              "      <td>NaN</td>\n",
              "    </tr>\n",
              "    <tr>\n",
              "      <th>89099</th>\n",
              "      <td>RT @greenpeaceusa: Lying for profit is called ...</td>\n",
              "      <td>2016-01-01T00:06:10.000Z</td>\n",
              "      <td>4182290233</td>\n",
              "      <td>en</td>\n",
              "      <td>NaN</td>\n",
              "      <td>NaN</td>\n",
              "    </tr>\n",
              "    <tr>\n",
              "      <th>89100</th>\n",
              "      <td>RT @billmckibben: Thanks to @democracynow for ...</td>\n",
              "      <td>2016-01-01T00:01:39.000Z</td>\n",
              "      <td>11186572</td>\n",
              "      <td>en</td>\n",
              "      <td>NaN</td>\n",
              "      <td>NaN</td>\n",
              "    </tr>\n",
              "  </tbody>\n",
              "</table>\n",
              "<p>89101 rows × 6 columns</p>\n",
              "</div>\n",
              "    <div class=\"colab-df-buttons\">\n",
              "\n",
              "  <div class=\"colab-df-container\">\n",
              "    <button class=\"colab-df-convert\" onclick=\"convertToInteractive('df-78802234-82b9-4538-8bf7-10761136376c')\"\n",
              "            title=\"Convert this dataframe to an interactive table.\"\n",
              "            style=\"display:none;\">\n",
              "\n",
              "  <svg xmlns=\"http://www.w3.org/2000/svg\" height=\"24px\" viewBox=\"0 -960 960 960\">\n",
              "    <path d=\"M120-120v-720h720v720H120Zm60-500h600v-160H180v160Zm220 220h160v-160H400v160Zm0 220h160v-160H400v160ZM180-400h160v-160H180v160Zm440 0h160v-160H620v160ZM180-180h160v-160H180v160Zm440 0h160v-160H620v160Z\"/>\n",
              "  </svg>\n",
              "    </button>\n",
              "\n",
              "  <style>\n",
              "    .colab-df-container {\n",
              "      display:flex;\n",
              "      gap: 12px;\n",
              "    }\n",
              "\n",
              "    .colab-df-convert {\n",
              "      background-color: #E8F0FE;\n",
              "      border: none;\n",
              "      border-radius: 50%;\n",
              "      cursor: pointer;\n",
              "      display: none;\n",
              "      fill: #1967D2;\n",
              "      height: 32px;\n",
              "      padding: 0 0 0 0;\n",
              "      width: 32px;\n",
              "    }\n",
              "\n",
              "    .colab-df-convert:hover {\n",
              "      background-color: #E2EBFA;\n",
              "      box-shadow: 0px 1px 2px rgba(60, 64, 67, 0.3), 0px 1px 3px 1px rgba(60, 64, 67, 0.15);\n",
              "      fill: #174EA6;\n",
              "    }\n",
              "\n",
              "    .colab-df-buttons div {\n",
              "      margin-bottom: 4px;\n",
              "    }\n",
              "\n",
              "    [theme=dark] .colab-df-convert {\n",
              "      background-color: #3B4455;\n",
              "      fill: #D2E3FC;\n",
              "    }\n",
              "\n",
              "    [theme=dark] .colab-df-convert:hover {\n",
              "      background-color: #434B5C;\n",
              "      box-shadow: 0px 1px 3px 1px rgba(0, 0, 0, 0.15);\n",
              "      filter: drop-shadow(0px 1px 2px rgba(0, 0, 0, 0.3));\n",
              "      fill: #FFFFFF;\n",
              "    }\n",
              "  </style>\n",
              "\n",
              "    <script>\n",
              "      const buttonEl =\n",
              "        document.querySelector('#df-78802234-82b9-4538-8bf7-10761136376c button.colab-df-convert');\n",
              "      buttonEl.style.display =\n",
              "        google.colab.kernel.accessAllowed ? 'block' : 'none';\n",
              "\n",
              "      async function convertToInteractive(key) {\n",
              "        const element = document.querySelector('#df-78802234-82b9-4538-8bf7-10761136376c');\n",
              "        const dataTable =\n",
              "          await google.colab.kernel.invokeFunction('convertToInteractive',\n",
              "                                                    [key], {});\n",
              "        if (!dataTable) return;\n",
              "\n",
              "        const docLinkHtml = 'Like what you see? Visit the ' +\n",
              "          '<a target=\"_blank\" href=https://colab.research.google.com/notebooks/data_table.ipynb>data table notebook</a>'\n",
              "          + ' to learn more about interactive tables.';\n",
              "        element.innerHTML = '';\n",
              "        dataTable['output_type'] = 'display_data';\n",
              "        await google.colab.output.renderOutput(dataTable, element);\n",
              "        const docLink = document.createElement('div');\n",
              "        docLink.innerHTML = docLinkHtml;\n",
              "        element.appendChild(docLink);\n",
              "      }\n",
              "    </script>\n",
              "  </div>\n",
              "\n",
              "\n",
              "<div id=\"df-576f3941-d874-4093-891e-8d6d5373d941\">\n",
              "  <button class=\"colab-df-quickchart\" onclick=\"quickchart('df-576f3941-d874-4093-891e-8d6d5373d941')\"\n",
              "            title=\"Suggest charts\"\n",
              "            style=\"display:none;\">\n",
              "\n",
              "<svg xmlns=\"http://www.w3.org/2000/svg\" height=\"24px\"viewBox=\"0 0 24 24\"\n",
              "     width=\"24px\">\n",
              "    <g>\n",
              "        <path d=\"M19 3H5c-1.1 0-2 .9-2 2v14c0 1.1.9 2 2 2h14c1.1 0 2-.9 2-2V5c0-1.1-.9-2-2-2zM9 17H7v-7h2v7zm4 0h-2V7h2v10zm4 0h-2v-4h2v4z\"/>\n",
              "    </g>\n",
              "</svg>\n",
              "  </button>\n",
              "\n",
              "<style>\n",
              "  .colab-df-quickchart {\n",
              "      --bg-color: #E8F0FE;\n",
              "      --fill-color: #1967D2;\n",
              "      --hover-bg-color: #E2EBFA;\n",
              "      --hover-fill-color: #174EA6;\n",
              "      --disabled-fill-color: #AAA;\n",
              "      --disabled-bg-color: #DDD;\n",
              "  }\n",
              "\n",
              "  [theme=dark] .colab-df-quickchart {\n",
              "      --bg-color: #3B4455;\n",
              "      --fill-color: #D2E3FC;\n",
              "      --hover-bg-color: #434B5C;\n",
              "      --hover-fill-color: #FFFFFF;\n",
              "      --disabled-bg-color: #3B4455;\n",
              "      --disabled-fill-color: #666;\n",
              "  }\n",
              "\n",
              "  .colab-df-quickchart {\n",
              "    background-color: var(--bg-color);\n",
              "    border: none;\n",
              "    border-radius: 50%;\n",
              "    cursor: pointer;\n",
              "    display: none;\n",
              "    fill: var(--fill-color);\n",
              "    height: 32px;\n",
              "    padding: 0;\n",
              "    width: 32px;\n",
              "  }\n",
              "\n",
              "  .colab-df-quickchart:hover {\n",
              "    background-color: var(--hover-bg-color);\n",
              "    box-shadow: 0 1px 2px rgba(60, 64, 67, 0.3), 0 1px 3px 1px rgba(60, 64, 67, 0.15);\n",
              "    fill: var(--button-hover-fill-color);\n",
              "  }\n",
              "\n",
              "  .colab-df-quickchart-complete:disabled,\n",
              "  .colab-df-quickchart-complete:disabled:hover {\n",
              "    background-color: var(--disabled-bg-color);\n",
              "    fill: var(--disabled-fill-color);\n",
              "    box-shadow: none;\n",
              "  }\n",
              "\n",
              "  .colab-df-spinner {\n",
              "    border: 2px solid var(--fill-color);\n",
              "    border-color: transparent;\n",
              "    border-bottom-color: var(--fill-color);\n",
              "    animation:\n",
              "      spin 1s steps(1) infinite;\n",
              "  }\n",
              "\n",
              "  @keyframes spin {\n",
              "    0% {\n",
              "      border-color: transparent;\n",
              "      border-bottom-color: var(--fill-color);\n",
              "      border-left-color: var(--fill-color);\n",
              "    }\n",
              "    20% {\n",
              "      border-color: transparent;\n",
              "      border-left-color: var(--fill-color);\n",
              "      border-top-color: var(--fill-color);\n",
              "    }\n",
              "    30% {\n",
              "      border-color: transparent;\n",
              "      border-left-color: var(--fill-color);\n",
              "      border-top-color: var(--fill-color);\n",
              "      border-right-color: var(--fill-color);\n",
              "    }\n",
              "    40% {\n",
              "      border-color: transparent;\n",
              "      border-right-color: var(--fill-color);\n",
              "      border-top-color: var(--fill-color);\n",
              "    }\n",
              "    60% {\n",
              "      border-color: transparent;\n",
              "      border-right-color: var(--fill-color);\n",
              "    }\n",
              "    80% {\n",
              "      border-color: transparent;\n",
              "      border-right-color: var(--fill-color);\n",
              "      border-bottom-color: var(--fill-color);\n",
              "    }\n",
              "    90% {\n",
              "      border-color: transparent;\n",
              "      border-bottom-color: var(--fill-color);\n",
              "    }\n",
              "  }\n",
              "</style>\n",
              "\n",
              "  <script>\n",
              "    async function quickchart(key) {\n",
              "      const quickchartButtonEl =\n",
              "        document.querySelector('#' + key + ' button');\n",
              "      quickchartButtonEl.disabled = true;  // To prevent multiple clicks.\n",
              "      quickchartButtonEl.classList.add('colab-df-spinner');\n",
              "      try {\n",
              "        const charts = await google.colab.kernel.invokeFunction(\n",
              "            'suggestCharts', [key], {});\n",
              "      } catch (error) {\n",
              "        console.error('Error during call to suggestCharts:', error);\n",
              "      }\n",
              "      quickchartButtonEl.classList.remove('colab-df-spinner');\n",
              "      quickchartButtonEl.classList.add('colab-df-quickchart-complete');\n",
              "    }\n",
              "    (() => {\n",
              "      let quickchartButtonEl =\n",
              "        document.querySelector('#df-576f3941-d874-4093-891e-8d6d5373d941 button');\n",
              "      quickchartButtonEl.style.display =\n",
              "        google.colab.kernel.accessAllowed ? 'block' : 'none';\n",
              "    })();\n",
              "  </script>\n",
              "</div>\n",
              "    </div>\n",
              "  </div>\n"
            ]
          },
          "metadata": {},
          "execution_count": 39
        }
      ],
      "source": [
        "tweets=pd.read_csv('data/wk4/Exxon_tweets_clean.csv')\n",
        "tweets"
      ]
    },
    {
      "cell_type": "markdown",
      "metadata": {
        "id": "iyfjwIemrNyw"
      },
      "source": [
        "### Sentiment Analysis\n",
        "\n",
        "Sentiment analysis is the computational study of people's opinions, sentiments, emotions, appraisals, and attitudes towards entities such as products, services, organizations, individuals, issues, events, topics, and their attributes. Let's study the sentiment of the tweets in this dataset.\n",
        "\n",
        "[spacytextblob](https://spacytextblob.netlify.app/) performs sentiment analysis using the TextBlob library. Adding spacytextblob to a spaCy nlp pipeline creates a new extension attribute for the Doc.\n",
        "\n",
        "The `._.blob` attribute contains all of the methods and attributes that belong to the `textblob.TextBlob` class. Some of the common methods and attributes include:\n",
        "\n",
        "1. `._.blob.polarity`: a float within the range [-1.0, 1.0].\n",
        "2. `._.blob.subjectivity`: a float within the range [0.0, 1.0] where 0.0 is very objective and 1.0 is very subjective.\n",
        "3. `._.blob.sentiment_assessments.assessments`: a list of polarity and subjectivity scores for the assessed tokens.\n",
        "\n",
        "Let's run sentiment analysis on a single tweet:"
      ]
    },
    {
      "cell_type": "code",
      "execution_count": 46,
      "metadata": {
        "colab": {
          "base_uri": "https://localhost:8080/",
          "height": 250
        },
        "id": "G_2OFKQpqDpd",
        "outputId": "6873efe0-d580-4173-fa5b-12a53af40509"
      },
      "outputs": [
        {
          "output_type": "error",
          "ename": "NameError",
          "evalue": "ignored",
          "traceback": [
            "\u001b[0;31m---------------------------------------------------------------------------\u001b[0m",
            "\u001b[0;31mNameError\u001b[0m                                 Traceback (most recent call last)",
            "\u001b[0;32m<ipython-input-46-28bce87bb25b>\u001b[0m in \u001b[0;36m<cell line: 5>\u001b[0;34m()\u001b[0m\n\u001b[1;32m      3\u001b[0m \u001b[0;34m\u001b[0m\u001b[0m\n\u001b[1;32m      4\u001b[0m \u001b[0;31m# apply the NLP pipeline to this text.\u001b[0m\u001b[0;34m\u001b[0m\u001b[0;34m\u001b[0m\u001b[0m\n\u001b[0;32m----> 5\u001b[0;31m \u001b[0mdoc\u001b[0m \u001b[0;34m=\u001b[0m \u001b[0mnlp\u001b[0m\u001b[0;34m(\u001b[0m\u001b[0mtext\u001b[0m\u001b[0;34m)\u001b[0m\u001b[0;34m\u001b[0m\u001b[0;34m\u001b[0m\u001b[0m\n\u001b[0m\u001b[1;32m      6\u001b[0m \u001b[0;34m\u001b[0m\u001b[0m\n\u001b[1;32m      7\u001b[0m \u001b[0mprint\u001b[0m\u001b[0;34m(\u001b[0m\u001b[0mtext\u001b[0m\u001b[0;34m)\u001b[0m\u001b[0;34m\u001b[0m\u001b[0;34m\u001b[0m\u001b[0m\n",
            "\u001b[0;31mNameError\u001b[0m: name 'nlp' is not defined"
          ]
        }
      ],
      "source": [
        "# grab the 130th row in the dataframe and select the text of the tweet\n",
        "text=tweets.iloc[130]['text']\n",
        "\n",
        "# apply the NLP pipeline to this text.\n",
        "doc = nlp(text)\n",
        "\n",
        "print(text)\n",
        "print('Polarity: ', doc._.blob.polarity)\n",
        "print('Subjectivity: ', doc._.blob.subjectivity)\n",
        "print('Assessments: ', doc._.blob.sentiment_assessments.assessments)"
      ]
    },
    {
      "cell_type": "markdown",
      "metadata": {
        "id": "rIF7MLm-safJ"
      },
      "source": [
        "We can see that the model has deemed this tweet to be expressing negative sentiment: it has a polarity of -0.15. It also deems this to be a pretty subjective tweet, with a subjectivity score of 0.8. It does indeed appear to be expressing a subjective opinion. Finally, we can see which words are leading to this assessment. The word \"good\" is leading to a 0.7 increase in the polarity score, and a 0.6 increase in the subjectivity score. The word \"worst\" is leading to a -1 change polarity, and a +1 change in subjectivity. The overall scores are weighted averages of these values. Though these scores do roughly align with the actual sentiment of this tweet, **ALWAYS** pay attention to whats going on inside of your sentiment analysis pipeline. Even though the overall sentiment score here is negative, it should probably be even more negative; the algorithm picked up on the word \"good\" in this tweet, and this improved the polarity score by 0.7. But the context in which \"good\" was uttered in this tweet is actually negative! the person is saying \"stop saying #Tillerson is good on climate\"-- this is expressing negative sentiment!\n",
        "\n",
        "---\n",
        "\n",
        "### Assessed Question\n",
        "\n",
        "In this assessed question, we want to use NLP and spatial analysis to map out where the people who are most angry about Exxon are located.\n",
        "\n",
        "In the code cell below:\n",
        "\n",
        "1. create a dataframe called \"sample\" which contains the first 1000 tweets from the \"tweets\" dataframe.\n",
        "2. Using a lambda function, `.apply(lambda x: nlp(x)._.blob.polarity)`, create a column in the sample dataframe that contains the polarity of each tweet.\n",
        "3. Create a column that contains the subjectivity score for each tweet.\n",
        "4. Filter the dataframe to discard tweets that are not subjective (subjectivity score < 0.5) *and* tweets that have negative sentiment (polarity score < 0)."
      ]
    },
    {
      "cell_type": "code",
      "execution_count": 48,
      "metadata": {
        "id": "ldyS7EtqnsTv",
        "outputId": "34d009fb-4df6-4f32-de94-09e28aa04d6a",
        "colab": {
          "base_uri": "https://localhost:8080/",
          "height": 363
        }
      },
      "outputs": [
        {
          "output_type": "error",
          "ename": "NameError",
          "evalue": "ignored",
          "traceback": [
            "\u001b[0;31m---------------------------------------------------------------------------\u001b[0m",
            "\u001b[0;31mNameError\u001b[0m                                 Traceback (most recent call last)",
            "\u001b[0;32m<ipython-input-48-16c1d835d807>\u001b[0m in \u001b[0;36m<cell line: 2>\u001b[0;34m()\u001b[0m\n\u001b[1;32m      1\u001b[0m \u001b[0msample\u001b[0m \u001b[0;34m=\u001b[0m \u001b[0mtweets\u001b[0m\u001b[0;34m.\u001b[0m\u001b[0mhead\u001b[0m\u001b[0;34m(\u001b[0m\u001b[0;36m1000\u001b[0m\u001b[0;34m)\u001b[0m\u001b[0;34m.\u001b[0m\u001b[0mcopy\u001b[0m\u001b[0;34m(\u001b[0m\u001b[0;34m)\u001b[0m\u001b[0;34m\u001b[0m\u001b[0;34m\u001b[0m\u001b[0m\n\u001b[0;32m----> 2\u001b[0;31m \u001b[0msample\u001b[0m\u001b[0;34m[\u001b[0m\u001b[0;34m'polarity'\u001b[0m\u001b[0;34m]\u001b[0m\u001b[0;34m=\u001b[0m\u001b[0msample\u001b[0m\u001b[0;34m[\u001b[0m\u001b[0;34m'text'\u001b[0m\u001b[0;34m]\u001b[0m\u001b[0;34m.\u001b[0m\u001b[0mapply\u001b[0m\u001b[0;34m(\u001b[0m\u001b[0;32mlambda\u001b[0m \u001b[0mx\u001b[0m\u001b[0;34m:\u001b[0m\u001b[0mnlp\u001b[0m\u001b[0;34m(\u001b[0m\u001b[0mx\u001b[0m\u001b[0;34m)\u001b[0m\u001b[0;34m.\u001b[0m\u001b[0m_\u001b[0m\u001b[0;34m.\u001b[0m\u001b[0mblob\u001b[0m\u001b[0;34m.\u001b[0m\u001b[0mpolarity\u001b[0m\u001b[0;34m)\u001b[0m\u001b[0;34m\u001b[0m\u001b[0;34m\u001b[0m\u001b[0m\n\u001b[0m\u001b[1;32m      3\u001b[0m \u001b[0msample\u001b[0m\u001b[0;34m[\u001b[0m \u001b[0;34m'Subjectivity'\u001b[0m\u001b[0;34m]\u001b[0m \u001b[0;34m=\u001b[0m\u001b[0msample\u001b[0m\u001b[0;34m[\u001b[0m\u001b[0;34m' text'\u001b[0m\u001b[0;34m]\u001b[0m\u001b[0;34m.\u001b[0m \u001b[0mapply\u001b[0m\u001b[0;34m(\u001b[0m\u001b[0;32mlambda\u001b[0m \u001b[0mx\u001b[0m\u001b[0;34m:\u001b[0m\u001b[0mnlp\u001b[0m\u001b[0;34m(\u001b[0m\u001b[0mx\u001b[0m\u001b[0;34m)\u001b[0m\u001b[0;34m.\u001b[0m\u001b[0m_\u001b[0m\u001b[0;34m.\u001b[0m\u001b[0mblob\u001b[0m\u001b[0;34m.\u001b[0m\u001b[0msubjectivity\u001b[0m\u001b[0;34m)\u001b[0m\u001b[0;34m\u001b[0m\u001b[0;34m\u001b[0m\u001b[0m\n\u001b[1;32m      4\u001b[0m \u001b[0mfiltered_sample\u001b[0m \u001b[0;34m=\u001b[0m \u001b[0msample\u001b[0m\u001b[0;34m[\u001b[0m\u001b[0;34m(\u001b[0m\u001b[0msample\u001b[0m \u001b[0;34m[\u001b[0m\u001b[0;34m'Subjectivity'\u001b[0m\u001b[0;34m]\u001b[0m \u001b[0;34m<\u001b[0m\u001b[0;36m0.5\u001b[0m\u001b[0;34m)\u001b[0m \u001b[0;34m&\u001b[0m \u001b[0;34m(\u001b[0m\u001b[0msample\u001b[0m\u001b[0;34m[\u001b[0m\u001b[0;34m'Polarity'\u001b[0m\u001b[0;34m]\u001b[0m \u001b[0;34m<\u001b[0m\u001b[0;36m0\u001b[0m\u001b[0;34m)\u001b[0m\u001b[0;34m]\u001b[0m\u001b[0;34m\u001b[0m\u001b[0;34m\u001b[0m\u001b[0m\n",
            "\u001b[0;32m/usr/local/lib/python3.10/dist-packages/pandas/core/series.py\u001b[0m in \u001b[0;36mapply\u001b[0;34m(self, func, convert_dtype, args, **kwargs)\u001b[0m\n\u001b[1;32m   4769\u001b[0m         \u001b[0mdtype\u001b[0m\u001b[0;34m:\u001b[0m \u001b[0mfloat64\u001b[0m\u001b[0;34m\u001b[0m\u001b[0;34m\u001b[0m\u001b[0m\n\u001b[1;32m   4770\u001b[0m         \"\"\"\n\u001b[0;32m-> 4771\u001b[0;31m         \u001b[0;32mreturn\u001b[0m \u001b[0mSeriesApply\u001b[0m\u001b[0;34m(\u001b[0m\u001b[0mself\u001b[0m\u001b[0;34m,\u001b[0m \u001b[0mfunc\u001b[0m\u001b[0;34m,\u001b[0m \u001b[0mconvert_dtype\u001b[0m\u001b[0;34m,\u001b[0m \u001b[0margs\u001b[0m\u001b[0;34m,\u001b[0m \u001b[0mkwargs\u001b[0m\u001b[0;34m)\u001b[0m\u001b[0;34m.\u001b[0m\u001b[0mapply\u001b[0m\u001b[0;34m(\u001b[0m\u001b[0;34m)\u001b[0m\u001b[0;34m\u001b[0m\u001b[0;34m\u001b[0m\u001b[0m\n\u001b[0m\u001b[1;32m   4772\u001b[0m \u001b[0;34m\u001b[0m\u001b[0m\n\u001b[1;32m   4773\u001b[0m     def _reduce(\n",
            "\u001b[0;32m/usr/local/lib/python3.10/dist-packages/pandas/core/apply.py\u001b[0m in \u001b[0;36mapply\u001b[0;34m(self)\u001b[0m\n\u001b[1;32m   1121\u001b[0m \u001b[0;34m\u001b[0m\u001b[0m\n\u001b[1;32m   1122\u001b[0m         \u001b[0;31m# self.f is Callable\u001b[0m\u001b[0;34m\u001b[0m\u001b[0;34m\u001b[0m\u001b[0m\n\u001b[0;32m-> 1123\u001b[0;31m         \u001b[0;32mreturn\u001b[0m \u001b[0mself\u001b[0m\u001b[0;34m.\u001b[0m\u001b[0mapply_standard\u001b[0m\u001b[0;34m(\u001b[0m\u001b[0;34m)\u001b[0m\u001b[0;34m\u001b[0m\u001b[0;34m\u001b[0m\u001b[0m\n\u001b[0m\u001b[1;32m   1124\u001b[0m \u001b[0;34m\u001b[0m\u001b[0m\n\u001b[1;32m   1125\u001b[0m     \u001b[0;32mdef\u001b[0m \u001b[0magg\u001b[0m\u001b[0;34m(\u001b[0m\u001b[0mself\u001b[0m\u001b[0;34m)\u001b[0m\u001b[0;34m:\u001b[0m\u001b[0;34m\u001b[0m\u001b[0;34m\u001b[0m\u001b[0m\n",
            "\u001b[0;32m/usr/local/lib/python3.10/dist-packages/pandas/core/apply.py\u001b[0m in \u001b[0;36mapply_standard\u001b[0;34m(self)\u001b[0m\n\u001b[1;32m   1172\u001b[0m             \u001b[0;32melse\u001b[0m\u001b[0;34m:\u001b[0m\u001b[0;34m\u001b[0m\u001b[0;34m\u001b[0m\u001b[0m\n\u001b[1;32m   1173\u001b[0m                 \u001b[0mvalues\u001b[0m \u001b[0;34m=\u001b[0m \u001b[0mobj\u001b[0m\u001b[0;34m.\u001b[0m\u001b[0mastype\u001b[0m\u001b[0;34m(\u001b[0m\u001b[0mobject\u001b[0m\u001b[0;34m)\u001b[0m\u001b[0;34m.\u001b[0m\u001b[0m_values\u001b[0m\u001b[0;34m\u001b[0m\u001b[0;34m\u001b[0m\u001b[0m\n\u001b[0;32m-> 1174\u001b[0;31m                 mapped = lib.map_infer(\n\u001b[0m\u001b[1;32m   1175\u001b[0m                     \u001b[0mvalues\u001b[0m\u001b[0;34m,\u001b[0m\u001b[0;34m\u001b[0m\u001b[0;34m\u001b[0m\u001b[0m\n\u001b[1;32m   1176\u001b[0m                     \u001b[0mf\u001b[0m\u001b[0;34m,\u001b[0m\u001b[0;34m\u001b[0m\u001b[0;34m\u001b[0m\u001b[0m\n",
            "\u001b[0;32m/usr/local/lib/python3.10/dist-packages/pandas/_libs/lib.pyx\u001b[0m in \u001b[0;36mpandas._libs.lib.map_infer\u001b[0;34m()\u001b[0m\n",
            "\u001b[0;32m<ipython-input-48-16c1d835d807>\u001b[0m in \u001b[0;36m<lambda>\u001b[0;34m(x)\u001b[0m\n\u001b[1;32m      1\u001b[0m \u001b[0msample\u001b[0m \u001b[0;34m=\u001b[0m \u001b[0mtweets\u001b[0m\u001b[0;34m.\u001b[0m\u001b[0mhead\u001b[0m\u001b[0;34m(\u001b[0m\u001b[0;36m1000\u001b[0m\u001b[0;34m)\u001b[0m\u001b[0;34m.\u001b[0m\u001b[0mcopy\u001b[0m\u001b[0;34m(\u001b[0m\u001b[0;34m)\u001b[0m\u001b[0;34m\u001b[0m\u001b[0;34m\u001b[0m\u001b[0m\n\u001b[0;32m----> 2\u001b[0;31m \u001b[0msample\u001b[0m\u001b[0;34m[\u001b[0m\u001b[0;34m'polarity'\u001b[0m\u001b[0;34m]\u001b[0m\u001b[0;34m=\u001b[0m\u001b[0msample\u001b[0m\u001b[0;34m[\u001b[0m\u001b[0;34m'text'\u001b[0m\u001b[0;34m]\u001b[0m\u001b[0;34m.\u001b[0m\u001b[0mapply\u001b[0m\u001b[0;34m(\u001b[0m\u001b[0;32mlambda\u001b[0m \u001b[0mx\u001b[0m\u001b[0;34m:\u001b[0m\u001b[0mnlp\u001b[0m\u001b[0;34m(\u001b[0m\u001b[0mx\u001b[0m\u001b[0;34m)\u001b[0m\u001b[0;34m.\u001b[0m\u001b[0m_\u001b[0m\u001b[0;34m.\u001b[0m\u001b[0mblob\u001b[0m\u001b[0;34m.\u001b[0m\u001b[0mpolarity\u001b[0m\u001b[0;34m)\u001b[0m\u001b[0;34m\u001b[0m\u001b[0;34m\u001b[0m\u001b[0m\n\u001b[0m\u001b[1;32m      3\u001b[0m \u001b[0msample\u001b[0m\u001b[0;34m[\u001b[0m \u001b[0;34m'Subjectivity'\u001b[0m\u001b[0;34m]\u001b[0m \u001b[0;34m=\u001b[0m\u001b[0msample\u001b[0m\u001b[0;34m[\u001b[0m\u001b[0;34m' text'\u001b[0m\u001b[0;34m]\u001b[0m\u001b[0;34m.\u001b[0m \u001b[0mapply\u001b[0m\u001b[0;34m(\u001b[0m\u001b[0;32mlambda\u001b[0m \u001b[0mx\u001b[0m\u001b[0;34m:\u001b[0m\u001b[0mnlp\u001b[0m\u001b[0;34m(\u001b[0m\u001b[0mx\u001b[0m\u001b[0;34m)\u001b[0m\u001b[0;34m.\u001b[0m\u001b[0m_\u001b[0m\u001b[0;34m.\u001b[0m\u001b[0mblob\u001b[0m\u001b[0;34m.\u001b[0m\u001b[0msubjectivity\u001b[0m\u001b[0;34m)\u001b[0m\u001b[0;34m\u001b[0m\u001b[0;34m\u001b[0m\u001b[0m\n\u001b[1;32m      4\u001b[0m \u001b[0mfiltered_sample\u001b[0m \u001b[0;34m=\u001b[0m \u001b[0msample\u001b[0m\u001b[0;34m[\u001b[0m\u001b[0;34m(\u001b[0m\u001b[0msample\u001b[0m \u001b[0;34m[\u001b[0m\u001b[0;34m'Subjectivity'\u001b[0m\u001b[0;34m]\u001b[0m \u001b[0;34m<\u001b[0m\u001b[0;36m0.5\u001b[0m\u001b[0;34m)\u001b[0m \u001b[0;34m&\u001b[0m \u001b[0;34m(\u001b[0m\u001b[0msample\u001b[0m\u001b[0;34m[\u001b[0m\u001b[0;34m'Polarity'\u001b[0m\u001b[0;34m]\u001b[0m \u001b[0;34m<\u001b[0m\u001b[0;36m0\u001b[0m\u001b[0;34m)\u001b[0m\u001b[0;34m]\u001b[0m\u001b[0;34m\u001b[0m\u001b[0;34m\u001b[0m\u001b[0m\n",
            "\u001b[0;31mNameError\u001b[0m: name 'nlp' is not defined"
          ]
        }
      ],
      "source": [
        "sample = tweets.head(1000).copy()\n",
        "sample['polarity']=sample['text'].apply(lambda x:nlp(x)._.blob.polarity)\n",
        "sample[ 'Subjectivity'] =sample[' text']. apply(lambda x:nlp(x)._.blob.subjectivity)\n",
        "filtered_sample = sample[(sample ['Subjectivity'] <0.5) & (sample['Polarity'] <0)]"
      ]
    },
    {
      "cell_type": "markdown",
      "metadata": {
        "id": "Ebi_SrpkmyFc"
      },
      "source": [
        "5. Modify the code below to plot the distribution of the #ExxonKnew campaign. Color the points according to sentiment polarity. Only a handful of the tweets have location information, so don't worry if you don't see loads of points."
      ]
    },
    {
      "cell_type": "code",
      "execution_count": 45,
      "metadata": {
        "colab": {
          "base_uri": "https://localhost:8080/",
          "height": 1000
        },
        "id": "za3zlZ95s4jB",
        "outputId": "c1775087-4031-47ee-8aae-30cbe8eb8274"
      },
      "outputs": [
        {
          "output_type": "stream",
          "name": "stdout",
          "text": [
            "Requirement already satisfied: basemap in /usr/local/lib/python3.10/dist-packages (1.3.8)\n",
            "Requirement already satisfied: basemap-data<1.4,>=1.3.2 in /usr/local/lib/python3.10/dist-packages (from basemap) (1.3.2)\n",
            "Requirement already satisfied: pyshp<2.4,>=1.2 in /usr/local/lib/python3.10/dist-packages (from basemap) (2.3.1)\n",
            "Requirement already satisfied: matplotlib<3.8,>=1.5 in /usr/local/lib/python3.10/dist-packages (from basemap) (3.7.1)\n",
            "Requirement already satisfied: pyproj<3.7.0,>=1.9.3 in /usr/local/lib/python3.10/dist-packages (from basemap) (3.6.1)\n",
            "Requirement already satisfied: numpy<1.26,>=1.21 in /usr/local/lib/python3.10/dist-packages (from basemap) (1.23.5)\n",
            "Requirement already satisfied: contourpy>=1.0.1 in /usr/local/lib/python3.10/dist-packages (from matplotlib<3.8,>=1.5->basemap) (1.2.0)\n",
            "Requirement already satisfied: cycler>=0.10 in /usr/local/lib/python3.10/dist-packages (from matplotlib<3.8,>=1.5->basemap) (0.12.1)\n",
            "Requirement already satisfied: fonttools>=4.22.0 in /usr/local/lib/python3.10/dist-packages (from matplotlib<3.8,>=1.5->basemap) (4.46.0)\n",
            "Requirement already satisfied: kiwisolver>=1.0.1 in /usr/local/lib/python3.10/dist-packages (from matplotlib<3.8,>=1.5->basemap) (1.4.5)\n",
            "Requirement already satisfied: packaging>=20.0 in /usr/local/lib/python3.10/dist-packages (from matplotlib<3.8,>=1.5->basemap) (23.2)\n",
            "Requirement already satisfied: pillow>=6.2.0 in /usr/local/lib/python3.10/dist-packages (from matplotlib<3.8,>=1.5->basemap) (9.4.0)\n",
            "Requirement already satisfied: pyparsing>=2.3.1 in /usr/local/lib/python3.10/dist-packages (from matplotlib<3.8,>=1.5->basemap) (3.1.1)\n",
            "Requirement already satisfied: python-dateutil>=2.7 in /usr/local/lib/python3.10/dist-packages (from matplotlib<3.8,>=1.5->basemap) (2.8.2)\n",
            "Requirement already satisfied: certifi in /usr/local/lib/python3.10/dist-packages (from pyproj<3.7.0,>=1.9.3->basemap) (2023.11.17)\n",
            "Requirement already satisfied: six>=1.5 in /usr/local/lib/python3.10/dist-packages (from python-dateutil>=2.7->matplotlib<3.8,>=1.5->basemap) (1.16.0)\n"
          ]
        },
        {
          "output_type": "error",
          "ename": "KeyError",
          "evalue": "ignored",
          "traceback": [
            "\u001b[0;31m---------------------------------------------------------------------------\u001b[0m",
            "\u001b[0;31mKeyError\u001b[0m                                  Traceback (most recent call last)",
            "\u001b[0;32m/usr/local/lib/python3.10/dist-packages/pandas/core/indexes/base.py\u001b[0m in \u001b[0;36mget_loc\u001b[0;34m(self, key, method, tolerance)\u001b[0m\n\u001b[1;32m   3801\u001b[0m             \u001b[0;32mtry\u001b[0m\u001b[0;34m:\u001b[0m\u001b[0;34m\u001b[0m\u001b[0;34m\u001b[0m\u001b[0m\n\u001b[0;32m-> 3802\u001b[0;31m                 \u001b[0;32mreturn\u001b[0m \u001b[0mself\u001b[0m\u001b[0;34m.\u001b[0m\u001b[0m_engine\u001b[0m\u001b[0;34m.\u001b[0m\u001b[0mget_loc\u001b[0m\u001b[0;34m(\u001b[0m\u001b[0mcasted_key\u001b[0m\u001b[0;34m)\u001b[0m\u001b[0;34m\u001b[0m\u001b[0;34m\u001b[0m\u001b[0m\n\u001b[0m\u001b[1;32m   3803\u001b[0m             \u001b[0;32mexcept\u001b[0m \u001b[0mKeyError\u001b[0m \u001b[0;32mas\u001b[0m \u001b[0merr\u001b[0m\u001b[0;34m:\u001b[0m\u001b[0;34m\u001b[0m\u001b[0;34m\u001b[0m\u001b[0m\n",
            "\u001b[0;32m/usr/local/lib/python3.10/dist-packages/pandas/_libs/index.pyx\u001b[0m in \u001b[0;36mpandas._libs.index.IndexEngine.get_loc\u001b[0;34m()\u001b[0m\n",
            "\u001b[0;32m/usr/local/lib/python3.10/dist-packages/pandas/_libs/index.pyx\u001b[0m in \u001b[0;36mpandas._libs.index.IndexEngine.get_loc\u001b[0;34m()\u001b[0m\n",
            "\u001b[0;32mpandas/_libs/hashtable_class_helper.pxi\u001b[0m in \u001b[0;36mpandas._libs.hashtable.PyObjectHashTable.get_item\u001b[0;34m()\u001b[0m\n",
            "\u001b[0;32mpandas/_libs/hashtable_class_helper.pxi\u001b[0m in \u001b[0;36mpandas._libs.hashtable.PyObjectHashTable.get_item\u001b[0;34m()\u001b[0m\n",
            "\u001b[0;31mKeyError\u001b[0m: 'Polarity'",
            "\nThe above exception was the direct cause of the following exception:\n",
            "\u001b[0;31mKeyError\u001b[0m                                  Traceback (most recent call last)",
            "\u001b[0;32m<ipython-input-45-233762e6d66a>\u001b[0m in \u001b[0;36m<cell line: 7>\u001b[0;34m()\u001b[0m\n\u001b[1;32m      8\u001b[0m \u001b[0mx\u001b[0m\u001b[0;34m=\u001b[0m\u001b[0msample\u001b[0m\u001b[0;34m[\u001b[0m\u001b[0;34m'latitude'\u001b[0m\u001b[0;34m]\u001b[0m\u001b[0;34m,\u001b[0m\u001b[0;34m\u001b[0m\u001b[0;34m\u001b[0m\u001b[0m\n\u001b[1;32m      9\u001b[0m \u001b[0my\u001b[0m\u001b[0;34m=\u001b[0m\u001b[0msample\u001b[0m\u001b[0;34m[\u001b[0m \u001b[0;34m'longitude'\u001b[0m\u001b[0;34m]\u001b[0m\u001b[0;34m,\u001b[0m\u001b[0;34m\u001b[0m\u001b[0;34m\u001b[0m\u001b[0m\n\u001b[0;32m---> 10\u001b[0;31m \u001b[0mc\u001b[0m\u001b[0;34m=\u001b[0m\u001b[0msample\u001b[0m \u001b[0;34m[\u001b[0m\u001b[0;34m'Polarity'\u001b[0m\u001b[0;34m]\u001b[0m\u001b[0;34m,\u001b[0m\u001b[0;34m\u001b[0m\u001b[0;34m\u001b[0m\u001b[0m\n\u001b[0m\u001b[1;32m     11\u001b[0m \u001b[0ms\u001b[0m\u001b[0;34m=\u001b[0m\u001b[0;36m100\u001b[0m\u001b[0;34m,\u001b[0m\u001b[0;34m\u001b[0m\u001b[0;34m\u001b[0m\u001b[0m\n\u001b[1;32m     12\u001b[0m \u001b[0mlatlon\u001b[0m\u001b[0;34m=\u001b[0m\u001b[0;32mTrue\u001b[0m\u001b[0;34m,\u001b[0m\u001b[0;34m\u001b[0m\u001b[0;34m\u001b[0m\u001b[0m\n",
            "\u001b[0;32m/usr/local/lib/python3.10/dist-packages/pandas/core/frame.py\u001b[0m in \u001b[0;36m__getitem__\u001b[0;34m(self, key)\u001b[0m\n\u001b[1;32m   3805\u001b[0m             \u001b[0;32mif\u001b[0m \u001b[0mself\u001b[0m\u001b[0;34m.\u001b[0m\u001b[0mcolumns\u001b[0m\u001b[0;34m.\u001b[0m\u001b[0mnlevels\u001b[0m \u001b[0;34m>\u001b[0m \u001b[0;36m1\u001b[0m\u001b[0;34m:\u001b[0m\u001b[0;34m\u001b[0m\u001b[0;34m\u001b[0m\u001b[0m\n\u001b[1;32m   3806\u001b[0m                 \u001b[0;32mreturn\u001b[0m \u001b[0mself\u001b[0m\u001b[0;34m.\u001b[0m\u001b[0m_getitem_multilevel\u001b[0m\u001b[0;34m(\u001b[0m\u001b[0mkey\u001b[0m\u001b[0;34m)\u001b[0m\u001b[0;34m\u001b[0m\u001b[0;34m\u001b[0m\u001b[0m\n\u001b[0;32m-> 3807\u001b[0;31m             \u001b[0mindexer\u001b[0m \u001b[0;34m=\u001b[0m \u001b[0mself\u001b[0m\u001b[0;34m.\u001b[0m\u001b[0mcolumns\u001b[0m\u001b[0;34m.\u001b[0m\u001b[0mget_loc\u001b[0m\u001b[0;34m(\u001b[0m\u001b[0mkey\u001b[0m\u001b[0;34m)\u001b[0m\u001b[0;34m\u001b[0m\u001b[0;34m\u001b[0m\u001b[0m\n\u001b[0m\u001b[1;32m   3808\u001b[0m             \u001b[0;32mif\u001b[0m \u001b[0mis_integer\u001b[0m\u001b[0;34m(\u001b[0m\u001b[0mindexer\u001b[0m\u001b[0;34m)\u001b[0m\u001b[0;34m:\u001b[0m\u001b[0;34m\u001b[0m\u001b[0;34m\u001b[0m\u001b[0m\n\u001b[1;32m   3809\u001b[0m                 \u001b[0mindexer\u001b[0m \u001b[0;34m=\u001b[0m \u001b[0;34m[\u001b[0m\u001b[0mindexer\u001b[0m\u001b[0;34m]\u001b[0m\u001b[0;34m\u001b[0m\u001b[0;34m\u001b[0m\u001b[0m\n",
            "\u001b[0;32m/usr/local/lib/python3.10/dist-packages/pandas/core/indexes/base.py\u001b[0m in \u001b[0;36mget_loc\u001b[0;34m(self, key, method, tolerance)\u001b[0m\n\u001b[1;32m   3802\u001b[0m                 \u001b[0;32mreturn\u001b[0m \u001b[0mself\u001b[0m\u001b[0;34m.\u001b[0m\u001b[0m_engine\u001b[0m\u001b[0;34m.\u001b[0m\u001b[0mget_loc\u001b[0m\u001b[0;34m(\u001b[0m\u001b[0mcasted_key\u001b[0m\u001b[0;34m)\u001b[0m\u001b[0;34m\u001b[0m\u001b[0;34m\u001b[0m\u001b[0m\n\u001b[1;32m   3803\u001b[0m             \u001b[0;32mexcept\u001b[0m \u001b[0mKeyError\u001b[0m \u001b[0;32mas\u001b[0m \u001b[0merr\u001b[0m\u001b[0;34m:\u001b[0m\u001b[0;34m\u001b[0m\u001b[0;34m\u001b[0m\u001b[0m\n\u001b[0;32m-> 3804\u001b[0;31m                 \u001b[0;32mraise\u001b[0m \u001b[0mKeyError\u001b[0m\u001b[0;34m(\u001b[0m\u001b[0mkey\u001b[0m\u001b[0;34m)\u001b[0m \u001b[0;32mfrom\u001b[0m \u001b[0merr\u001b[0m\u001b[0;34m\u001b[0m\u001b[0;34m\u001b[0m\u001b[0m\n\u001b[0m\u001b[1;32m   3805\u001b[0m             \u001b[0;32mexcept\u001b[0m \u001b[0mTypeError\u001b[0m\u001b[0;34m:\u001b[0m\u001b[0;34m\u001b[0m\u001b[0;34m\u001b[0m\u001b[0m\n\u001b[1;32m   3806\u001b[0m                 \u001b[0;31m# If we have a listlike key, _check_indexing_error will raise\u001b[0m\u001b[0;34m\u001b[0m\u001b[0;34m\u001b[0m\u001b[0m\n",
            "\u001b[0;31mKeyError\u001b[0m: 'Polarity'"
          ]
        },
        {
          "output_type": "display_data",
          "data": {
            "text/plain": [
              "<Figure size 640x480 with 1 Axes>"
            ],
            "image/png": "[encoded data removed]"
          },
          "metadata": {}
        }
      ],
      "source": [
        "!pip install basemap\n",
        "import matplotlib. pyplot as plt\n",
        "from mpl_toolkits.basemap import Basemap\n",
        "map = Basemap (projection='mill')\n",
        "map. drawcountries()\n",
        "map.drawcoastlines()\n",
        "map.scatter(\n",
        "x=sample['latitude'],\n",
        "y=sample[ 'longitude'],\n",
        "c=sample ['Polarity'],\n",
        "s=100,\n",
        "latlon=True,\n",
        "vmin=-1,\n",
        "vmax=0)\n",
        "plt. show()"
      ]
    },
    {
      "cell_type": "markdown",
      "metadata": {
        "id": "tFi64dqTqOBZ"
      },
      "source": [
        "*Question:* What country are these tweets located in?"
      ]
    }
  ],
  "metadata": {
    "colab": {
      "collapsed_sections": [
        "9C_kwLPljAY0",
        "J4P2wbX2jAZL",
        "CN8gxS-PjAZ2"
      ],
      "name": "W7. Natural Language Processing - Student Version.ipynb",
      "provenance": []
    },
    "kernelspec": {
      "display_name": "Python 3.9.5 64-bit ('3.9.5')",
      "language": "python",
      "name": "python3"
    },
    "language_info": {
      "codemirror_mode": {
        "name": "ipython",
        "version": 3
      },
      "file_extension": ".py",
      "mimetype": "text/x-python",
      "name": "python",
      "nbconvert_exporter": "python",
      "pygments_lexer": "ipython3",
      "version": "3.9.5"
    },
    "vscode": {
      "interpreter": {
        "hash": "d34fbd810dd9652f8e464616181cf14dbb258b5c046bed5c2f54c6b5e518fed2"
      }
    }
  },
  "nbformat": 4,
  "nbformat_minor": 0
}